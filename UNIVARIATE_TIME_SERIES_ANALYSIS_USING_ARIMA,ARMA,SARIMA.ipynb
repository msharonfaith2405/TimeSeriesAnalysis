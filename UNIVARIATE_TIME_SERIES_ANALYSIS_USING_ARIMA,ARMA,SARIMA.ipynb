{
  "cells": [
    {
      "cell_type": "markdown",
      "id": "10f27021",
      "metadata": {
        "id": "10f27021"
      },
      "source": [
        "## UNIVARIATE TIME SERIES ANALYSIS \n",
        "\n"
      ]
    },
    {
      "cell_type": "markdown",
      "id": "868e4f06",
      "metadata": {
        "id": "868e4f06"
      },
      "source": [
        "### IMPORTING LIBRARIES"
      ]
    },
    {
      "cell_type": "code",
      "execution_count": null,
      "id": "741b15f0",
      "metadata": {
        "id": "741b15f0"
      },
      "outputs": [],
      "source": [
        "import datetime\n",
        "import pandas as pd\n",
        "import numpy as np\n",
        "from sklearn.linear_model import LinearRegression\n",
        "import matplotlib.pyplot as plt\n",
        "import seaborn as sns"
      ]
    },
    {
      "cell_type": "code",
      "execution_count": null,
      "id": "2f2ce84f",
      "metadata": {
        "id": "2f2ce84f"
      },
      "outputs": [],
      "source": [
        "pd.set_option('display.max_columns', None)\n",
        "pd.set_option('display.max_rows', 10)"
      ]
    },
    {
      "cell_type": "markdown",
      "id": "6c461e2b",
      "metadata": {
        "id": "6c461e2b"
      },
      "source": [
        "### IMPORTING DATASET"
      ]
    },
    {
      "cell_type": "code",
      "execution_count": null,
      "id": "dcdf6805",
      "metadata": {
        "id": "dcdf6805",
        "outputId": "78a8f527-b42e-4b6f-8520-484c0b00027a"
      },
      "outputs": [
        {
          "name": "stderr",
          "output_type": "stream",
          "text": [
            "<ipython-input-5-4b9dc79be08a>:2: FutureWarning: The pandas.datetime class is deprecated and will be removed from pandas in a future version. Import from datetime module instead.\n",
            "  dateparse= lambda dates: pd.datetime.strptime(dates,'%d-%m-%Y')\n"
          ]
        }
      ],
      "source": [
        "#IMPORTING THE DATE COLUMN AS A COLUMN OF DATATYPE 'DATE'\n",
        "dateparse= lambda dates: pd.datetime.strptime(dates,'%d-%m-%Y')\n",
        "data=pd.read_csv('MAster_methanol.csv',parse_dates=['Date'],date_parser=dateparse,usecols=['Date','India Price'])"
      ]
    },
    {
      "cell_type": "code",
      "execution_count": null,
      "id": "186acef6",
      "metadata": {
        "id": "186acef6",
        "outputId": "3f0c8e97-61b6-4d07-eb03-e0a9229e535f"
      },
      "outputs": [
        {
          "data": {
            "text/html": [
              "<div>\n",
              "<style scoped>\n",
              "    .dataframe tbody tr th:only-of-type {\n",
              "        vertical-align: middle;\n",
              "    }\n",
              "\n",
              "    .dataframe tbody tr th {\n",
              "        vertical-align: top;\n",
              "    }\n",
              "\n",
              "    .dataframe thead th {\n",
              "        text-align: right;\n",
              "    }\n",
              "</style>\n",
              "<table border=\"1\" class=\"dataframe\">\n",
              "  <thead>\n",
              "    <tr style=\"text-align: right;\">\n",
              "      <th></th>\n",
              "      <th>Date</th>\n",
              "      <th>India Price</th>\n",
              "    </tr>\n",
              "  </thead>\n",
              "  <tbody>\n",
              "    <tr>\n",
              "      <th>0</th>\n",
              "      <td>2005-10-07</td>\n",
              "      <td>240.0</td>\n",
              "    </tr>\n",
              "    <tr>\n",
              "      <th>1</th>\n",
              "      <td>2005-10-14</td>\n",
              "      <td>240.0</td>\n",
              "    </tr>\n",
              "    <tr>\n",
              "      <th>2</th>\n",
              "      <td>2005-10-21</td>\n",
              "      <td>242.5</td>\n",
              "    </tr>\n",
              "    <tr>\n",
              "      <th>3</th>\n",
              "      <td>2005-10-28</td>\n",
              "      <td>242.5</td>\n",
              "    </tr>\n",
              "    <tr>\n",
              "      <th>4</th>\n",
              "      <td>2005-11-04</td>\n",
              "      <td>250.0</td>\n",
              "    </tr>\n",
              "  </tbody>\n",
              "</table>\n",
              "</div>"
            ],
            "text/plain": [
              "        Date  India Price\n",
              "0 2005-10-07        240.0\n",
              "1 2005-10-14        240.0\n",
              "2 2005-10-21        242.5\n",
              "3 2005-10-28        242.5\n",
              "4 2005-11-04        250.0"
            ]
          },
          "execution_count": 6,
          "metadata": {},
          "output_type": "execute_result"
        }
      ],
      "source": [
        "data.head()"
      ]
    },
    {
      "cell_type": "code",
      "execution_count": null,
      "id": "3ebac609",
      "metadata": {
        "id": "3ebac609",
        "outputId": "9e27c298-917e-4c3f-ff9e-cc0a9cb4457c"
      },
      "outputs": [
        {
          "data": {
            "text/plain": [
              "Date           datetime64[ns]\n",
              "India Price           float64\n",
              "dtype: object"
            ]
          },
          "execution_count": 7,
          "metadata": {},
          "output_type": "execute_result"
        }
      ],
      "source": [
        "data.dtypes"
      ]
    },
    {
      "cell_type": "markdown",
      "id": "95b3f090",
      "metadata": {
        "id": "95b3f090"
      },
      "source": [
        "### CONVERTING DATE COLUMN TO INDEX"
      ]
    },
    {
      "cell_type": "code",
      "execution_count": null,
      "id": "f93f9821",
      "metadata": {
        "id": "f93f9821"
      },
      "outputs": [],
      "source": [
        "data.index=pd.to_datetime(data['Date'],format='%d-%m-%Y')"
      ]
    },
    {
      "cell_type": "code",
      "execution_count": null,
      "id": "b76176d2",
      "metadata": {
        "id": "b76176d2",
        "outputId": "6f8cb1bc-7357-462e-96ad-3ec762f6ea8d"
      },
      "outputs": [
        {
          "data": {
            "text/html": [
              "<div>\n",
              "<style scoped>\n",
              "    .dataframe tbody tr th:only-of-type {\n",
              "        vertical-align: middle;\n",
              "    }\n",
              "\n",
              "    .dataframe tbody tr th {\n",
              "        vertical-align: top;\n",
              "    }\n",
              "\n",
              "    .dataframe thead th {\n",
              "        text-align: right;\n",
              "    }\n",
              "</style>\n",
              "<table border=\"1\" class=\"dataframe\">\n",
              "  <thead>\n",
              "    <tr style=\"text-align: right;\">\n",
              "      <th></th>\n",
              "      <th>Date</th>\n",
              "      <th>India Price</th>\n",
              "    </tr>\n",
              "    <tr>\n",
              "      <th>Date</th>\n",
              "      <th></th>\n",
              "      <th></th>\n",
              "    </tr>\n",
              "  </thead>\n",
              "  <tbody>\n",
              "    <tr>\n",
              "      <th>2005-10-07</th>\n",
              "      <td>2005-10-07</td>\n",
              "      <td>240.0</td>\n",
              "    </tr>\n",
              "    <tr>\n",
              "      <th>2005-10-14</th>\n",
              "      <td>2005-10-14</td>\n",
              "      <td>240.0</td>\n",
              "    </tr>\n",
              "    <tr>\n",
              "      <th>2005-10-21</th>\n",
              "      <td>2005-10-21</td>\n",
              "      <td>242.5</td>\n",
              "    </tr>\n",
              "    <tr>\n",
              "      <th>2005-10-28</th>\n",
              "      <td>2005-10-28</td>\n",
              "      <td>242.5</td>\n",
              "    </tr>\n",
              "    <tr>\n",
              "      <th>2005-11-04</th>\n",
              "      <td>2005-11-04</td>\n",
              "      <td>250.0</td>\n",
              "    </tr>\n",
              "  </tbody>\n",
              "</table>\n",
              "</div>"
            ],
            "text/plain": [
              "                 Date  India Price\n",
              "Date                              \n",
              "2005-10-07 2005-10-07        240.0\n",
              "2005-10-14 2005-10-14        240.0\n",
              "2005-10-21 2005-10-21        242.5\n",
              "2005-10-28 2005-10-28        242.5\n",
              "2005-11-04 2005-11-04        250.0"
            ]
          },
          "execution_count": 13,
          "metadata": {},
          "output_type": "execute_result"
        }
      ],
      "source": [
        "data.head()"
      ]
    },
    {
      "cell_type": "code",
      "execution_count": null,
      "id": "53f071f3",
      "metadata": {
        "id": "53f071f3",
        "outputId": "87c2178d-c3fb-4b8d-e21b-94db19d480c6"
      },
      "outputs": [
        {
          "data": {
            "text/plain": [
              "DatetimeIndex(['2005-10-07', '2005-10-14', '2005-10-21', '2005-10-28',\n",
              "               '2005-11-04', '2005-11-11', '2005-11-18', '2005-11-25',\n",
              "               '2005-12-02', '2005-12-09',\n",
              "               ...\n",
              "               '2021-02-19', '2021-02-26', '2021-03-05', '2021-03-12',\n",
              "               '2021-03-19', '2021-03-26', '2021-04-02', '2021-04-09',\n",
              "               '2021-04-16', '2021-04-23'],\n",
              "              dtype='datetime64[ns]', name='Date', length=796, freq=None)"
            ]
          },
          "execution_count": 14,
          "metadata": {},
          "output_type": "execute_result"
        }
      ],
      "source": [
        "data.index"
      ]
    },
    {
      "cell_type": "code",
      "execution_count": null,
      "id": "463c0d1a",
      "metadata": {
        "id": "463c0d1a"
      },
      "outputs": [],
      "source": [
        "del data['Date']"
      ]
    },
    {
      "cell_type": "code",
      "execution_count": null,
      "id": "aa0cd767",
      "metadata": {
        "id": "aa0cd767",
        "outputId": "1e51c00f-dcbe-4155-f515-1748c8c0779a"
      },
      "outputs": [
        {
          "data": {
            "text/html": [
              "<div>\n",
              "<style scoped>\n",
              "    .dataframe tbody tr th:only-of-type {\n",
              "        vertical-align: middle;\n",
              "    }\n",
              "\n",
              "    .dataframe tbody tr th {\n",
              "        vertical-align: top;\n",
              "    }\n",
              "\n",
              "    .dataframe thead th {\n",
              "        text-align: right;\n",
              "    }\n",
              "</style>\n",
              "<table border=\"1\" class=\"dataframe\">\n",
              "  <thead>\n",
              "    <tr style=\"text-align: right;\">\n",
              "      <th></th>\n",
              "      <th>India Price</th>\n",
              "    </tr>\n",
              "    <tr>\n",
              "      <th>Date</th>\n",
              "      <th></th>\n",
              "    </tr>\n",
              "  </thead>\n",
              "  <tbody>\n",
              "    <tr>\n",
              "      <th>2005-10-07</th>\n",
              "      <td>240.0</td>\n",
              "    </tr>\n",
              "    <tr>\n",
              "      <th>2005-10-14</th>\n",
              "      <td>240.0</td>\n",
              "    </tr>\n",
              "    <tr>\n",
              "      <th>2005-10-21</th>\n",
              "      <td>242.5</td>\n",
              "    </tr>\n",
              "    <tr>\n",
              "      <th>2005-10-28</th>\n",
              "      <td>242.5</td>\n",
              "    </tr>\n",
              "    <tr>\n",
              "      <th>2005-11-04</th>\n",
              "      <td>250.0</td>\n",
              "    </tr>\n",
              "    <tr>\n",
              "      <th>...</th>\n",
              "      <td>...</td>\n",
              "    </tr>\n",
              "    <tr>\n",
              "      <th>2021-03-26</th>\n",
              "      <td>274.0</td>\n",
              "    </tr>\n",
              "    <tr>\n",
              "      <th>2021-04-02</th>\n",
              "      <td>274.0</td>\n",
              "    </tr>\n",
              "    <tr>\n",
              "      <th>2021-04-09</th>\n",
              "      <td>276.0</td>\n",
              "    </tr>\n",
              "    <tr>\n",
              "      <th>2021-04-16</th>\n",
              "      <td>275.0</td>\n",
              "    </tr>\n",
              "    <tr>\n",
              "      <th>2021-04-23</th>\n",
              "      <td>275.0</td>\n",
              "    </tr>\n",
              "  </tbody>\n",
              "</table>\n",
              "<p>796 rows × 1 columns</p>\n",
              "</div>"
            ],
            "text/plain": [
              "            India Price\n",
              "Date                   \n",
              "2005-10-07        240.0\n",
              "2005-10-14        240.0\n",
              "2005-10-21        242.5\n",
              "2005-10-28        242.5\n",
              "2005-11-04        250.0\n",
              "...                 ...\n",
              "2021-03-26        274.0\n",
              "2021-04-02        274.0\n",
              "2021-04-09        276.0\n",
              "2021-04-16        275.0\n",
              "2021-04-23        275.0\n",
              "\n",
              "[796 rows x 1 columns]"
            ]
          },
          "execution_count": 16,
          "metadata": {},
          "output_type": "execute_result"
        }
      ],
      "source": [
        "data"
      ]
    },
    {
      "cell_type": "code",
      "execution_count": null,
      "id": "0ad0fe13",
      "metadata": {
        "id": "0ad0fe13",
        "outputId": "0df9e601-1905-4e14-8412-54e5940e7cac"
      },
      "outputs": [
        {
          "data": {
            "text/plain": [
              "[<matplotlib.lines.Line2D at 0x1aca0939340>]"
            ]
          },
          "execution_count": 19,
          "metadata": {},
          "output_type": "execute_result"
        },
        {
          "data": {
            "image/png": "[encoded data removed]",
            "text/plain": [
              "<Figure size 432x288 with 1 Axes>"
            ]
          },
          "metadata": {
            "needs_background": "light"
          },
          "output_type": "display_data"
        }
      ],
      "source": [
        "plt.plot(data.index, data['India Price'] )"
      ]
    },
    {
      "cell_type": "markdown",
      "id": "c0ffe560",
      "metadata": {
        "id": "c0ffe560"
      },
      "source": [
        "### STATIONARITY CHECK"
      ]
    },
    {
      "cell_type": "code",
      "execution_count": null,
      "id": "96ea0763",
      "metadata": {
        "id": "96ea0763"
      },
      "outputs": [],
      "source": [
        "#CALCULATING THE TRENS,SEASONALITY AND RESIDUALS\n",
        "from statsmodels.tsa.seasonal import seasonal_decompose\n",
        "decomposition=seasonal_decompose(data,period=1)\n"
      ]
    },
    {
      "cell_type": "code",
      "execution_count": null,
      "id": "25655099",
      "metadata": {
        "id": "25655099"
      },
      "outputs": [],
      "source": [
        "trend=decomposition.trend\n",
        "seasonal=decomposition.seasonal\n",
        "residual=decomposition.resid"
      ]
    },
    {
      "cell_type": "code",
      "execution_count": null,
      "id": "e424e656",
      "metadata": {
        "id": "e424e656",
        "outputId": "a6f4ec6c-f55e-4329-e15c-d900d3e8c2dd"
      },
      "outputs": [
        {
          "data": {
            "image/png": "[encoded data removed]",
            "text/plain": [
              "<Figure size 432x288 with 4 Axes>"
            ]
          },
          "metadata": {
            "needs_background": "light"
          },
          "output_type": "display_data"
        }
      ],
      "source": [
        "plt.subplot(411)\n",
        "plt.plot(data,label='Original')\n",
        "plt.legend(loc='best')\n",
        "plt.subplot(412)\n",
        "plt.plot(trend,label='Trend')\n",
        "plt.legend(loc='best')\n",
        "plt.subplot(413)\n",
        "plt.plot(seasonal,label='Seasonal')\n",
        "plt.legend(loc='best')\n",
        "plt.subplot(414)\n",
        "plt.plot(residual,label='Residual')\n",
        "plt.legend(loc='best')\n",
        "plt.tight_layout()"
      ]
    },
    {
      "cell_type": "markdown",
      "id": "48c5b098",
      "metadata": {
        "id": "48c5b098"
      },
      "source": [
        "THE ABOVE ANALYSIS CONCLUDES THAT THE DATA HAS ONLY TREND,NO SEASONALITY"
      ]
    },
    {
      "cell_type": "markdown",
      "id": "fa937ac1",
      "metadata": {
        "id": "fa937ac1"
      },
      "source": [
        "### DICKEY ADFULLER TEST"
      ]
    },
    {
      "cell_type": "code",
      "execution_count": null,
      "id": "e392438d",
      "metadata": {
        "id": "e392438d"
      },
      "outputs": [],
      "source": [
        "from statsmodels.tsa.stattools import adfuller"
      ]
    },
    {
      "cell_type": "code",
      "execution_count": null,
      "id": "dcdc19a4",
      "metadata": {
        "id": "dcdc19a4",
        "outputId": "69601490-3a94-4957-959e-0259c730d29c"
      },
      "outputs": [
        {
          "name": "stdout",
          "output_type": "stream",
          "text": [
            "p-value: 0.00013187182416350931\n"
          ]
        }
      ],
      "source": [
        "adftest=adfuller(data)\n",
        "print(\"p-value:\",adftest[1])"
      ]
    },
    {
      "cell_type": "markdown",
      "id": "f7e38753",
      "metadata": {
        "id": "f7e38753"
      },
      "source": [
        "### SPLITTING DATA INTO TRAIN AND TEST TEST"
      ]
    },
    {
      "cell_type": "code",
      "execution_count": null,
      "id": "acbe715c",
      "metadata": {
        "id": "acbe715c"
      },
      "outputs": [],
      "source": [
        " train=data[data.index<pd.to_datetime(\"01-11-2018\",format='%d-%m-%Y')]\n",
        " test=data[data.index>pd.to_datetime(\"01-11-2018\",format='%d-%m-%Y')]"
      ]
    },
    {
      "cell_type": "code",
      "execution_count": null,
      "id": "8ede8c8f",
      "metadata": {
        "id": "8ede8c8f",
        "outputId": "62acd27d-c22b-4ad3-f3f9-b807cc6a4546"
      },
      "outputs": [
        {
          "data": {
            "text/plain": [
              "670"
            ]
          },
          "execution_count": 30,
          "metadata": {},
          "output_type": "execute_result"
        }
      ],
      "source": [
        "len(train)"
      ]
    },
    {
      "cell_type": "code",
      "execution_count": null,
      "id": "3add4e05",
      "metadata": {
        "id": "3add4e05",
        "outputId": "98005078-cbc6-454d-9aba-a46ed80dc96d"
      },
      "outputs": [
        {
          "data": {
            "text/html": [
              "<div>\n",
              "<style scoped>\n",
              "    .dataframe tbody tr th:only-of-type {\n",
              "        vertical-align: middle;\n",
              "    }\n",
              "\n",
              "    .dataframe tbody tr th {\n",
              "        vertical-align: top;\n",
              "    }\n",
              "\n",
              "    .dataframe thead th {\n",
              "        text-align: right;\n",
              "    }\n",
              "</style>\n",
              "<table border=\"1\" class=\"dataframe\">\n",
              "  <thead>\n",
              "    <tr style=\"text-align: right;\">\n",
              "      <th></th>\n",
              "      <th>India Price</th>\n",
              "    </tr>\n",
              "    <tr>\n",
              "      <th>Date</th>\n",
              "      <th></th>\n",
              "    </tr>\n",
              "  </thead>\n",
              "  <tbody>\n",
              "    <tr>\n",
              "      <th>2005-10-07</th>\n",
              "      <td>240.0</td>\n",
              "    </tr>\n",
              "    <tr>\n",
              "      <th>2005-10-14</th>\n",
              "      <td>240.0</td>\n",
              "    </tr>\n",
              "    <tr>\n",
              "      <th>2005-10-21</th>\n",
              "      <td>242.5</td>\n",
              "    </tr>\n",
              "    <tr>\n",
              "      <th>2005-10-28</th>\n",
              "      <td>242.5</td>\n",
              "    </tr>\n",
              "    <tr>\n",
              "      <th>2005-11-04</th>\n",
              "      <td>250.0</td>\n",
              "    </tr>\n",
              "  </tbody>\n",
              "</table>\n",
              "</div>"
            ],
            "text/plain": [
              "            India Price\n",
              "Date                   \n",
              "2005-10-07        240.0\n",
              "2005-10-14        240.0\n",
              "2005-10-21        242.5\n",
              "2005-10-28        242.5\n",
              "2005-11-04        250.0"
            ]
          },
          "execution_count": 31,
          "metadata": {},
          "output_type": "execute_result"
        }
      ],
      "source": [
        "train.head()"
      ]
    },
    {
      "cell_type": "code",
      "execution_count": null,
      "id": "2d59cdcc",
      "metadata": {
        "id": "2d59cdcc",
        "outputId": "63843d98-83e6-4c16-ae85-cff4f6189118"
      },
      "outputs": [
        {
          "data": {
            "text/html": [
              "<div>\n",
              "<style scoped>\n",
              "    .dataframe tbody tr th:only-of-type {\n",
              "        vertical-align: middle;\n",
              "    }\n",
              "\n",
              "    .dataframe tbody tr th {\n",
              "        vertical-align: top;\n",
              "    }\n",
              "\n",
              "    .dataframe thead th {\n",
              "        text-align: right;\n",
              "    }\n",
              "</style>\n",
              "<table border=\"1\" class=\"dataframe\">\n",
              "  <thead>\n",
              "    <tr style=\"text-align: right;\">\n",
              "      <th></th>\n",
              "      <th>India Price</th>\n",
              "    </tr>\n",
              "    <tr>\n",
              "      <th>Date</th>\n",
              "      <th></th>\n",
              "    </tr>\n",
              "  </thead>\n",
              "  <tbody>\n",
              "    <tr>\n",
              "      <th>2018-11-02</th>\n",
              "      <td>430.0</td>\n",
              "    </tr>\n",
              "    <tr>\n",
              "      <th>2018-11-09</th>\n",
              "      <td>390.0</td>\n",
              "    </tr>\n",
              "    <tr>\n",
              "      <th>2018-11-16</th>\n",
              "      <td>340.0</td>\n",
              "    </tr>\n",
              "    <tr>\n",
              "      <th>2018-11-23</th>\n",
              "      <td>284.0</td>\n",
              "    </tr>\n",
              "    <tr>\n",
              "      <th>2018-11-30</th>\n",
              "      <td>267.0</td>\n",
              "    </tr>\n",
              "  </tbody>\n",
              "</table>\n",
              "</div>"
            ],
            "text/plain": [
              "            India Price\n",
              "Date                   \n",
              "2018-11-02        430.0\n",
              "2018-11-09        390.0\n",
              "2018-11-16        340.0\n",
              "2018-11-23        284.0\n",
              "2018-11-30        267.0"
            ]
          },
          "execution_count": 32,
          "metadata": {},
          "output_type": "execute_result"
        }
      ],
      "source": [
        "test.head()"
      ]
    },
    {
      "cell_type": "code",
      "execution_count": null,
      "id": "1e1e4411",
      "metadata": {
        "id": "1e1e4411",
        "outputId": "01528d2c-a4ee-40d0-ff9c-8c35fb192d58"
      },
      "outputs": [
        {
          "data": {
            "image/png": "[encoded data removed]",
            "text/plain": [
              "<Figure size 432x288 with 1 Axes>"
            ]
          },
          "metadata": {
            "needs_background": "light"
          },
          "output_type": "display_data"
        }
      ],
      "source": [
        "#PLOTTING TRAIN AND TEST SET\n",
        "plt.plot(train,color='black')\n",
        "plt.plot(test,color='red')\n",
        "plt.xlabel('Date')\n",
        "plt.ylabel('Price in Rs.')\n",
        "plt.title('Train/Test Splitting for Methanol Data')\n",
        "plt.show()"
      ]
    },
    {
      "cell_type": "markdown",
      "id": "0c01a9b0",
      "metadata": {
        "id": "0c01a9b0"
      },
      "source": [
        "### CALCULATING p,q VALUES FROM ACF AND PACF PLOTS"
      ]
    },
    {
      "cell_type": "code",
      "execution_count": null,
      "id": "4acec0b0",
      "metadata": {
        "id": "4acec0b0"
      },
      "outputs": [],
      "source": [
        "#ACF AND PACF PLOTS\n",
        "from statsmodels.tsa.arima_model import ARIMA\n",
        "from statsmodels.graphics.tsaplots import plot_acf,plot_pacf"
      ]
    },
    {
      "cell_type": "code",
      "execution_count": null,
      "id": "096dd268",
      "metadata": {
        "id": "096dd268",
        "outputId": "5e405776-54f7-4320-d628-80d954835337"
      },
      "outputs": [
        {
          "data": {
            "image/png": "[encoded data removed]",
            "text/plain": [
              "<Figure size 432x288 with 1 Axes>"
            ]
          },
          "metadata": {
            "needs_background": "light"
          },
          "output_type": "display_data"
        }
      ],
      "source": [
        "acf_plot=plot_acf(train,lags=10)  #p=1,2,3,4,5..."
      ]
    },
    {
      "cell_type": "code",
      "execution_count": null,
      "id": "0a545874",
      "metadata": {
        "id": "0a545874",
        "outputId": "056c8a2f-7bc8-4250-c74c-e7e6659bbdc6"
      },
      "outputs": [
        {
          "data": {
            "image/png": "[encoded data removed]",
            "text/plain": [
              "<Figure size 432x288 with 1 Axes>"
            ]
          },
          "metadata": {
            "needs_background": "light"
          },
          "output_type": "display_data"
        }
      ],
      "source": [
        "pacf_plot=plot_pacf(train) #q- 1,2,3,5"
      ]
    },
    {
      "cell_type": "markdown",
      "id": "86b3a0bd",
      "metadata": {
        "id": "86b3a0bd"
      },
      "source": [
        "The p value from the PACF function is 1\n",
        "\n",
        "The q value from the ACF function is 1"
      ]
    },
    {
      "cell_type": "markdown",
      "id": "3ead85ac",
      "metadata": {
        "id": "3ead85ac"
      },
      "source": [
        "### ARIMA MODEL (AUTO-REGRESSIVE INTEGRATED MOVING AVERAGE)"
      ]
    },
    {
      "cell_type": "code",
      "execution_count": null,
      "id": "b8871c63",
      "metadata": {
        "id": "b8871c63",
        "outputId": "a1288601-1b13-483a-8401-43e9cafb4f1e"
      },
      "outputs": [
        {
          "name": "stderr",
          "output_type": "stream",
          "text": [
            "C:\\Users\\Sharon\\anaconda3\\lib\\site-packages\\statsmodels\\tsa\\arima_model.py:472: FutureWarning: \n",
            "statsmodels.tsa.arima_model.ARMA and statsmodels.tsa.arima_model.ARIMA have\n",
            "been deprecated in favor of statsmodels.tsa.arima.model.ARIMA (note the .\n",
            "between arima and model) and\n",
            "statsmodels.tsa.SARIMAX. These will be removed after the 0.12 release.\n",
            "\n",
            "statsmodels.tsa.arima.model.ARIMA makes use of the statespace framework and\n",
            "is both well tested and maintained.\n",
            "\n",
            "To silence this warning and continue using ARMA and ARIMA until they are\n",
            "removed, use:\n",
            "\n",
            "import warnings\n",
            "warnings.filterwarnings('ignore', 'statsmodels.tsa.arima_model.ARMA',\n",
            "                        FutureWarning)\n",
            "warnings.filterwarnings('ignore', 'statsmodels.tsa.arima_model.ARIMA',\n",
            "                        FutureWarning)\n",
            "\n",
            "  warnings.warn(ARIMA_DEPRECATION_WARN, FutureWarning)\n",
            "C:\\Users\\Sharon\\anaconda3\\lib\\site-packages\\statsmodels\\tsa\\base\\tsa_model.py:581: ValueWarning: A date index has been provided, but it has no associated frequency information and so will be ignored when e.g. forecasting.\n",
            "  warnings.warn('A date index has been provided, but it has no'\n",
            "C:\\Users\\Sharon\\anaconda3\\lib\\site-packages\\statsmodels\\tsa\\base\\tsa_model.py:376: ValueWarning: No supported index is available. Prediction results will be given with an integer index beginning at `start`.\n",
            "  warnings.warn('No supported index is available.'\n"
          ]
        }
      ],
      "source": [
        "#ARIMA(train,order=(p,d,q))\n",
        "#d(diffrentiation) is always 0 for ARIMA  as there is no Seasonal Correction\n",
        "ARIMAmodel = ARIMA(train, order = (1, 0, 1))\n",
        "ARIMAmodel = ARIMAmodel.fit()\n",
        "#PREDICTING USING ARIMA MODEL\n",
        "pred_arima=ARIMAmodel.predict(start=len(train),end=(len(data)-1))\n",
        "pred_arima.index=test.index"
      ]
    },
    {
      "cell_type": "code",
      "execution_count": null,
      "id": "4f2fea1c",
      "metadata": {
        "id": "4f2fea1c",
        "outputId": "87a4270f-dfff-4332-a664-27669c16b297"
      },
      "outputs": [
        {
          "data": {
            "text/plain": [
              "Date\n",
              "2018-11-02    445.934665\n",
              "2018-11-09    443.231555\n",
              "2018-11-16    440.584838\n",
              "2018-11-23    437.993338\n",
              "2018-11-30    435.455902\n",
              "dtype: float64"
            ]
          },
          "execution_count": 45,
          "metadata": {},
          "output_type": "execute_result"
        }
      ],
      "source": [
        "pred_arima.head()"
      ]
    },
    {
      "cell_type": "code",
      "execution_count": null,
      "id": "c7107168",
      "metadata": {
        "id": "c7107168",
        "outputId": "c433503e-f0e9-48be-ee15-73978e96a4a0"
      },
      "outputs": [
        {
          "data": {
            "text/plain": [
              "[<matplotlib.lines.Line2D at 0x1aca0f5c2e0>]"
            ]
          },
          "execution_count": 46,
          "metadata": {},
          "output_type": "execute_result"
        },
        {
          "data": {
            "image/png": "[encoded data removed]",
            "text/plain": [
              "<Figure size 432x288 with 1 Axes>"
            ]
          },
          "metadata": {
            "needs_background": "light"
          },
          "output_type": "display_data"
        }
      ],
      "source": [
        "plt.plot(test)"
      ]
    },
    {
      "cell_type": "markdown",
      "id": "6377630f",
      "metadata": {
        "id": "6377630f"
      },
      "source": [
        "### CALCULATING RMSE (ROOT MEAN-SQUARE ERROR)"
      ]
    },
    {
      "cell_type": "code",
      "execution_count": null,
      "id": "751c44a4",
      "metadata": {
        "id": "751c44a4",
        "outputId": "fd649142-2038-4fe2-c9d0-7ff2d99e1354"
      },
      "outputs": [
        {
          "data": {
            "text/plain": [
              "141.50164383346285"
            ]
          },
          "execution_count": 47,
          "metadata": {},
          "output_type": "execute_result"
        }
      ],
      "source": [
        "from sklearn.metrics import mean_squared_error\n",
        "error_arima=np.sqrt(mean_squared_error(test,pred_arima))\n",
        "error_arima"
      ]
    },
    {
      "cell_type": "code",
      "execution_count": null,
      "id": "9efc34e3",
      "metadata": {
        "id": "9efc34e3",
        "outputId": "84e3e5fe-3749-4ec4-d835-e997efc3bc3a"
      },
      "outputs": [
        {
          "data": {
            "text/plain": [
              "pandas.core.frame.DataFrame"
            ]
          },
          "execution_count": 48,
          "metadata": {},
          "output_type": "execute_result"
        }
      ],
      "source": [
        "type(data)"
      ]
    },
    {
      "cell_type": "code",
      "execution_count": null,
      "id": "7e49d0ad",
      "metadata": {
        "id": "7e49d0ad",
        "outputId": "e4da8aa3-a10f-4cb5-9cc3-e9ade85deeae"
      },
      "outputs": [
        {
          "data": {
            "text/plain": [
              "(India Price    229.130952\n",
              " dtype: float64,\n",
              " India Price    56.932387\n",
              " dtype: float64)"
            ]
          },
          "execution_count": 243,
          "metadata": {},
          "output_type": "execute_result"
        }
      ],
      "source": [
        "test.mean(),np.sqrt(test.var())"
      ]
    },
    {
      "cell_type": "code",
      "execution_count": null,
      "id": "98eb31af",
      "metadata": {
        "id": "98eb31af",
        "outputId": "b75c0c5e-abfe-488c-afef-6debd82dc2e8"
      },
      "outputs": [
        {
          "data": {
            "text/plain": [
              "Date\n",
              "2018-11-02    430.0\n",
              "2018-11-09    390.0\n",
              "2018-11-16    340.0\n",
              "2018-11-23    284.0\n",
              "2018-11-30    267.0\n",
              "              ...  \n",
              "2021-03-26    274.0\n",
              "2021-04-02    274.0\n",
              "2021-04-09    276.0\n",
              "2021-04-16    275.0\n",
              "2021-04-23    275.0\n",
              "Name: India Price, Length: 126, dtype: float64"
            ]
          },
          "execution_count": 53,
          "metadata": {},
          "output_type": "execute_result"
        }
      ],
      "source": [
        "test['India Price']"
      ]
    },
    {
      "cell_type": "code",
      "execution_count": null,
      "id": "6af3f46e",
      "metadata": {
        "id": "6af3f46e"
      },
      "outputs": [],
      "source": [
        "df=pd.DataFrame({'Actual Values':test['India Price'],'Forecast Price':pred_arima})"
      ]
    },
    {
      "cell_type": "code",
      "execution_count": null,
      "id": "6162a0e3",
      "metadata": {
        "id": "6162a0e3",
        "outputId": "fa43f51a-6871-45a9-9c2c-5e94714e61df"
      },
      "outputs": [
        {
          "data": {
            "text/plain": [
              "pandas.core.frame.DataFrame"
            ]
          },
          "execution_count": 54,
          "metadata": {},
          "output_type": "execute_result"
        }
      ],
      "source": [
        "type(test)"
      ]
    },
    {
      "cell_type": "code",
      "execution_count": null,
      "id": "07145467",
      "metadata": {
        "id": "07145467",
        "outputId": "642da0f7-fa3b-424e-d1bf-92a0bb780a4e"
      },
      "outputs": [
        {
          "data": {
            "text/plain": [
              "pandas.core.series.Series"
            ]
          },
          "execution_count": 246,
          "metadata": {},
          "output_type": "execute_result"
        }
      ],
      "source": [
        "type(pred_arima)"
      ]
    },
    {
      "cell_type": "code",
      "execution_count": null,
      "id": "997eb6ed",
      "metadata": {
        "id": "997eb6ed",
        "outputId": "8fd2293b-b144-420f-a6d4-fbbef544e3bf"
      },
      "outputs": [
        {
          "data": {
            "text/plain": [
              "Date\n",
              "2018-11-02    445.934326\n",
              "2018-11-09    443.230781\n",
              "2018-11-16    440.583640\n",
              "2018-11-23    437.991725\n",
              "2018-11-30    435.453885\n",
              "                 ...    \n",
              "2021-03-26    326.454018\n",
              "2021-04-02    326.243150\n",
              "2021-04-09    326.036681\n",
              "2021-04-16    325.834519\n",
              "2021-04-23    325.636576\n",
              "Length: 126, dtype: float64"
            ]
          },
          "execution_count": 247,
          "metadata": {},
          "output_type": "execute_result"
        }
      ],
      "source": [
        "pred_arima"
      ]
    },
    {
      "cell_type": "code",
      "execution_count": null,
      "id": "c501110e",
      "metadata": {
        "id": "c501110e",
        "outputId": "3c4b6b09-cc76-4b81-baf1-f3b310c56a80"
      },
      "outputs": [
        {
          "data": {
            "text/html": [
              "<div>\n",
              "<style scoped>\n",
              "    .dataframe tbody tr th:only-of-type {\n",
              "        vertical-align: middle;\n",
              "    }\n",
              "\n",
              "    .dataframe tbody tr th {\n",
              "        vertical-align: top;\n",
              "    }\n",
              "\n",
              "    .dataframe thead th {\n",
              "        text-align: right;\n",
              "    }\n",
              "</style>\n",
              "<table border=\"1\" class=\"dataframe\">\n",
              "  <thead>\n",
              "    <tr style=\"text-align: right;\">\n",
              "      <th></th>\n",
              "      <th>India Price</th>\n",
              "    </tr>\n",
              "    <tr>\n",
              "      <th>Date</th>\n",
              "      <th></th>\n",
              "    </tr>\n",
              "  </thead>\n",
              "  <tbody>\n",
              "    <tr>\n",
              "      <th>2018-11-02</th>\n",
              "      <td>430.0</td>\n",
              "    </tr>\n",
              "    <tr>\n",
              "      <th>2018-11-09</th>\n",
              "      <td>390.0</td>\n",
              "    </tr>\n",
              "    <tr>\n",
              "      <th>2018-11-16</th>\n",
              "      <td>340.0</td>\n",
              "    </tr>\n",
              "    <tr>\n",
              "      <th>2018-11-23</th>\n",
              "      <td>284.0</td>\n",
              "    </tr>\n",
              "    <tr>\n",
              "      <th>2018-11-30</th>\n",
              "      <td>267.0</td>\n",
              "    </tr>\n",
              "  </tbody>\n",
              "</table>\n",
              "</div>"
            ],
            "text/plain": [
              "            India Price\n",
              "Date                   \n",
              "2018-11-02        430.0\n",
              "2018-11-09        390.0\n",
              "2018-11-16        340.0\n",
              "2018-11-23        284.0\n",
              "2018-11-30        267.0"
            ]
          },
          "execution_count": 55,
          "metadata": {},
          "output_type": "execute_result"
        }
      ],
      "source": [
        "test.head()"
      ]
    },
    {
      "cell_type": "markdown",
      "id": "4edfeffd",
      "metadata": {
        "id": "4edfeffd"
      },
      "source": [
        "THE DATAFRAME CONSISTING OF ACTUAL PRICE AND PREDICTED VALUES OF INDIA PRICE"
      ]
    },
    {
      "cell_type": "code",
      "execution_count": null,
      "id": "2c5e892a",
      "metadata": {
        "id": "2c5e892a",
        "outputId": "afdeb67f-a764-42be-834f-7e20490e9b1c"
      },
      "outputs": [
        {
          "data": {
            "text/html": [
              "<div>\n",
              "<style scoped>\n",
              "    .dataframe tbody tr th:only-of-type {\n",
              "        vertical-align: middle;\n",
              "    }\n",
              "\n",
              "    .dataframe tbody tr th {\n",
              "        vertical-align: top;\n",
              "    }\n",
              "\n",
              "    .dataframe thead th {\n",
              "        text-align: right;\n",
              "    }\n",
              "</style>\n",
              "<table border=\"1\" class=\"dataframe\">\n",
              "  <thead>\n",
              "    <tr style=\"text-align: right;\">\n",
              "      <th></th>\n",
              "      <th>Actual Values</th>\n",
              "      <th>Forecast Price</th>\n",
              "    </tr>\n",
              "    <tr>\n",
              "      <th>Date</th>\n",
              "      <th></th>\n",
              "      <th></th>\n",
              "    </tr>\n",
              "  </thead>\n",
              "  <tbody>\n",
              "    <tr>\n",
              "      <th>2018-11-02</th>\n",
              "      <td>430.0</td>\n",
              "      <td>445.934665</td>\n",
              "    </tr>\n",
              "    <tr>\n",
              "      <th>2018-11-09</th>\n",
              "      <td>390.0</td>\n",
              "      <td>443.231555</td>\n",
              "    </tr>\n",
              "    <tr>\n",
              "      <th>2018-11-16</th>\n",
              "      <td>340.0</td>\n",
              "      <td>440.584838</td>\n",
              "    </tr>\n",
              "    <tr>\n",
              "      <th>2018-11-23</th>\n",
              "      <td>284.0</td>\n",
              "      <td>437.993338</td>\n",
              "    </tr>\n",
              "    <tr>\n",
              "      <th>2018-11-30</th>\n",
              "      <td>267.0</td>\n",
              "      <td>435.455902</td>\n",
              "    </tr>\n",
              "    <tr>\n",
              "      <th>...</th>\n",
              "      <td>...</td>\n",
              "      <td>...</td>\n",
              "    </tr>\n",
              "    <tr>\n",
              "      <th>2021-03-26</th>\n",
              "      <td>274.0</td>\n",
              "      <td>326.471794</td>\n",
              "    </tr>\n",
              "    <tr>\n",
              "      <th>2021-04-02</th>\n",
              "      <td>274.0</td>\n",
              "      <td>326.260950</td>\n",
              "    </tr>\n",
              "    <tr>\n",
              "      <th>2021-04-09</th>\n",
              "      <td>276.0</td>\n",
              "      <td>326.054504</td>\n",
              "    </tr>\n",
              "    <tr>\n",
              "      <th>2021-04-16</th>\n",
              "      <td>275.0</td>\n",
              "      <td>325.852365</td>\n",
              "    </tr>\n",
              "    <tr>\n",
              "      <th>2021-04-23</th>\n",
              "      <td>275.0</td>\n",
              "      <td>325.654443</td>\n",
              "    </tr>\n",
              "  </tbody>\n",
              "</table>\n",
              "<p>126 rows × 2 columns</p>\n",
              "</div>"
            ],
            "text/plain": [
              "            Actual Values  Forecast Price\n",
              "Date                                     \n",
              "2018-11-02          430.0      445.934665\n",
              "2018-11-09          390.0      443.231555\n",
              "2018-11-16          340.0      440.584838\n",
              "2018-11-23          284.0      437.993338\n",
              "2018-11-30          267.0      435.455902\n",
              "...                   ...             ...\n",
              "2021-03-26          274.0      326.471794\n",
              "2021-04-02          274.0      326.260950\n",
              "2021-04-09          276.0      326.054504\n",
              "2021-04-16          275.0      325.852365\n",
              "2021-04-23          275.0      325.654443\n",
              "\n",
              "[126 rows x 2 columns]"
            ]
          },
          "execution_count": 56,
          "metadata": {},
          "output_type": "execute_result"
        }
      ],
      "source": [
        "df"
      ]
    },
    {
      "cell_type": "markdown",
      "id": "c46f1c6e",
      "metadata": {
        "id": "c46f1c6e"
      },
      "source": [
        "ANALYSIS USING GRAPHS"
      ]
    },
    {
      "cell_type": "code",
      "execution_count": null,
      "id": "f9598adc",
      "metadata": {
        "id": "f9598adc",
        "outputId": "9d26c2d3-e13c-4b9a-d2ae-641aa731ff16"
      },
      "outputs": [
        {
          "data": {
            "image/png": "[encoded data removed]",
            "text/plain": [
              "<Figure size 432x288 with 1 Axes>"
            ]
          },
          "metadata": {
            "needs_background": "light"
          },
          "output_type": "display_data"
        }
      ],
      "source": [
        "plt.plot(data,color='black')\n",
        "plt.plot(test,color='red')\n",
        "plt.plot(pred_arima,color='green')\n",
        "plt.xlabel('Date')\n",
        "plt.ylabel('Price in Rs.')\n",
        "plt.title('Train/Test and Predicted for Methanol Data')\n",
        "plt.show()"
      ]
    },
    {
      "cell_type": "markdown",
      "id": "8d539824",
      "metadata": {
        "id": "8d539824"
      },
      "source": [
        "### ARMA (AUTO-REGRESSIVE MOVING AVERAGE)"
      ]
    },
    {
      "cell_type": "code",
      "execution_count": null,
      "id": "029d5a9e",
      "metadata": {
        "id": "029d5a9e"
      },
      "outputs": [],
      "source": [
        "from statsmodels.tsa.statespace.sarimax import SARIMAX"
      ]
    },
    {
      "cell_type": "code",
      "execution_count": null,
      "id": "fbf22d90",
      "metadata": {
        "id": "fbf22d90"
      },
      "outputs": [],
      "source": [
        "y = train['India Price']"
      ]
    },
    {
      "cell_type": "code",
      "execution_count": null,
      "id": "e05e9ba3",
      "metadata": {
        "id": "e05e9ba3",
        "outputId": "5c270be0-f1d9-4538-b958-110b1418b28a"
      },
      "outputs": [
        {
          "name": "stderr",
          "output_type": "stream",
          "text": [
            "C:\\Users\\Sharon\\anaconda3\\lib\\site-packages\\statsmodels\\tsa\\base\\tsa_model.py:581: ValueWarning: A date index has been provided, but it has no associated frequency information and so will be ignored when e.g. forecasting.\n",
            "  warnings.warn('A date index has been provided, but it has no'\n",
            "C:\\Users\\Sharon\\anaconda3\\lib\\site-packages\\statsmodels\\tsa\\base\\tsa_model.py:581: ValueWarning: A date index has been provided, but it has no associated frequency information and so will be ignored when e.g. forecasting.\n",
            "  warnings.warn('A date index has been provided, but it has no'\n"
          ]
        }
      ],
      "source": [
        "ARMAmodel = SARIMAX(y, order = (1, 0, 1))"
      ]
    },
    {
      "cell_type": "code",
      "execution_count": null,
      "id": "3ff438ba",
      "metadata": {
        "id": "3ff438ba",
        "outputId": "55be048f-c3b5-46e5-a369-bddcd85f52f1"
      },
      "outputs": [
        {
          "name": "stderr",
          "output_type": "stream",
          "text": [
            "C:\\Users\\Sharon\\anaconda3\\lib\\site-packages\\statsmodels\\tsa\\base\\tsa_model.py:376: ValueWarning: No supported index is available. Prediction results will be given with an integer index beginning at `start`.\n",
            "  warnings.warn('No supported index is available.'\n"
          ]
        }
      ],
      "source": [
        "#MAKING PREDICTIONS USING ARMA MODEL\n",
        "ARMAmodel = ARMAmodel.fit()\n",
        "pred_arma=ARMAmodel.predict(start=len(train),end=(len(data)-1))\n",
        "pred_arma.index=test.index"
      ]
    },
    {
      "cell_type": "code",
      "execution_count": null,
      "id": "14503ee8",
      "metadata": {
        "id": "14503ee8",
        "outputId": "74e74ade-88e8-4aed-865d-ac28f0876f51"
      },
      "outputs": [
        {
          "data": {
            "text/plain": [
              "Date\n",
              "2018-11-02    447.521137\n",
              "2018-11-09    446.880308\n",
              "2018-11-16    446.240396\n",
              "2018-11-23    445.601400\n",
              "2018-11-30    444.963320\n",
              "Name: predicted_mean, dtype: float64"
            ]
          },
          "execution_count": 66,
          "metadata": {},
          "output_type": "execute_result"
        }
      ],
      "source": [
        "pred_arma.head()"
      ]
    },
    {
      "cell_type": "code",
      "execution_count": null,
      "id": "bf2e90cb",
      "metadata": {
        "id": "bf2e90cb",
        "outputId": "567a67a4-bd28-4b1d-84df-fe2179629667"
      },
      "outputs": [
        {
          "data": {
            "text/plain": [
              "188.14597159851192"
            ]
          },
          "execution_count": 67,
          "metadata": {},
          "output_type": "execute_result"
        }
      ],
      "source": [
        "from sklearn.metrics import mean_squared_error\n",
        "error_arma=np.sqrt(mean_squared_error(test,pred_arma))\n",
        "error_arma"
      ]
    },
    {
      "cell_type": "code",
      "execution_count": null,
      "id": "e4264b15",
      "metadata": {
        "id": "e4264b15"
      },
      "outputs": [],
      "source": [
        "#COMPARING THE ACTUAL AND FORECASTED/PREDICTED PRICE\n",
        "df=pd.DataFrame({'Actual Values':test['India Price'],'Forecast Price':pred_arma})"
      ]
    },
    {
      "cell_type": "code",
      "execution_count": null,
      "id": "1a40ca00",
      "metadata": {
        "id": "1a40ca00",
        "outputId": "87437932-7ad8-4fb3-8fe6-44a588f0f6e2"
      },
      "outputs": [
        {
          "data": {
            "text/html": [
              "<div>\n",
              "<style scoped>\n",
              "    .dataframe tbody tr th:only-of-type {\n",
              "        vertical-align: middle;\n",
              "    }\n",
              "\n",
              "    .dataframe tbody tr th {\n",
              "        vertical-align: top;\n",
              "    }\n",
              "\n",
              "    .dataframe thead th {\n",
              "        text-align: right;\n",
              "    }\n",
              "</style>\n",
              "<table border=\"1\" class=\"dataframe\">\n",
              "  <thead>\n",
              "    <tr style=\"text-align: right;\">\n",
              "      <th></th>\n",
              "      <th>Actual Values</th>\n",
              "      <th>Forecast Price</th>\n",
              "    </tr>\n",
              "    <tr>\n",
              "      <th>Date</th>\n",
              "      <th></th>\n",
              "      <th></th>\n",
              "    </tr>\n",
              "  </thead>\n",
              "  <tbody>\n",
              "    <tr>\n",
              "      <th>2018-11-02</th>\n",
              "      <td>430.0</td>\n",
              "      <td>447.521137</td>\n",
              "    </tr>\n",
              "    <tr>\n",
              "      <th>2018-11-09</th>\n",
              "      <td>390.0</td>\n",
              "      <td>446.880308</td>\n",
              "    </tr>\n",
              "    <tr>\n",
              "      <th>2018-11-16</th>\n",
              "      <td>340.0</td>\n",
              "      <td>446.240396</td>\n",
              "    </tr>\n",
              "    <tr>\n",
              "      <th>2018-11-23</th>\n",
              "      <td>284.0</td>\n",
              "      <td>445.601400</td>\n",
              "    </tr>\n",
              "    <tr>\n",
              "      <th>2018-11-30</th>\n",
              "      <td>267.0</td>\n",
              "      <td>444.963320</td>\n",
              "    </tr>\n",
              "    <tr>\n",
              "      <th>...</th>\n",
              "      <td>...</td>\n",
              "      <td>...</td>\n",
              "    </tr>\n",
              "    <tr>\n",
              "      <th>2021-03-26</th>\n",
              "      <td>274.0</td>\n",
              "      <td>376.279880</td>\n",
              "    </tr>\n",
              "    <tr>\n",
              "      <th>2021-04-02</th>\n",
              "      <td>274.0</td>\n",
              "      <td>375.741065</td>\n",
              "    </tr>\n",
              "    <tr>\n",
              "      <th>2021-04-09</th>\n",
              "      <td>276.0</td>\n",
              "      <td>375.203021</td>\n",
              "    </tr>\n",
              "    <tr>\n",
              "      <th>2021-04-16</th>\n",
              "      <td>275.0</td>\n",
              "      <td>374.665748</td>\n",
              "    </tr>\n",
              "    <tr>\n",
              "      <th>2021-04-23</th>\n",
              "      <td>275.0</td>\n",
              "      <td>374.129244</td>\n",
              "    </tr>\n",
              "  </tbody>\n",
              "</table>\n",
              "<p>126 rows × 2 columns</p>\n",
              "</div>"
            ],
            "text/plain": [
              "            Actual Values  Forecast Price\n",
              "Date                                     \n",
              "2018-11-02          430.0      447.521137\n",
              "2018-11-09          390.0      446.880308\n",
              "2018-11-16          340.0      446.240396\n",
              "2018-11-23          284.0      445.601400\n",
              "2018-11-30          267.0      444.963320\n",
              "...                   ...             ...\n",
              "2021-03-26          274.0      376.279880\n",
              "2021-04-02          274.0      375.741065\n",
              "2021-04-09          276.0      375.203021\n",
              "2021-04-16          275.0      374.665748\n",
              "2021-04-23          275.0      374.129244\n",
              "\n",
              "[126 rows x 2 columns]"
            ]
          },
          "execution_count": 69,
          "metadata": {},
          "output_type": "execute_result"
        }
      ],
      "source": [
        "df"
      ]
    },
    {
      "cell_type": "code",
      "execution_count": null,
      "id": "f24944f3",
      "metadata": {
        "id": "f24944f3",
        "outputId": "89da1bef-5f31-4b58-cc76-03617bac9736"
      },
      "outputs": [
        {
          "data": {
            "image/png": "[encoded data removed]",
            "text/plain": [
              "<Figure size 432x288 with 1 Axes>"
            ]
          },
          "metadata": {
            "needs_background": "light"
          },
          "output_type": "display_data"
        }
      ],
      "source": [
        "plt.plot(train,color='black')\n",
        "plt.plot(test,color='red')\n",
        "plt.plot(pred_arma,color='green')\n",
        "plt.xlabel('Date')\n",
        "plt.ylabel('Price in Rs.')\n",
        "plt.title('Train/Test and Predicted for Methanol Data')\n",
        "plt.show()"
      ]
    },
    {
      "cell_type": "markdown",
      "id": "ceaf7049",
      "metadata": {
        "id": "ceaf7049"
      },
      "source": [
        "LET'S CHECK FOR SEASONALITY BEFORE IMPLEMENTING SARIMA MODEL"
      ]
    },
    {
      "cell_type": "code",
      "execution_count": null,
      "id": "918d698a",
      "metadata": {
        "id": "918d698a"
      },
      "outputs": [],
      "source": [
        "rollmean=data.rolling(window=4).mean()\n",
        "rollstd=data.rolling(window=4).std()"
      ]
    },
    {
      "cell_type": "code",
      "execution_count": null,
      "id": "fe2b2376",
      "metadata": {
        "id": "fe2b2376",
        "outputId": "a684986b-357e-4331-a9b9-d7bd9ddff3cc"
      },
      "outputs": [
        {
          "data": {
            "image/png": "[encoded data removed]",
            "text/plain": [
              "<Figure size 432x288 with 1 Axes>"
            ]
          },
          "metadata": {
            "needs_background": "light"
          },
          "output_type": "display_data"
        }
      ],
      "source": [
        "original=plt.plot(data,color='blue',label='ORIGINAL')\n",
        "mean=plt.plot(rollmean,color='red',label='ROLLING MEAN')\n",
        "std=plt.plot(rollstd,color='black',label='ROLLING STANDARD DEVIATION')\n",
        "plt.legend(loc='best') # LOCATION OF THE LEGEND\n",
        "plt.title('Rolling Mean and Standard Deviation')\n",
        "plt.show(block=False)\n",
        "    "
      ]
    },
    {
      "cell_type": "markdown",
      "id": "d7dedee9",
      "metadata": {
        "id": "d7dedee9"
      },
      "source": [
        "### SARIMA"
      ]
    },
    {
      "cell_type": "code",
      "execution_count": null,
      "id": "e9431cd5",
      "metadata": {
        "id": "e9431cd5",
        "outputId": "e2e23483-8945-43ce-fbbe-1a2b55f58bcc"
      },
      "outputs": [
        {
          "name": "stderr",
          "output_type": "stream",
          "text": [
            "C:\\Users\\Sharon\\anaconda3\\lib\\site-packages\\statsmodels\\tsa\\base\\tsa_model.py:581: ValueWarning: A date index has been provided, but it has no associated frequency information and so will be ignored when e.g. forecasting.\n",
            "  warnings.warn('A date index has been provided, but it has no'\n",
            "C:\\Users\\Sharon\\anaconda3\\lib\\site-packages\\statsmodels\\tsa\\base\\tsa_model.py:581: ValueWarning: A date index has been provided, but it has no associated frequency information and so will be ignored when e.g. forecasting.\n",
            "  warnings.warn('A date index has been provided, but it has no'\n"
          ]
        }
      ],
      "source": [
        "import statsmodels.api as sm\n",
        "sarima_model=sm.tsa.statespace.SARIMAX(train,order=(1,2,1),seasonal_order=(1,2,1,12),enforce_stationary=True).fit()"
      ]
    },
    {
      "cell_type": "code",
      "execution_count": null,
      "id": "6aa837d9",
      "metadata": {
        "id": "6aa837d9"
      },
      "outputs": [],
      "source": [
        "# sarima_model.plot_diagnostics(figsize=(16,10))\n"
      ]
    },
    {
      "cell_type": "code",
      "execution_count": null,
      "id": "b14c41fc",
      "metadata": {
        "id": "b14c41fc"
      },
      "outputs": [],
      "source": [
        "# y_pred = sarima_model.get_forecast(len(test.index))"
      ]
    },
    {
      "cell_type": "code",
      "execution_count": null,
      "id": "40c0d4ec",
      "metadata": {
        "id": "40c0d4ec",
        "outputId": "fda83407-85e7-488f-82c6-495b8da60a0e"
      },
      "outputs": [
        {
          "name": "stderr",
          "output_type": "stream",
          "text": [
            "C:\\Users\\Sharon\\anaconda3\\lib\\site-packages\\statsmodels\\tsa\\base\\tsa_model.py:376: ValueWarning: No supported index is available. Prediction results will be given with an integer index beginning at `start`.\n",
            "  warnings.warn('No supported index is available.'\n"
          ]
        }
      ],
      "source": [
        "#PREDICTING USING SARIMA MODEL\n",
        "pred_sarima=sarima_model.predict(start=len(train),end=(len(data)-1))\n",
        "pred_sarima.index=test.index\n"
      ]
    },
    {
      "cell_type": "code",
      "execution_count": null,
      "id": "9cb8763c",
      "metadata": {
        "id": "9cb8763c",
        "outputId": "a533ea6a-22e6-4768-fde1-d6f8557e71f3"
      },
      "outputs": [
        {
          "data": {
            "text/plain": [
              "Date\n",
              "2018-11-02    454.711531\n",
              "2018-11-09    467.045553\n",
              "2018-11-16    472.931750\n",
              "2018-11-23    479.791979\n",
              "2018-11-30    493.730390\n",
              "Name: predicted_mean, dtype: float64"
            ]
          },
          "execution_count": 79,
          "metadata": {},
          "output_type": "execute_result"
        }
      ],
      "source": [
        "pred_sarima.head()"
      ]
    },
    {
      "cell_type": "code",
      "execution_count": null,
      "id": "0c084206",
      "metadata": {
        "id": "0c084206"
      },
      "outputs": [],
      "source": [
        "df=pd.DataFrame({'Actual Values':test['India Price'],'Forecast Price':pred_sarima})"
      ]
    },
    {
      "cell_type": "code",
      "execution_count": null,
      "id": "751aa804",
      "metadata": {
        "id": "751aa804",
        "outputId": "d7932b82-3956-4c51-c91b-d685ef69ead4"
      },
      "outputs": [
        {
          "data": {
            "text/html": [
              "<div>\n",
              "<style scoped>\n",
              "    .dataframe tbody tr th:only-of-type {\n",
              "        vertical-align: middle;\n",
              "    }\n",
              "\n",
              "    .dataframe tbody tr th {\n",
              "        vertical-align: top;\n",
              "    }\n",
              "\n",
              "    .dataframe thead th {\n",
              "        text-align: right;\n",
              "    }\n",
              "</style>\n",
              "<table border=\"1\" class=\"dataframe\">\n",
              "  <thead>\n",
              "    <tr style=\"text-align: right;\">\n",
              "      <th></th>\n",
              "      <th>Actual Values</th>\n",
              "      <th>Forecast Price</th>\n",
              "    </tr>\n",
              "    <tr>\n",
              "      <th>Date</th>\n",
              "      <th></th>\n",
              "      <th></th>\n",
              "    </tr>\n",
              "  </thead>\n",
              "  <tbody>\n",
              "    <tr>\n",
              "      <th>2018-11-02</th>\n",
              "      <td>430.0</td>\n",
              "      <td>454.711531</td>\n",
              "    </tr>\n",
              "    <tr>\n",
              "      <th>2018-11-09</th>\n",
              "      <td>390.0</td>\n",
              "      <td>467.045553</td>\n",
              "    </tr>\n",
              "    <tr>\n",
              "      <th>2018-11-16</th>\n",
              "      <td>340.0</td>\n",
              "      <td>472.931750</td>\n",
              "    </tr>\n",
              "    <tr>\n",
              "      <th>2018-11-23</th>\n",
              "      <td>284.0</td>\n",
              "      <td>479.791979</td>\n",
              "    </tr>\n",
              "    <tr>\n",
              "      <th>2018-11-30</th>\n",
              "      <td>267.0</td>\n",
              "      <td>493.730390</td>\n",
              "    </tr>\n",
              "    <tr>\n",
              "      <th>...</th>\n",
              "      <td>...</td>\n",
              "      <td>...</td>\n",
              "    </tr>\n",
              "    <tr>\n",
              "      <th>2021-03-26</th>\n",
              "      <td>274.0</td>\n",
              "      <td>6803.061387</td>\n",
              "    </tr>\n",
              "    <tr>\n",
              "      <th>2021-04-02</th>\n",
              "      <td>274.0</td>\n",
              "      <td>6891.831657</td>\n",
              "    </tr>\n",
              "    <tr>\n",
              "      <th>2021-04-09</th>\n",
              "      <td>276.0</td>\n",
              "      <td>6983.262059</td>\n",
              "    </tr>\n",
              "    <tr>\n",
              "      <th>2021-04-16</th>\n",
              "      <td>275.0</td>\n",
              "      <td>7077.895624</td>\n",
              "    </tr>\n",
              "    <tr>\n",
              "      <th>2021-04-23</th>\n",
              "      <td>275.0</td>\n",
              "      <td>7172.997512</td>\n",
              "    </tr>\n",
              "  </tbody>\n",
              "</table>\n",
              "<p>126 rows × 2 columns</p>\n",
              "</div>"
            ],
            "text/plain": [
              "            Actual Values  Forecast Price\n",
              "Date                                     \n",
              "2018-11-02          430.0      454.711531\n",
              "2018-11-09          390.0      467.045553\n",
              "2018-11-16          340.0      472.931750\n",
              "2018-11-23          284.0      479.791979\n",
              "2018-11-30          267.0      493.730390\n",
              "...                   ...             ...\n",
              "2021-03-26          274.0     6803.061387\n",
              "2021-04-02          274.0     6891.831657\n",
              "2021-04-09          276.0     6983.262059\n",
              "2021-04-16          275.0     7077.895624\n",
              "2021-04-23          275.0     7172.997512\n",
              "\n",
              "[126 rows x 2 columns]"
            ]
          },
          "execution_count": 81,
          "metadata": {},
          "output_type": "execute_result"
        }
      ],
      "source": [
        "df"
      ]
    },
    {
      "cell_type": "code",
      "execution_count": null,
      "id": "692daff0",
      "metadata": {
        "id": "692daff0",
        "outputId": "a07e4a9a-9da4-4ce0-fad4-6d59171146d5"
      },
      "outputs": [
        {
          "data": {
            "text/plain": [
              "3345.029239861325"
            ]
          },
          "execution_count": 91,
          "metadata": {},
          "output_type": "execute_result"
        }
      ],
      "source": [
        "from sklearn.metrics import mean_squared_error\n",
        "error_sarima=np.sqrt(mean_squared_error(test,pred_sarima))\n",
        "error_sarima"
      ]
    },
    {
      "cell_type": "code",
      "execution_count": null,
      "id": "19b38c02",
      "metadata": {
        "id": "19b38c02",
        "outputId": "7f76a07f-7fae-4d39-f098-83b41f890aca"
      },
      "outputs": [
        {
          "data": {
            "image/png": "[encoded data removed]",
            "text/plain": [
              "<Figure size 432x288 with 1 Axes>"
            ]
          },
          "metadata": {
            "needs_background": "light"
          },
          "output_type": "display_data"
        }
      ],
      "source": [
        "plt.plot(train,label='Train',color='black')\n",
        "plt.plot(test,label='Test',color='red')\n",
        "plt.plot(pred_sarima,label='pred_sarima',color='green')\n",
        "plt.legend()\n",
        "plt.xlabel('Date')\n",
        "plt.ylabel('Price in Rs.')\n",
        "plt.title('Train/Test and Predicted for Methanol Data')\n",
        "plt.show()"
      ]
    },
    {
      "cell_type": "code",
      "execution_count": null,
      "id": "697b7d96",
      "metadata": {
        "id": "697b7d96",
        "outputId": "55321b56-2185-4a1b-b547-b643488e58a6"
      },
      "outputs": [
        {
          "data": {
            "image/png": "[encoded data removed]",
            "text/plain": [
              "<Figure size 432x288 with 1 Axes>"
            ]
          },
          "metadata": {
            "needs_background": "light"
          },
          "output_type": "display_data"
        }
      ],
      "source": [
        "plt.plot(train,label='Train',color='black')\n",
        "plt.plot(test,label='Test',color='red')\n",
        "plt.plot(pred_arima,label='Arima prediction',color='orange')\n",
        "plt.plot(pred_arma,label='Arma prediction',color='green')\n",
        "plt.plot(pred_sarima,label='Sarima prediction',color='blue')\n",
        "plt.legend()\n",
        "plt.xlabel('Date')\n",
        "plt.ylabel('Price in Rs.')\n",
        "plt.title('Train/Test and Predicted for Methanol Data')\n",
        "plt.show()"
      ]
    },
    {
      "cell_type": "markdown",
      "id": "aa717fcd",
      "metadata": {
        "id": "aa717fcd"
      },
      "source": [
        "LET US CHECK AS TO WHICH WOULD BE THE BEST MODEL TO FORECAST VALUES OF THE ABOVE DATASET"
      ]
    },
    {
      "cell_type": "code",
      "execution_count": null,
      "id": "71d334d9",
      "metadata": {
        "id": "71d334d9",
        "outputId": "bdede575-b194-410f-f393-a14745a4e728"
      },
      "outputs": [
        {
          "name": "stdout",
          "output_type": "stream",
          "text": [
            "141.50164383346285\n"
          ]
        }
      ],
      "source": [
        "print(error_arima)"
      ]
    },
    {
      "cell_type": "code",
      "execution_count": null,
      "id": "f16742c9",
      "metadata": {
        "id": "f16742c9",
        "outputId": "e341a5b0-e80f-406a-d52b-f3adea54825a"
      },
      "outputs": [
        {
          "name": "stdout",
          "output_type": "stream",
          "text": [
            "188.14597159851192\n"
          ]
        }
      ],
      "source": [
        "print(error_arma)"
      ]
    },
    {
      "cell_type": "code",
      "execution_count": null,
      "id": "d9ea1ecf",
      "metadata": {
        "id": "d9ea1ecf",
        "outputId": "93d151de-3bbb-46e7-ed99-e3efead1c631"
      },
      "outputs": [
        {
          "name": "stdout",
          "output_type": "stream",
          "text": [
            "3345.029239861325\n"
          ]
        }
      ],
      "source": [
        "print(error_sarima)"
      ]
    },
    {
      "cell_type": "markdown",
      "id": "9e6f708d",
      "metadata": {
        "id": "9e6f708d"
      },
      "source": [
        "ARIMA--->141.4895866965784\n",
        "\n",
        "\n",
        "ARMA---->188.14862820999238\n",
        "\n",
        "\n",
        "SARIMA-->3345.029259450346"
      ]
    },
    {
      "cell_type": "markdown",
      "id": "1469c90b",
      "metadata": {
        "id": "1469c90b"
      },
      "source": [
        "### FROM THE ABOVE, WE CAN COONCLUDE THE ARIMA WOULD BE A GOOD SUITED MODEL FOR THIS FORECASTING AMONG THE THREE"
      ]
    },
    {
      "cell_type": "code",
      "execution_count": null,
      "id": "f80b605e",
      "metadata": {
        "id": "f80b605e"
      },
      "outputs": [],
      "source": [
        ""
      ]
    }
  ],
  "metadata": {
    "kernelspec": {
      "display_name": "Python 3",
      "language": "python",
      "name": "python3"
    },
    "language_info": {
      "codemirror_mode": {
        "name": "ipython",
        "version": 3
      },
      "file_extension": ".py",
      "mimetype": "text/x-python",
      "name": "python",
      "nbconvert_exporter": "python",
      "pygments_lexer": "ipython3",
      "version": "3.8.8"
    },
    "colab": {
      "name": "UNIVARIATE TIME SERIES ANALYSIS USING ARIMA,ARMA,SARIMA.ipynb",
      "provenance": [],
      "collapsed_sections": [
        "c0ffe560",
        "fa937ac1",
        "f7e38753",
        "0c01a9b0",
        "3ead85ac",
        "6377630f",
        "8d539824",
        "d7dedee9",
        "1469c90b"
      ]
    }
  },
  "nbformat": 4,
  "nbformat_minor": 5
}