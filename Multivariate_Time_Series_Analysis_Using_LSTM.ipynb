{
  "nbformat": 4,
  "nbformat_minor": 0,
  "metadata": {
    "colab": {
      "name": "Multivariate Time Series Analysis Using LSTM.ipynb",
      "provenance": [],
      "collapsed_sections": []
    },
    "kernelspec": {
      "name": "python3",
      "display_name": "Python 3"
    },
    "language_info": {
      "name": "python"
    }
  },
  "cells": [
    {
      "cell_type": "markdown",
      "source": [
        "IMPORTING THE LIBRARIES"
      ],
      "metadata": {
        "id": "uEStveh5Fboq"
      }
    },
    {
      "cell_type": "code",
      "execution_count": null,
      "metadata": {
        "id": "26uvMzVln6w5"
      },
      "outputs": [],
      "source": [
        "import pandas as pd # dataframes data processing\n",
        "import numpy as np #working with arrays\n",
        "import matplotlib as mpl # visualisation\n",
        "import matplotlib.pyplot as plt\n",
        "from sklearn.model_selection import train_test_split #splitting into training and testing data\n",
        "from keras.preprocessing.sequence import TimeseriesGenerator # creation of time series model and data preprocessing\n",
        "from sklearn.preprocessing import MinMaxScaler , StandardScaler # Scaling values within a range\n",
        "import tensorflow as tf #working with neural networks\n",
        "import numpy as np"
      ]
    },
    {
      "cell_type": "markdown",
      "source": [
        "IMPORTING DATASET"
      ],
      "metadata": {
        "id": "UDo_Ve4HFkwt"
      }
    },
    {
      "cell_type": "code",
      "source": [
        "#CONVERTING DATE COLUMN OF OBJECT TYPE TO DATE COLUMN OF DATE TYPE\n",
        "dateparse= lambda dates: pd.datetime.strptime(dates,'%d-%m-%Y')\n",
        "data=pd.read_csv('MAster_methanol.csv',parse_dates=['Date'],date_parser=dateparse,usecols=['Date','India Price','Asia Price','Rotterdam Price','US Domestic Price'])"
      ],
      "metadata": {
        "colab": {
          "base_uri": "https://localhost:8080/"
        },
        "id": "WO8sfqX2oE2A",
        "outputId": "00c91ef9-1f47-4454-d0ad-868229299dd1"
      },
      "execution_count": null,
      "outputs": [
        {
          "output_type": "stream",
          "name": "stderr",
          "text": [
            "/usr/local/lib/python3.7/dist-packages/ipykernel_launcher.py:2: FutureWarning: The pandas.datetime class is deprecated and will be removed from pandas in a future version. Import from datetime module instead.\n",
            "  \n"
          ]
        }
      ]
    },
    {
      "cell_type": "code",
      "source": [
        "#data.dtypes\n",
        "data.index=pd.to_datetime(data['Date'],format='%d-%m-%Y')"
      ],
      "metadata": {
        "id": "pTzKLtznoL9P"
      },
      "execution_count": null,
      "outputs": []
    },
    {
      "cell_type": "code",
      "source": [
        "data.head()"
      ],
      "metadata": {
        "colab": {
          "base_uri": "https://localhost:8080/",
          "height": 238
        },
        "id": "RvOuh7RGoOfr",
        "outputId": "3d4c6e7d-04bd-4c3b-9c09-7c607efcac1d"
      },
      "execution_count": null,
      "outputs": [
        {
          "output_type": "execute_result",
          "data": {
            "text/html": [
              "\n",
              "  <div id=\"df-0bc7820d-a527-4314-9582-c3c825c1801d\">\n",
              "    <div class=\"colab-df-container\">\n",
              "      <div>\n",
              "<style scoped>\n",
              "    .dataframe tbody tr th:only-of-type {\n",
              "        vertical-align: middle;\n",
              "    }\n",
              "\n",
              "    .dataframe tbody tr th {\n",
              "        vertical-align: top;\n",
              "    }\n",
              "\n",
              "    .dataframe thead th {\n",
              "        text-align: right;\n",
              "    }\n",
              "</style>\n",
              "<table border=\"1\" class=\"dataframe\">\n",
              "  <thead>\n",
              "    <tr style=\"text-align: right;\">\n",
              "      <th></th>\n",
              "      <th>Date</th>\n",
              "      <th>India Price</th>\n",
              "      <th>Asia Price</th>\n",
              "      <th>Rotterdam Price</th>\n",
              "      <th>US Domestic Price</th>\n",
              "    </tr>\n",
              "    <tr>\n",
              "      <th>Date</th>\n",
              "      <th></th>\n",
              "      <th></th>\n",
              "      <th></th>\n",
              "      <th></th>\n",
              "      <th></th>\n",
              "    </tr>\n",
              "  </thead>\n",
              "  <tbody>\n",
              "    <tr>\n",
              "      <th>2005-10-07</th>\n",
              "      <td>2005-10-07</td>\n",
              "      <td>240.0</td>\n",
              "      <td>232.5</td>\n",
              "      <td>210.4</td>\n",
              "      <td>84.63</td>\n",
              "    </tr>\n",
              "    <tr>\n",
              "      <th>2005-10-14</th>\n",
              "      <td>2005-10-14</td>\n",
              "      <td>240.0</td>\n",
              "      <td>232.5</td>\n",
              "      <td>213.5</td>\n",
              "      <td>81.00</td>\n",
              "    </tr>\n",
              "    <tr>\n",
              "      <th>2005-10-21</th>\n",
              "      <td>2005-10-21</td>\n",
              "      <td>242.5</td>\n",
              "      <td>235.0</td>\n",
              "      <td>214.0</td>\n",
              "      <td>81.00</td>\n",
              "    </tr>\n",
              "    <tr>\n",
              "      <th>2005-10-28</th>\n",
              "      <td>2005-10-28</td>\n",
              "      <td>242.5</td>\n",
              "      <td>232.5</td>\n",
              "      <td>213.0</td>\n",
              "      <td>84.63</td>\n",
              "    </tr>\n",
              "    <tr>\n",
              "      <th>2005-11-04</th>\n",
              "      <td>2005-11-04</td>\n",
              "      <td>250.0</td>\n",
              "      <td>242.5</td>\n",
              "      <td>215.5</td>\n",
              "      <td>86.45</td>\n",
              "    </tr>\n",
              "  </tbody>\n",
              "</table>\n",
              "</div>\n",
              "      <button class=\"colab-df-convert\" onclick=\"convertToInteractive('df-0bc7820d-a527-4314-9582-c3c825c1801d')\"\n",
              "              title=\"Convert this dataframe to an interactive table.\"\n",
              "              style=\"display:none;\">\n",
              "        \n",
              "  <svg xmlns=\"http://www.w3.org/2000/svg\" height=\"24px\"viewBox=\"0 0 24 24\"\n",
              "       width=\"24px\">\n",
              "    <path d=\"M0 0h24v24H0V0z\" fill=\"none\"/>\n",
              "    <path d=\"M18.56 5.44l.94 2.06.94-2.06 2.06-.94-2.06-.94-.94-2.06-.94 2.06-2.06.94zm-11 1L8.5 8.5l.94-2.06 2.06-.94-2.06-.94L8.5 2.5l-.94 2.06-2.06.94zm10 10l.94 2.06.94-2.06 2.06-.94-2.06-.94-.94-2.06-.94 2.06-2.06.94z\"/><path d=\"M17.41 7.96l-1.37-1.37c-.4-.4-.92-.59-1.43-.59-.52 0-1.04.2-1.43.59L10.3 9.45l-7.72 7.72c-.78.78-.78 2.05 0 2.83L4 21.41c.39.39.9.59 1.41.59.51 0 1.02-.2 1.41-.59l7.78-7.78 2.81-2.81c.8-.78.8-2.07 0-2.86zM5.41 20L4 18.59l7.72-7.72 1.47 1.35L5.41 20z\"/>\n",
              "  </svg>\n",
              "      </button>\n",
              "      \n",
              "  <style>\n",
              "    .colab-df-container {\n",
              "      display:flex;\n",
              "      flex-wrap:wrap;\n",
              "      gap: 12px;\n",
              "    }\n",
              "\n",
              "    .colab-df-convert {\n",
              "      background-color: #E8F0FE;\n",
              "      border: none;\n",
              "      border-radius: 50%;\n",
              "      cursor: pointer;\n",
              "      display: none;\n",
              "      fill: #1967D2;\n",
              "      height: 32px;\n",
              "      padding: 0 0 0 0;\n",
              "      width: 32px;\n",
              "    }\n",
              "\n",
              "    .colab-df-convert:hover {\n",
              "      background-color: #E2EBFA;\n",
              "      box-shadow: 0px 1px 2px rgba(60, 64, 67, 0.3), 0px 1px 3px 1px rgba(60, 64, 67, 0.15);\n",
              "      fill: #174EA6;\n",
              "    }\n",
              "\n",
              "    [theme=dark] .colab-df-convert {\n",
              "      background-color: #3B4455;\n",
              "      fill: #D2E3FC;\n",
              "    }\n",
              "\n",
              "    [theme=dark] .colab-df-convert:hover {\n",
              "      background-color: #434B5C;\n",
              "      box-shadow: 0px 1px 3px 1px rgba(0, 0, 0, 0.15);\n",
              "      filter: drop-shadow(0px 1px 2px rgba(0, 0, 0, 0.3));\n",
              "      fill: #FFFFFF;\n",
              "    }\n",
              "  </style>\n",
              "\n",
              "      <script>\n",
              "        const buttonEl =\n",
              "          document.querySelector('#df-0bc7820d-a527-4314-9582-c3c825c1801d button.colab-df-convert');\n",
              "        buttonEl.style.display =\n",
              "          google.colab.kernel.accessAllowed ? 'block' : 'none';\n",
              "\n",
              "        async function convertToInteractive(key) {\n",
              "          const element = document.querySelector('#df-0bc7820d-a527-4314-9582-c3c825c1801d');\n",
              "          const dataTable =\n",
              "            await google.colab.kernel.invokeFunction('convertToInteractive',\n",
              "                                                     [key], {});\n",
              "          if (!dataTable) return;\n",
              "\n",
              "          const docLinkHtml = 'Like what you see? Visit the ' +\n",
              "            '<a target=\"_blank\" href=https://colab.research.google.com/notebooks/data_table.ipynb>data table notebook</a>'\n",
              "            + ' to learn more about interactive tables.';\n",
              "          element.innerHTML = '';\n",
              "          dataTable['output_type'] = 'display_data';\n",
              "          await google.colab.output.renderOutput(dataTable, element);\n",
              "          const docLink = document.createElement('div');\n",
              "          docLink.innerHTML = docLinkHtml;\n",
              "          element.appendChild(docLink);\n",
              "        }\n",
              "      </script>\n",
              "    </div>\n",
              "  </div>\n",
              "  "
            ],
            "text/plain": [
              "                 Date  India Price  ...  Rotterdam Price  US Domestic Price\n",
              "Date                                ...                                    \n",
              "2005-10-07 2005-10-07        240.0  ...            210.4              84.63\n",
              "2005-10-14 2005-10-14        240.0  ...            213.5              81.00\n",
              "2005-10-21 2005-10-21        242.5  ...            214.0              81.00\n",
              "2005-10-28 2005-10-28        242.5  ...            213.0              84.63\n",
              "2005-11-04 2005-11-04        250.0  ...            215.5              86.45\n",
              "\n",
              "[5 rows x 5 columns]"
            ]
          },
          "metadata": {},
          "execution_count": 7
        }
      ]
    },
    {
      "cell_type": "code",
      "source": [
        "del data['Date']"
      ],
      "metadata": {
        "id": "FO2DUv_ZoQ7B"
      },
      "execution_count": null,
      "outputs": []
    },
    {
      "cell_type": "code",
      "source": [
        "data.head()"
      ],
      "metadata": {
        "colab": {
          "base_uri": "https://localhost:8080/",
          "height": 238
        },
        "id": "MQBBqH9_oTB8",
        "outputId": "ce438e47-d603-4474-98d6-5807b72a310c"
      },
      "execution_count": null,
      "outputs": [
        {
          "output_type": "execute_result",
          "data": {
            "text/html": [
              "\n",
              "  <div id=\"df-8b708d7c-844b-4a1d-9355-f7bbd6e6a87c\">\n",
              "    <div class=\"colab-df-container\">\n",
              "      <div>\n",
              "<style scoped>\n",
              "    .dataframe tbody tr th:only-of-type {\n",
              "        vertical-align: middle;\n",
              "    }\n",
              "\n",
              "    .dataframe tbody tr th {\n",
              "        vertical-align: top;\n",
              "    }\n",
              "\n",
              "    .dataframe thead th {\n",
              "        text-align: right;\n",
              "    }\n",
              "</style>\n",
              "<table border=\"1\" class=\"dataframe\">\n",
              "  <thead>\n",
              "    <tr style=\"text-align: right;\">\n",
              "      <th></th>\n",
              "      <th>India Price</th>\n",
              "      <th>Asia Price</th>\n",
              "      <th>Rotterdam Price</th>\n",
              "      <th>US Domestic Price</th>\n",
              "    </tr>\n",
              "    <tr>\n",
              "      <th>Date</th>\n",
              "      <th></th>\n",
              "      <th></th>\n",
              "      <th></th>\n",
              "      <th></th>\n",
              "    </tr>\n",
              "  </thead>\n",
              "  <tbody>\n",
              "    <tr>\n",
              "      <th>2005-10-07</th>\n",
              "      <td>240.0</td>\n",
              "      <td>232.5</td>\n",
              "      <td>210.4</td>\n",
              "      <td>84.63</td>\n",
              "    </tr>\n",
              "    <tr>\n",
              "      <th>2005-10-14</th>\n",
              "      <td>240.0</td>\n",
              "      <td>232.5</td>\n",
              "      <td>213.5</td>\n",
              "      <td>81.00</td>\n",
              "    </tr>\n",
              "    <tr>\n",
              "      <th>2005-10-21</th>\n",
              "      <td>242.5</td>\n",
              "      <td>235.0</td>\n",
              "      <td>214.0</td>\n",
              "      <td>81.00</td>\n",
              "    </tr>\n",
              "    <tr>\n",
              "      <th>2005-10-28</th>\n",
              "      <td>242.5</td>\n",
              "      <td>232.5</td>\n",
              "      <td>213.0</td>\n",
              "      <td>84.63</td>\n",
              "    </tr>\n",
              "    <tr>\n",
              "      <th>2005-11-04</th>\n",
              "      <td>250.0</td>\n",
              "      <td>242.5</td>\n",
              "      <td>215.5</td>\n",
              "      <td>86.45</td>\n",
              "    </tr>\n",
              "  </tbody>\n",
              "</table>\n",
              "</div>\n",
              "      <button class=\"colab-df-convert\" onclick=\"convertToInteractive('df-8b708d7c-844b-4a1d-9355-f7bbd6e6a87c')\"\n",
              "              title=\"Convert this dataframe to an interactive table.\"\n",
              "              style=\"display:none;\">\n",
              "        \n",
              "  <svg xmlns=\"http://www.w3.org/2000/svg\" height=\"24px\"viewBox=\"0 0 24 24\"\n",
              "       width=\"24px\">\n",
              "    <path d=\"M0 0h24v24H0V0z\" fill=\"none\"/>\n",
              "    <path d=\"M18.56 5.44l.94 2.06.94-2.06 2.06-.94-2.06-.94-.94-2.06-.94 2.06-2.06.94zm-11 1L8.5 8.5l.94-2.06 2.06-.94-2.06-.94L8.5 2.5l-.94 2.06-2.06.94zm10 10l.94 2.06.94-2.06 2.06-.94-2.06-.94-.94-2.06-.94 2.06-2.06.94z\"/><path d=\"M17.41 7.96l-1.37-1.37c-.4-.4-.92-.59-1.43-.59-.52 0-1.04.2-1.43.59L10.3 9.45l-7.72 7.72c-.78.78-.78 2.05 0 2.83L4 21.41c.39.39.9.59 1.41.59.51 0 1.02-.2 1.41-.59l7.78-7.78 2.81-2.81c.8-.78.8-2.07 0-2.86zM5.41 20L4 18.59l7.72-7.72 1.47 1.35L5.41 20z\"/>\n",
              "  </svg>\n",
              "      </button>\n",
              "      \n",
              "  <style>\n",
              "    .colab-df-container {\n",
              "      display:flex;\n",
              "      flex-wrap:wrap;\n",
              "      gap: 12px;\n",
              "    }\n",
              "\n",
              "    .colab-df-convert {\n",
              "      background-color: #E8F0FE;\n",
              "      border: none;\n",
              "      border-radius: 50%;\n",
              "      cursor: pointer;\n",
              "      display: none;\n",
              "      fill: #1967D2;\n",
              "      height: 32px;\n",
              "      padding: 0 0 0 0;\n",
              "      width: 32px;\n",
              "    }\n",
              "\n",
              "    .colab-df-convert:hover {\n",
              "      background-color: #E2EBFA;\n",
              "      box-shadow: 0px 1px 2px rgba(60, 64, 67, 0.3), 0px 1px 3px 1px rgba(60, 64, 67, 0.15);\n",
              "      fill: #174EA6;\n",
              "    }\n",
              "\n",
              "    [theme=dark] .colab-df-convert {\n",
              "      background-color: #3B4455;\n",
              "      fill: #D2E3FC;\n",
              "    }\n",
              "\n",
              "    [theme=dark] .colab-df-convert:hover {\n",
              "      background-color: #434B5C;\n",
              "      box-shadow: 0px 1px 3px 1px rgba(0, 0, 0, 0.15);\n",
              "      filter: drop-shadow(0px 1px 2px rgba(0, 0, 0, 0.3));\n",
              "      fill: #FFFFFF;\n",
              "    }\n",
              "  </style>\n",
              "\n",
              "      <script>\n",
              "        const buttonEl =\n",
              "          document.querySelector('#df-8b708d7c-844b-4a1d-9355-f7bbd6e6a87c button.colab-df-convert');\n",
              "        buttonEl.style.display =\n",
              "          google.colab.kernel.accessAllowed ? 'block' : 'none';\n",
              "\n",
              "        async function convertToInteractive(key) {\n",
              "          const element = document.querySelector('#df-8b708d7c-844b-4a1d-9355-f7bbd6e6a87c');\n",
              "          const dataTable =\n",
              "            await google.colab.kernel.invokeFunction('convertToInteractive',\n",
              "                                                     [key], {});\n",
              "          if (!dataTable) return;\n",
              "\n",
              "          const docLinkHtml = 'Like what you see? Visit the ' +\n",
              "            '<a target=\"_blank\" href=https://colab.research.google.com/notebooks/data_table.ipynb>data table notebook</a>'\n",
              "            + ' to learn more about interactive tables.';\n",
              "          element.innerHTML = '';\n",
              "          dataTable['output_type'] = 'display_data';\n",
              "          await google.colab.output.renderOutput(dataTable, element);\n",
              "          const docLink = document.createElement('div');\n",
              "          docLink.innerHTML = docLinkHtml;\n",
              "          element.appendChild(docLink);\n",
              "        }\n",
              "      </script>\n",
              "    </div>\n",
              "  </div>\n",
              "  "
            ],
            "text/plain": [
              "            India Price  Asia Price  Rotterdam Price  US Domestic Price\n",
              "Date                                                                   \n",
              "2005-10-07        240.0       232.5            210.4              84.63\n",
              "2005-10-14        240.0       232.5            213.5              81.00\n",
              "2005-10-21        242.5       235.0            214.0              81.00\n",
              "2005-10-28        242.5       232.5            213.0              84.63\n",
              "2005-11-04        250.0       242.5            215.5              86.45"
            ]
          },
          "metadata": {},
          "execution_count": 9
        }
      ]
    },
    {
      "cell_type": "markdown",
      "source": [
        "SPLITTING DATA INTO TRAIN AND TEST SETS"
      ],
      "metadata": {
        "id": "KiRLp1URGGu_"
      }
    },
    {
      "cell_type": "code",
      "source": [
        "X=data[['India Price','Asia Price','Rotterdam Price','US Domestic Price']]\n",
        "y=data[['India Price']]"
      ],
      "metadata": {
        "id": "k5ncX6ZcoVX0"
      },
      "execution_count": null,
      "outputs": []
    },
    {
      "cell_type": "code",
      "source": [
        "train=X[0:636]\n",
        "test=X[636:]"
      ],
      "metadata": {
        "id": "COM1PaXLoX7i"
      },
      "execution_count": null,
      "outputs": []
    },
    {
      "cell_type": "code",
      "source": [
        "train.tail()"
      ],
      "metadata": {
        "colab": {
          "base_uri": "https://localhost:8080/",
          "height": 238
        },
        "id": "UT3cWHkysRIZ",
        "outputId": "59b37ff6-4ae7-48d8-b996-7656e4c57d9c"
      },
      "execution_count": null,
      "outputs": [
        {
          "output_type": "execute_result",
          "data": {
            "text/html": [
              "\n",
              "  <div id=\"df-e62f161b-ae6a-4190-b442-e2c84af50596\">\n",
              "    <div class=\"colab-df-container\">\n",
              "      <div>\n",
              "<style scoped>\n",
              "    .dataframe tbody tr th:only-of-type {\n",
              "        vertical-align: middle;\n",
              "    }\n",
              "\n",
              "    .dataframe tbody tr th {\n",
              "        vertical-align: top;\n",
              "    }\n",
              "\n",
              "    .dataframe thead th {\n",
              "        text-align: right;\n",
              "    }\n",
              "</style>\n",
              "<table border=\"1\" class=\"dataframe\">\n",
              "  <thead>\n",
              "    <tr style=\"text-align: right;\">\n",
              "      <th></th>\n",
              "      <th>India Price</th>\n",
              "      <th>Asia Price</th>\n",
              "      <th>Rotterdam Price</th>\n",
              "      <th>US Domestic Price</th>\n",
              "    </tr>\n",
              "    <tr>\n",
              "      <th>Date</th>\n",
              "      <th></th>\n",
              "      <th></th>\n",
              "      <th></th>\n",
              "      <th></th>\n",
              "    </tr>\n",
              "  </thead>\n",
              "  <tbody>\n",
              "    <tr>\n",
              "      <th>2018-02-02</th>\n",
              "      <td>367.0</td>\n",
              "      <td>408.0</td>\n",
              "      <td>354.5</td>\n",
              "      <td>127.93</td>\n",
              "    </tr>\n",
              "    <tr>\n",
              "      <th>2018-02-09</th>\n",
              "      <td>359.0</td>\n",
              "      <td>387.0</td>\n",
              "      <td>343.1</td>\n",
              "      <td>127.93</td>\n",
              "    </tr>\n",
              "    <tr>\n",
              "      <th>2018-02-16</th>\n",
              "      <td>347.0</td>\n",
              "      <td>387.0</td>\n",
              "      <td>333.4</td>\n",
              "      <td>127.93</td>\n",
              "    </tr>\n",
              "    <tr>\n",
              "      <th>2018-02-23</th>\n",
              "      <td>342.0</td>\n",
              "      <td>381.0</td>\n",
              "      <td>320.5</td>\n",
              "      <td>127.93</td>\n",
              "    </tr>\n",
              "    <tr>\n",
              "      <th>2018-03-02</th>\n",
              "      <td>336.0</td>\n",
              "      <td>380.0</td>\n",
              "      <td>316.2</td>\n",
              "      <td>119.20</td>\n",
              "    </tr>\n",
              "  </tbody>\n",
              "</table>\n",
              "</div>\n",
              "      <button class=\"colab-df-convert\" onclick=\"convertToInteractive('df-e62f161b-ae6a-4190-b442-e2c84af50596')\"\n",
              "              title=\"Convert this dataframe to an interactive table.\"\n",
              "              style=\"display:none;\">\n",
              "        \n",
              "  <svg xmlns=\"http://www.w3.org/2000/svg\" height=\"24px\"viewBox=\"0 0 24 24\"\n",
              "       width=\"24px\">\n",
              "    <path d=\"M0 0h24v24H0V0z\" fill=\"none\"/>\n",
              "    <path d=\"M18.56 5.44l.94 2.06.94-2.06 2.06-.94-2.06-.94-.94-2.06-.94 2.06-2.06.94zm-11 1L8.5 8.5l.94-2.06 2.06-.94-2.06-.94L8.5 2.5l-.94 2.06-2.06.94zm10 10l.94 2.06.94-2.06 2.06-.94-2.06-.94-.94-2.06-.94 2.06-2.06.94z\"/><path d=\"M17.41 7.96l-1.37-1.37c-.4-.4-.92-.59-1.43-.59-.52 0-1.04.2-1.43.59L10.3 9.45l-7.72 7.72c-.78.78-.78 2.05 0 2.83L4 21.41c.39.39.9.59 1.41.59.51 0 1.02-.2 1.41-.59l7.78-7.78 2.81-2.81c.8-.78.8-2.07 0-2.86zM5.41 20L4 18.59l7.72-7.72 1.47 1.35L5.41 20z\"/>\n",
              "  </svg>\n",
              "      </button>\n",
              "      \n",
              "  <style>\n",
              "    .colab-df-container {\n",
              "      display:flex;\n",
              "      flex-wrap:wrap;\n",
              "      gap: 12px;\n",
              "    }\n",
              "\n",
              "    .colab-df-convert {\n",
              "      background-color: #E8F0FE;\n",
              "      border: none;\n",
              "      border-radius: 50%;\n",
              "      cursor: pointer;\n",
              "      display: none;\n",
              "      fill: #1967D2;\n",
              "      height: 32px;\n",
              "      padding: 0 0 0 0;\n",
              "      width: 32px;\n",
              "    }\n",
              "\n",
              "    .colab-df-convert:hover {\n",
              "      background-color: #E2EBFA;\n",
              "      box-shadow: 0px 1px 2px rgba(60, 64, 67, 0.3), 0px 1px 3px 1px rgba(60, 64, 67, 0.15);\n",
              "      fill: #174EA6;\n",
              "    }\n",
              "\n",
              "    [theme=dark] .colab-df-convert {\n",
              "      background-color: #3B4455;\n",
              "      fill: #D2E3FC;\n",
              "    }\n",
              "\n",
              "    [theme=dark] .colab-df-convert:hover {\n",
              "      background-color: #434B5C;\n",
              "      box-shadow: 0px 1px 3px 1px rgba(0, 0, 0, 0.15);\n",
              "      filter: drop-shadow(0px 1px 2px rgba(0, 0, 0, 0.3));\n",
              "      fill: #FFFFFF;\n",
              "    }\n",
              "  </style>\n",
              "\n",
              "      <script>\n",
              "        const buttonEl =\n",
              "          document.querySelector('#df-e62f161b-ae6a-4190-b442-e2c84af50596 button.colab-df-convert');\n",
              "        buttonEl.style.display =\n",
              "          google.colab.kernel.accessAllowed ? 'block' : 'none';\n",
              "\n",
              "        async function convertToInteractive(key) {\n",
              "          const element = document.querySelector('#df-e62f161b-ae6a-4190-b442-e2c84af50596');\n",
              "          const dataTable =\n",
              "            await google.colab.kernel.invokeFunction('convertToInteractive',\n",
              "                                                     [key], {});\n",
              "          if (!dataTable) return;\n",
              "\n",
              "          const docLinkHtml = 'Like what you see? Visit the ' +\n",
              "            '<a target=\"_blank\" href=https://colab.research.google.com/notebooks/data_table.ipynb>data table notebook</a>'\n",
              "            + ' to learn more about interactive tables.';\n",
              "          element.innerHTML = '';\n",
              "          dataTable['output_type'] = 'display_data';\n",
              "          await google.colab.output.renderOutput(dataTable, element);\n",
              "          const docLink = document.createElement('div');\n",
              "          docLink.innerHTML = docLinkHtml;\n",
              "          element.appendChild(docLink);\n",
              "        }\n",
              "      </script>\n",
              "    </div>\n",
              "  </div>\n",
              "  "
            ],
            "text/plain": [
              "            India Price  Asia Price  Rotterdam Price  US Domestic Price\n",
              "Date                                                                   \n",
              "2018-02-02        367.0       408.0            354.5             127.93\n",
              "2018-02-09        359.0       387.0            343.1             127.93\n",
              "2018-02-16        347.0       387.0            333.4             127.93\n",
              "2018-02-23        342.0       381.0            320.5             127.93\n",
              "2018-03-02        336.0       380.0            316.2             119.20"
            ]
          },
          "metadata": {},
          "execution_count": 13
        }
      ]
    },
    {
      "cell_type": "markdown",
      "source": [
        "FEATURE SCALING OF DATA"
      ],
      "metadata": {
        "id": "cCoqiaYcGMrv"
      }
    },
    {
      "cell_type": "code",
      "source": [
        "scaler= MinMaxScaler()"
      ],
      "metadata": {
        "id": "lJjNRXy8smfq"
      },
      "execution_count": null,
      "outputs": []
    },
    {
      "cell_type": "code",
      "source": [
        "scaled_train=scaler.fit_transform(train)"
      ],
      "metadata": {
        "id": "OkPdnny4sqag"
      },
      "execution_count": null,
      "outputs": []
    },
    {
      "cell_type": "code",
      "source": [
        "win_length=12 # 3 months data or 12 weeks\n",
        "batch_size=3 #training 3 weeks data together \n",
        "n_features=4 # there are 4 inputs\n",
        "train_generator=TimeseriesGenerator(scaled_train,scaled_train,length=win_length,sampling_rate=1,batch_size=batch_size)"
      ],
      "metadata": {
        "id": "cPxOw5Fjstgb"
      },
      "execution_count": null,
      "outputs": []
    },
    {
      "cell_type": "markdown",
      "source": [
        "IMPORTING LIBRARIES TO IMPLEMENT LSTM"
      ],
      "metadata": {
        "id": "x1h6b1lcGSOc"
      }
    },
    {
      "cell_type": "code",
      "source": [
        "from keras.models import Sequential\n",
        "from keras.layers import Dense\n",
        "from keras.layers import LSTM"
      ],
      "metadata": {
        "id": "fFlcykzPszJe"
      },
      "execution_count": null,
      "outputs": []
    },
    {
      "cell_type": "code",
      "source": [
        "model=Sequential()"
      ],
      "metadata": {
        "id": "UjN2yyDHs9AO"
      },
      "execution_count": null,
      "outputs": []
    },
    {
      "cell_type": "markdown",
      "source": [
        "Return sequences -need hidden state for each of the input data.\n",
        "\n",
        "Hidden states are technically speaking inputs to whatever we do at a given step, and they can only be computed by looking at data at previous time steps.\n",
        "\n",
        "Leaky ReLU has a small slope for negative values, instead of altogether zero. Leaky relu as the name suggests adds a small leak for - ve values (alpha) rather than making them 0."
      ],
      "metadata": {
        "id": "ZBVi8iE7GeI4"
      }
    },
    {
      "cell_type": "code",
      "source": [
        "model.add(tf.keras.layers.LSTM(128,input_shape=(win_length,n_features),return_sequences=True)) # creating an lstm layer with input shape containing window size and 4 iinputs\n",
        "model.add(tf.keras.layers.LeakyReLU(alpha=0.5))\n",
        "model.add(tf.keras.layers.LSTM(128,return_sequences=True))\n",
        "model.add(tf.keras.layers.LeakyReLU(alpha=0.5))\n",
        "model.add(tf.keras.layers.Dropout(0.3)) #Dropout is a technique used to prevent a model from overfitting\n",
        "model.add(tf.keras.layers.LSTM(64,return_sequences=False)) #false returns only 1 hidden state for all observations tgther\n",
        "model.add(tf.keras.layers.Dropout(0.3))\n",
        "model.add(tf.keras.layers.Dense(1)) #deeply connected with its preceding layer final layer"
      ],
      "metadata": {
        "id": "gWjIzWtOs_DM"
      },
      "execution_count": null,
      "outputs": []
    },
    {
      "cell_type": "code",
      "source": [
        "model.compile(optimizer='adam',loss='mse',metrics=[tf.metrics.MeanAbsoluteError()])"
      ],
      "metadata": {
        "id": "ZLR0sLJstCIs"
      },
      "execution_count": null,
      "outputs": []
    },
    {
      "cell_type": "code",
      "source": [
        "model.summary()"
      ],
      "metadata": {
        "colab": {
          "base_uri": "https://localhost:8080/"
        },
        "id": "cdhAtUgltGsb",
        "outputId": "2b43039f-a93b-46d7-b1fd-4bbedb1ea2d2"
      },
      "execution_count": null,
      "outputs": [
        {
          "output_type": "stream",
          "name": "stdout",
          "text": [
            "Model: \"sequential_1\"\n",
            "_________________________________________________________________\n",
            " Layer (type)                Output Shape              Param #   \n",
            "=================================================================\n",
            " lstm_7 (LSTM)               (None, 12, 128)           68096     \n",
            "                                                                 \n",
            " leaky_re_lu_2 (LeakyReLU)   (None, 12, 128)           0         \n",
            "                                                                 \n",
            " lstm_8 (LSTM)               (None, 12, 128)           131584    \n",
            "                                                                 \n",
            " leaky_re_lu_3 (LeakyReLU)   (None, 12, 128)           0         \n",
            "                                                                 \n",
            " dropout_2 (Dropout)         (None, 12, 128)           0         \n",
            "                                                                 \n",
            " lstm_9 (LSTM)               (None, 64)                49408     \n",
            "                                                                 \n",
            " dropout_3 (Dropout)         (None, 64)                0         \n",
            "                                                                 \n",
            " dense_1 (Dense)             (None, 1)                 65        \n",
            "                                                                 \n",
            "=================================================================\n",
            "Total params: 249,153\n",
            "Trainable params: 249,153\n",
            "Non-trainable params: 0\n",
            "_________________________________________________________________\n"
          ]
        }
      ]
    },
    {
      "cell_type": "code",
      "source": [
        "history=model.fit_generator(train_generator,epochs=50,shuffle=False) "
      ],
      "metadata": {
        "colab": {
          "base_uri": "https://localhost:8080/"
        },
        "id": "uDdSVHn_tIuK",
        "outputId": "ab30d04b-87bd-4f85-c22f-1612c779c2c3"
      },
      "execution_count": null,
      "outputs": [
        {
          "output_type": "stream",
          "name": "stderr",
          "text": [
            "/usr/local/lib/python3.7/dist-packages/ipykernel_launcher.py:1: UserWarning: `Model.fit_generator` is deprecated and will be removed in a future version. Please use `Model.fit`, which supports generators.\n",
            "  \"\"\"Entry point for launching an IPython kernel.\n"
          ]
        },
        {
          "output_type": "stream",
          "name": "stdout",
          "text": [
            "Epoch 1/50\n",
            "208/208 [==============================] - 12s 27ms/step - loss: 0.0357 - mean_absolute_error: 0.1351\n",
            "Epoch 2/50\n",
            "208/208 [==============================] - 5s 26ms/step - loss: 0.0281 - mean_absolute_error: 0.1277\n",
            "Epoch 3/50\n",
            "208/208 [==============================] - 5s 26ms/step - loss: 0.0263 - mean_absolute_error: 0.1217\n",
            "Epoch 4/50\n",
            "208/208 [==============================] - 6s 27ms/step - loss: 0.0219 - mean_absolute_error: 0.1115\n",
            "Epoch 5/50\n",
            "208/208 [==============================] - 5s 26ms/step - loss: 0.0182 - mean_absolute_error: 0.1020\n",
            "Epoch 6/50\n",
            "208/208 [==============================] - 5s 26ms/step - loss: 0.0130 - mean_absolute_error: 0.0905\n",
            "Epoch 7/50\n",
            "208/208 [==============================] - 5s 26ms/step - loss: 0.0132 - mean_absolute_error: 0.0896\n",
            "Epoch 8/50\n",
            "208/208 [==============================] - 5s 26ms/step - loss: 0.0111 - mean_absolute_error: 0.0823\n",
            "Epoch 9/50\n",
            "208/208 [==============================] - 6s 27ms/step - loss: 0.0094 - mean_absolute_error: 0.0758\n",
            "Epoch 10/50\n",
            "208/208 [==============================] - 6s 26ms/step - loss: 0.0086 - mean_absolute_error: 0.0729\n",
            "Epoch 11/50\n",
            "208/208 [==============================] - 5s 26ms/step - loss: 0.0089 - mean_absolute_error: 0.0731\n",
            "Epoch 12/50\n",
            "208/208 [==============================] - 6s 28ms/step - loss: 0.0086 - mean_absolute_error: 0.0712\n",
            "Epoch 13/50\n",
            "208/208 [==============================] - 6s 27ms/step - loss: 0.0079 - mean_absolute_error: 0.0693\n",
            "Epoch 14/50\n",
            "208/208 [==============================] - 6s 26ms/step - loss: 0.0079 - mean_absolute_error: 0.0694\n",
            "Epoch 15/50\n",
            "208/208 [==============================] - 5s 26ms/step - loss: 0.0078 - mean_absolute_error: 0.0693\n",
            "Epoch 16/50\n",
            "208/208 [==============================] - 6s 27ms/step - loss: 0.0078 - mean_absolute_error: 0.0695\n",
            "Epoch 17/50\n",
            "208/208 [==============================] - 5s 26ms/step - loss: 0.0074 - mean_absolute_error: 0.0671\n",
            "Epoch 18/50\n",
            "208/208 [==============================] - 5s 26ms/step - loss: 0.0074 - mean_absolute_error: 0.0675\n",
            "Epoch 19/50\n",
            "208/208 [==============================] - 5s 26ms/step - loss: 0.0072 - mean_absolute_error: 0.0673\n",
            "Epoch 20/50\n",
            "208/208 [==============================] - 5s 26ms/step - loss: 0.0071 - mean_absolute_error: 0.0669\n",
            "Epoch 21/50\n",
            "208/208 [==============================] - 5s 26ms/step - loss: 0.0083 - mean_absolute_error: 0.0718\n",
            "Epoch 22/50\n",
            "208/208 [==============================] - 5s 26ms/step - loss: 0.0078 - mean_absolute_error: 0.0695\n",
            "Epoch 23/50\n",
            "208/208 [==============================] - 6s 26ms/step - loss: 0.0073 - mean_absolute_error: 0.0671\n",
            "Epoch 24/50\n",
            "208/208 [==============================] - 6s 27ms/step - loss: 0.0073 - mean_absolute_error: 0.0679\n",
            "Epoch 25/50\n",
            "208/208 [==============================] - 5s 26ms/step - loss: 0.0069 - mean_absolute_error: 0.0656\n",
            "Epoch 26/50\n",
            "208/208 [==============================] - 5s 26ms/step - loss: 0.0069 - mean_absolute_error: 0.0660\n",
            "Epoch 27/50\n",
            "208/208 [==============================] - 5s 26ms/step - loss: 0.0074 - mean_absolute_error: 0.0676\n",
            "Epoch 28/50\n",
            "208/208 [==============================] - 6s 27ms/step - loss: 0.0075 - mean_absolute_error: 0.0696\n",
            "Epoch 29/50\n",
            "208/208 [==============================] - 6s 27ms/step - loss: 0.0069 - mean_absolute_error: 0.0653\n",
            "Epoch 30/50\n",
            "208/208 [==============================] - 6s 27ms/step - loss: 0.0068 - mean_absolute_error: 0.0654\n",
            "Epoch 31/50\n",
            "208/208 [==============================] - 6s 29ms/step - loss: 0.0072 - mean_absolute_error: 0.0668\n",
            "Epoch 32/50\n",
            "208/208 [==============================] - 5s 26ms/step - loss: 0.0067 - mean_absolute_error: 0.0652\n",
            "Epoch 33/50\n",
            "208/208 [==============================] - 5s 26ms/step - loss: 0.0067 - mean_absolute_error: 0.0649\n",
            "Epoch 34/50\n",
            "208/208 [==============================] - 6s 26ms/step - loss: 0.0069 - mean_absolute_error: 0.0656\n",
            "Epoch 35/50\n",
            "208/208 [==============================] - 5s 26ms/step - loss: 0.0068 - mean_absolute_error: 0.0652\n",
            "Epoch 36/50\n",
            "208/208 [==============================] - 6s 27ms/step - loss: 0.0068 - mean_absolute_error: 0.0653\n",
            "Epoch 37/50\n",
            "208/208 [==============================] - 6s 27ms/step - loss: 0.0072 - mean_absolute_error: 0.0673\n",
            "Epoch 38/50\n",
            "208/208 [==============================] - 6s 27ms/step - loss: 0.0069 - mean_absolute_error: 0.0665\n",
            "Epoch 39/50\n",
            "208/208 [==============================] - 6s 27ms/step - loss: 0.0067 - mean_absolute_error: 0.0655\n",
            "Epoch 40/50\n",
            "208/208 [==============================] - 5s 26ms/step - loss: 0.0067 - mean_absolute_error: 0.0647\n",
            "Epoch 41/50\n",
            "208/208 [==============================] - 5s 26ms/step - loss: 0.0074 - mean_absolute_error: 0.0681\n",
            "Epoch 42/50\n",
            "208/208 [==============================] - 5s 26ms/step - loss: 0.0069 - mean_absolute_error: 0.0660\n",
            "Epoch 43/50\n",
            "208/208 [==============================] - 6s 27ms/step - loss: 0.0066 - mean_absolute_error: 0.0644\n",
            "Epoch 44/50\n",
            "208/208 [==============================] - 5s 26ms/step - loss: 0.0065 - mean_absolute_error: 0.0649\n",
            "Epoch 45/50\n",
            "208/208 [==============================] - 5s 26ms/step - loss: 0.0064 - mean_absolute_error: 0.0639\n",
            "Epoch 46/50\n",
            "208/208 [==============================] - 6s 26ms/step - loss: 0.0064 - mean_absolute_error: 0.0640\n",
            "Epoch 47/50\n",
            "208/208 [==============================] - 5s 26ms/step - loss: 0.0065 - mean_absolute_error: 0.0642\n",
            "Epoch 48/50\n",
            "208/208 [==============================] - 5s 26ms/step - loss: 0.0066 - mean_absolute_error: 0.0646\n",
            "Epoch 49/50\n",
            "208/208 [==============================] - 5s 26ms/step - loss: 0.0070 - mean_absolute_error: 0.0657\n",
            "Epoch 50/50\n",
            "208/208 [==============================] - 5s 26ms/step - loss: 0.0066 - mean_absolute_error: 0.0650\n"
          ]
        }
      ]
    },
    {
      "cell_type": "markdown",
      "source": [
        "FORECASTING FUTURE VALUES"
      ],
      "metadata": {
        "id": "jGuuHvlHId2w"
      }
    },
    {
      "cell_type": "markdown",
      "source": [
        "Predicting 1st week of test set using last 12 weeks of Train set"
      ],
      "metadata": {
        "id": "r1Yv0-SPKKIx"
      }
    },
    {
      "cell_type": "code",
      "source": [
        "train[-12:]"
      ],
      "metadata": {
        "colab": {
          "base_uri": "https://localhost:8080/",
          "height": 457
        },
        "id": "XrRlt6NvtSYK",
        "outputId": "dcbe1b1d-9344-4158-f188-3659214717c9"
      },
      "execution_count": null,
      "outputs": [
        {
          "output_type": "execute_result",
          "data": {
            "text/html": [
              "\n",
              "  <div id=\"df-e5e99e3d-ac71-46e6-b43d-be944a772db5\">\n",
              "    <div class=\"colab-df-container\">\n",
              "      <div>\n",
              "<style scoped>\n",
              "    .dataframe tbody tr th:only-of-type {\n",
              "        vertical-align: middle;\n",
              "    }\n",
              "\n",
              "    .dataframe tbody tr th {\n",
              "        vertical-align: top;\n",
              "    }\n",
              "\n",
              "    .dataframe thead th {\n",
              "        text-align: right;\n",
              "    }\n",
              "</style>\n",
              "<table border=\"1\" class=\"dataframe\">\n",
              "  <thead>\n",
              "    <tr style=\"text-align: right;\">\n",
              "      <th></th>\n",
              "      <th>India Price</th>\n",
              "      <th>Asia Price</th>\n",
              "      <th>Rotterdam Price</th>\n",
              "      <th>US Domestic Price</th>\n",
              "    </tr>\n",
              "    <tr>\n",
              "      <th>Date</th>\n",
              "      <th></th>\n",
              "      <th></th>\n",
              "      <th></th>\n",
              "      <th></th>\n",
              "    </tr>\n",
              "  </thead>\n",
              "  <tbody>\n",
              "    <tr>\n",
              "      <th>2017-12-08</th>\n",
              "      <td>401.0</td>\n",
              "      <td>406.0</td>\n",
              "      <td>305.80</td>\n",
              "      <td>104.55</td>\n",
              "    </tr>\n",
              "    <tr>\n",
              "      <th>2017-12-15</th>\n",
              "      <td>415.0</td>\n",
              "      <td>420.0</td>\n",
              "      <td>322.60</td>\n",
              "      <td>104.55</td>\n",
              "    </tr>\n",
              "    <tr>\n",
              "      <th>2017-12-22</th>\n",
              "      <td>432.0</td>\n",
              "      <td>425.0</td>\n",
              "      <td>329.90</td>\n",
              "      <td>104.55</td>\n",
              "    </tr>\n",
              "    <tr>\n",
              "      <th>2018-01-05</th>\n",
              "      <td>430.0</td>\n",
              "      <td>409.0</td>\n",
              "      <td>340.13</td>\n",
              "      <td>121.55</td>\n",
              "    </tr>\n",
              "    <tr>\n",
              "      <th>2018-01-12</th>\n",
              "      <td>422.0</td>\n",
              "      <td>415.0</td>\n",
              "      <td>356.30</td>\n",
              "      <td>121.55</td>\n",
              "    </tr>\n",
              "    <tr>\n",
              "      <th>2018-01-19</th>\n",
              "      <td>396.0</td>\n",
              "      <td>400.0</td>\n",
              "      <td>354.90</td>\n",
              "      <td>121.55</td>\n",
              "    </tr>\n",
              "    <tr>\n",
              "      <th>2018-01-26</th>\n",
              "      <td>383.0</td>\n",
              "      <td>400.0</td>\n",
              "      <td>361.70</td>\n",
              "      <td>121.55</td>\n",
              "    </tr>\n",
              "    <tr>\n",
              "      <th>2018-02-02</th>\n",
              "      <td>367.0</td>\n",
              "      <td>408.0</td>\n",
              "      <td>354.50</td>\n",
              "      <td>127.93</td>\n",
              "    </tr>\n",
              "    <tr>\n",
              "      <th>2018-02-09</th>\n",
              "      <td>359.0</td>\n",
              "      <td>387.0</td>\n",
              "      <td>343.10</td>\n",
              "      <td>127.93</td>\n",
              "    </tr>\n",
              "    <tr>\n",
              "      <th>2018-02-16</th>\n",
              "      <td>347.0</td>\n",
              "      <td>387.0</td>\n",
              "      <td>333.40</td>\n",
              "      <td>127.93</td>\n",
              "    </tr>\n",
              "    <tr>\n",
              "      <th>2018-02-23</th>\n",
              "      <td>342.0</td>\n",
              "      <td>381.0</td>\n",
              "      <td>320.50</td>\n",
              "      <td>127.93</td>\n",
              "    </tr>\n",
              "    <tr>\n",
              "      <th>2018-03-02</th>\n",
              "      <td>336.0</td>\n",
              "      <td>380.0</td>\n",
              "      <td>316.20</td>\n",
              "      <td>119.20</td>\n",
              "    </tr>\n",
              "  </tbody>\n",
              "</table>\n",
              "</div>\n",
              "      <button class=\"colab-df-convert\" onclick=\"convertToInteractive('df-e5e99e3d-ac71-46e6-b43d-be944a772db5')\"\n",
              "              title=\"Convert this dataframe to an interactive table.\"\n",
              "              style=\"display:none;\">\n",
              "        \n",
              "  <svg xmlns=\"http://www.w3.org/2000/svg\" height=\"24px\"viewBox=\"0 0 24 24\"\n",
              "       width=\"24px\">\n",
              "    <path d=\"M0 0h24v24H0V0z\" fill=\"none\"/>\n",
              "    <path d=\"M18.56 5.44l.94 2.06.94-2.06 2.06-.94-2.06-.94-.94-2.06-.94 2.06-2.06.94zm-11 1L8.5 8.5l.94-2.06 2.06-.94-2.06-.94L8.5 2.5l-.94 2.06-2.06.94zm10 10l.94 2.06.94-2.06 2.06-.94-2.06-.94-.94-2.06-.94 2.06-2.06.94z\"/><path d=\"M17.41 7.96l-1.37-1.37c-.4-.4-.92-.59-1.43-.59-.52 0-1.04.2-1.43.59L10.3 9.45l-7.72 7.72c-.78.78-.78 2.05 0 2.83L4 21.41c.39.39.9.59 1.41.59.51 0 1.02-.2 1.41-.59l7.78-7.78 2.81-2.81c.8-.78.8-2.07 0-2.86zM5.41 20L4 18.59l7.72-7.72 1.47 1.35L5.41 20z\"/>\n",
              "  </svg>\n",
              "      </button>\n",
              "      \n",
              "  <style>\n",
              "    .colab-df-container {\n",
              "      display:flex;\n",
              "      flex-wrap:wrap;\n",
              "      gap: 12px;\n",
              "    }\n",
              "\n",
              "    .colab-df-convert {\n",
              "      background-color: #E8F0FE;\n",
              "      border: none;\n",
              "      border-radius: 50%;\n",
              "      cursor: pointer;\n",
              "      display: none;\n",
              "      fill: #1967D2;\n",
              "      height: 32px;\n",
              "      padding: 0 0 0 0;\n",
              "      width: 32px;\n",
              "    }\n",
              "\n",
              "    .colab-df-convert:hover {\n",
              "      background-color: #E2EBFA;\n",
              "      box-shadow: 0px 1px 2px rgba(60, 64, 67, 0.3), 0px 1px 3px 1px rgba(60, 64, 67, 0.15);\n",
              "      fill: #174EA6;\n",
              "    }\n",
              "\n",
              "    [theme=dark] .colab-df-convert {\n",
              "      background-color: #3B4455;\n",
              "      fill: #D2E3FC;\n",
              "    }\n",
              "\n",
              "    [theme=dark] .colab-df-convert:hover {\n",
              "      background-color: #434B5C;\n",
              "      box-shadow: 0px 1px 3px 1px rgba(0, 0, 0, 0.15);\n",
              "      filter: drop-shadow(0px 1px 2px rgba(0, 0, 0, 0.3));\n",
              "      fill: #FFFFFF;\n",
              "    }\n",
              "  </style>\n",
              "\n",
              "      <script>\n",
              "        const buttonEl =\n",
              "          document.querySelector('#df-e5e99e3d-ac71-46e6-b43d-be944a772db5 button.colab-df-convert');\n",
              "        buttonEl.style.display =\n",
              "          google.colab.kernel.accessAllowed ? 'block' : 'none';\n",
              "\n",
              "        async function convertToInteractive(key) {\n",
              "          const element = document.querySelector('#df-e5e99e3d-ac71-46e6-b43d-be944a772db5');\n",
              "          const dataTable =\n",
              "            await google.colab.kernel.invokeFunction('convertToInteractive',\n",
              "                                                     [key], {});\n",
              "          if (!dataTable) return;\n",
              "\n",
              "          const docLinkHtml = 'Like what you see? Visit the ' +\n",
              "            '<a target=\"_blank\" href=https://colab.research.google.com/notebooks/data_table.ipynb>data table notebook</a>'\n",
              "            + ' to learn more about interactive tables.';\n",
              "          element.innerHTML = '';\n",
              "          dataTable['output_type'] = 'display_data';\n",
              "          await google.colab.output.renderOutput(dataTable, element);\n",
              "          const docLink = document.createElement('div');\n",
              "          docLink.innerHTML = docLinkHtml;\n",
              "          element.appendChild(docLink);\n",
              "        }\n",
              "      </script>\n",
              "    </div>\n",
              "  </div>\n",
              "  "
            ],
            "text/plain": [
              "            India Price  Asia Price  Rotterdam Price  US Domestic Price\n",
              "Date                                                                   \n",
              "2017-12-08        401.0       406.0           305.80             104.55\n",
              "2017-12-15        415.0       420.0           322.60             104.55\n",
              "2017-12-22        432.0       425.0           329.90             104.55\n",
              "2018-01-05        430.0       409.0           340.13             121.55\n",
              "2018-01-12        422.0       415.0           356.30             121.55\n",
              "2018-01-19        396.0       400.0           354.90             121.55\n",
              "2018-01-26        383.0       400.0           361.70             121.55\n",
              "2018-02-02        367.0       408.0           354.50             127.93\n",
              "2018-02-09        359.0       387.0           343.10             127.93\n",
              "2018-02-16        347.0       387.0           333.40             127.93\n",
              "2018-02-23        342.0       381.0           320.50             127.93\n",
              "2018-03-02        336.0       380.0           316.20             119.20"
            ]
          },
          "metadata": {},
          "execution_count": 43
        }
      ]
    },
    {
      "cell_type": "code",
      "source": [
        "last_scaled_train=train[-12:]\n",
        "last_train=scaler.fit_transform(last_scaled_train)\n",
        "last_train"
      ],
      "metadata": {
        "id": "i-HRo8wmtYDu",
        "colab": {
          "base_uri": "https://localhost:8080/"
        },
        "outputId": "8e6b947e-681c-4f58-eb0b-7c6e30d00a07"
      },
      "execution_count": null,
      "outputs": [
        {
          "output_type": "execute_result",
          "data": {
            "text/plain": [
              "array([[0.67708333, 0.57777778, 0.        , 0.        ],\n",
              "       [0.82291667, 0.88888889, 0.30053667, 0.        ],\n",
              "       [1.        , 1.        , 0.43112701, 0.        ],\n",
              "       [0.97916667, 0.64444444, 0.61413238, 0.72711719],\n",
              "       [0.89583333, 0.77777778, 0.90339893, 0.72711719],\n",
              "       [0.625     , 0.44444444, 0.8783542 , 0.72711719],\n",
              "       [0.48958333, 0.44444444, 1.        , 0.72711719],\n",
              "       [0.32291667, 0.62222222, 0.87119857, 1.        ],\n",
              "       [0.23958333, 0.15555556, 0.66726297, 1.        ],\n",
              "       [0.11458333, 0.15555556, 0.49373882, 1.        ],\n",
              "       [0.0625    , 0.02222222, 0.26296959, 1.        ],\n",
              "       [0.        , 0.        , 0.18604651, 0.62660393]])"
            ]
          },
          "metadata": {},
          "execution_count": 44
        }
      ]
    },
    {
      "cell_type": "code",
      "source": [
        "n_input=12 \n",
        "n_features=4\n",
        "last_train_batch=last_train.reshape((1,n_input,n_features))"
      ],
      "metadata": {
        "id": "ecwjU7eUv2r0"
      },
      "execution_count": null,
      "outputs": []
    },
    {
      "cell_type": "code",
      "source": [
        "train.head()"
      ],
      "metadata": {
        "colab": {
          "base_uri": "https://localhost:8080/",
          "height": 238
        },
        "id": "zNdZ79Uj0gls",
        "outputId": "3b751a42-9ade-4946-d5d5-0c8d1c9e7862"
      },
      "execution_count": null,
      "outputs": [
        {
          "output_type": "execute_result",
          "data": {
            "text/html": [
              "\n",
              "  <div id=\"df-bb02f40a-4ade-40bb-ab17-fa3c41394d3e\">\n",
              "    <div class=\"colab-df-container\">\n",
              "      <div>\n",
              "<style scoped>\n",
              "    .dataframe tbody tr th:only-of-type {\n",
              "        vertical-align: middle;\n",
              "    }\n",
              "\n",
              "    .dataframe tbody tr th {\n",
              "        vertical-align: top;\n",
              "    }\n",
              "\n",
              "    .dataframe thead th {\n",
              "        text-align: right;\n",
              "    }\n",
              "</style>\n",
              "<table border=\"1\" class=\"dataframe\">\n",
              "  <thead>\n",
              "    <tr style=\"text-align: right;\">\n",
              "      <th></th>\n",
              "      <th>India Price</th>\n",
              "      <th>Asia Price</th>\n",
              "      <th>Rotterdam Price</th>\n",
              "      <th>US Domestic Price</th>\n",
              "    </tr>\n",
              "    <tr>\n",
              "      <th>Date</th>\n",
              "      <th></th>\n",
              "      <th></th>\n",
              "      <th></th>\n",
              "      <th></th>\n",
              "    </tr>\n",
              "  </thead>\n",
              "  <tbody>\n",
              "    <tr>\n",
              "      <th>2005-10-07</th>\n",
              "      <td>240.0</td>\n",
              "      <td>232.5</td>\n",
              "      <td>210.4</td>\n",
              "      <td>84.63</td>\n",
              "    </tr>\n",
              "    <tr>\n",
              "      <th>2005-10-14</th>\n",
              "      <td>240.0</td>\n",
              "      <td>232.5</td>\n",
              "      <td>213.5</td>\n",
              "      <td>81.00</td>\n",
              "    </tr>\n",
              "    <tr>\n",
              "      <th>2005-10-21</th>\n",
              "      <td>242.5</td>\n",
              "      <td>235.0</td>\n",
              "      <td>214.0</td>\n",
              "      <td>81.00</td>\n",
              "    </tr>\n",
              "    <tr>\n",
              "      <th>2005-10-28</th>\n",
              "      <td>242.5</td>\n",
              "      <td>232.5</td>\n",
              "      <td>213.0</td>\n",
              "      <td>84.63</td>\n",
              "    </tr>\n",
              "    <tr>\n",
              "      <th>2005-11-04</th>\n",
              "      <td>250.0</td>\n",
              "      <td>242.5</td>\n",
              "      <td>215.5</td>\n",
              "      <td>86.45</td>\n",
              "    </tr>\n",
              "  </tbody>\n",
              "</table>\n",
              "</div>\n",
              "      <button class=\"colab-df-convert\" onclick=\"convertToInteractive('df-bb02f40a-4ade-40bb-ab17-fa3c41394d3e')\"\n",
              "              title=\"Convert this dataframe to an interactive table.\"\n",
              "              style=\"display:none;\">\n",
              "        \n",
              "  <svg xmlns=\"http://www.w3.org/2000/svg\" height=\"24px\"viewBox=\"0 0 24 24\"\n",
              "       width=\"24px\">\n",
              "    <path d=\"M0 0h24v24H0V0z\" fill=\"none\"/>\n",
              "    <path d=\"M18.56 5.44l.94 2.06.94-2.06 2.06-.94-2.06-.94-.94-2.06-.94 2.06-2.06.94zm-11 1L8.5 8.5l.94-2.06 2.06-.94-2.06-.94L8.5 2.5l-.94 2.06-2.06.94zm10 10l.94 2.06.94-2.06 2.06-.94-2.06-.94-.94-2.06-.94 2.06-2.06.94z\"/><path d=\"M17.41 7.96l-1.37-1.37c-.4-.4-.92-.59-1.43-.59-.52 0-1.04.2-1.43.59L10.3 9.45l-7.72 7.72c-.78.78-.78 2.05 0 2.83L4 21.41c.39.39.9.59 1.41.59.51 0 1.02-.2 1.41-.59l7.78-7.78 2.81-2.81c.8-.78.8-2.07 0-2.86zM5.41 20L4 18.59l7.72-7.72 1.47 1.35L5.41 20z\"/>\n",
              "  </svg>\n",
              "      </button>\n",
              "      \n",
              "  <style>\n",
              "    .colab-df-container {\n",
              "      display:flex;\n",
              "      flex-wrap:wrap;\n",
              "      gap: 12px;\n",
              "    }\n",
              "\n",
              "    .colab-df-convert {\n",
              "      background-color: #E8F0FE;\n",
              "      border: none;\n",
              "      border-radius: 50%;\n",
              "      cursor: pointer;\n",
              "      display: none;\n",
              "      fill: #1967D2;\n",
              "      height: 32px;\n",
              "      padding: 0 0 0 0;\n",
              "      width: 32px;\n",
              "    }\n",
              "\n",
              "    .colab-df-convert:hover {\n",
              "      background-color: #E2EBFA;\n",
              "      box-shadow: 0px 1px 2px rgba(60, 64, 67, 0.3), 0px 1px 3px 1px rgba(60, 64, 67, 0.15);\n",
              "      fill: #174EA6;\n",
              "    }\n",
              "\n",
              "    [theme=dark] .colab-df-convert {\n",
              "      background-color: #3B4455;\n",
              "      fill: #D2E3FC;\n",
              "    }\n",
              "\n",
              "    [theme=dark] .colab-df-convert:hover {\n",
              "      background-color: #434B5C;\n",
              "      box-shadow: 0px 1px 3px 1px rgba(0, 0, 0, 0.15);\n",
              "      filter: drop-shadow(0px 1px 2px rgba(0, 0, 0, 0.3));\n",
              "      fill: #FFFFFF;\n",
              "    }\n",
              "  </style>\n",
              "\n",
              "      <script>\n",
              "        const buttonEl =\n",
              "          document.querySelector('#df-bb02f40a-4ade-40bb-ab17-fa3c41394d3e button.colab-df-convert');\n",
              "        buttonEl.style.display =\n",
              "          google.colab.kernel.accessAllowed ? 'block' : 'none';\n",
              "\n",
              "        async function convertToInteractive(key) {\n",
              "          const element = document.querySelector('#df-bb02f40a-4ade-40bb-ab17-fa3c41394d3e');\n",
              "          const dataTable =\n",
              "            await google.colab.kernel.invokeFunction('convertToInteractive',\n",
              "                                                     [key], {});\n",
              "          if (!dataTable) return;\n",
              "\n",
              "          const docLinkHtml = 'Like what you see? Visit the ' +\n",
              "            '<a target=\"_blank\" href=https://colab.research.google.com/notebooks/data_table.ipynb>data table notebook</a>'\n",
              "            + ' to learn more about interactive tables.';\n",
              "          element.innerHTML = '';\n",
              "          dataTable['output_type'] = 'display_data';\n",
              "          await google.colab.output.renderOutput(dataTable, element);\n",
              "          const docLink = document.createElement('div');\n",
              "          docLink.innerHTML = docLinkHtml;\n",
              "          element.appendChild(docLink);\n",
              "        }\n",
              "      </script>\n",
              "    </div>\n",
              "  </div>\n",
              "  "
            ],
            "text/plain": [
              "            India Price  Asia Price  Rotterdam Price  US Domestic Price\n",
              "Date                                                                   \n",
              "2005-10-07        240.0       232.5            210.4              84.63\n",
              "2005-10-14        240.0       232.5            213.5              81.00\n",
              "2005-10-21        242.5       235.0            214.0              81.00\n",
              "2005-10-28        242.5       232.5            213.0              84.63\n",
              "2005-11-04        250.0       242.5            215.5              86.45"
            ]
          },
          "metadata": {},
          "execution_count": 46
        }
      ]
    },
    {
      "cell_type": "code",
      "source": [
        "data[624:648].count()"
      ],
      "metadata": {
        "colab": {
          "base_uri": "https://localhost:8080/"
        },
        "id": "AgcyyOsdz2EH",
        "outputId": "7f08456b-478b-4d6e-f599-85224abc65cd"
      },
      "execution_count": null,
      "outputs": [
        {
          "output_type": "execute_result",
          "data": {
            "text/plain": [
              "India Price          24\n",
              "Asia Price           24\n",
              "Rotterdam Price      24\n",
              "US Domestic Price    24\n",
              "dtype: int64"
            ]
          },
          "metadata": {},
          "execution_count": 47
        }
      ]
    },
    {
      "cell_type": "code",
      "source": [
        "scaled_train"
      ],
      "metadata": {
        "colab": {
          "base_uri": "https://localhost:8080/"
        },
        "id": "Q65vdRhPqTqD",
        "outputId": "26698fc5-80d3-4b43-dd70-8a3d38d01c40"
      },
      "execution_count": null,
      "outputs": [
        {
          "output_type": "execute_result",
          "data": {
            "text/plain": [
              "array([[0.19170984, 0.17032967, 0.26264013, 0.16366551],\n",
              "       [0.19170984, 0.17032967, 0.26973233, 0.1442693 ],\n",
              "       [0.19689119, 0.17582418, 0.27087623, 0.1442693 ],\n",
              "       ...,\n",
              "       [0.4134715 , 0.50989011, 0.54404027, 0.39503072],\n",
              "       [0.40310881, 0.4967033 , 0.51452757, 0.39503072],\n",
              "       [0.39067358, 0.49450549, 0.50469   , 0.34838365]])"
            ]
          },
          "metadata": {},
          "execution_count": 50
        }
      ]
    },
    {
      "cell_type": "code",
      "source": [
        "curr_batch.shape"
      ],
      "metadata": {
        "colab": {
          "base_uri": "https://localhost:8080/"
        },
        "id": "XxSQso_ltJZ4",
        "outputId": "3c294f6d-b5c1-4fae-f2f9-6c9a96a00992"
      },
      "execution_count": null,
      "outputs": [
        {
          "output_type": "execute_result",
          "data": {
            "text/plain": [
              "(1, 12, 1)"
            ]
          },
          "metadata": {},
          "execution_count": 132
        }
      ]
    },
    {
      "cell_type": "code",
      "source": [
        "test_pred=test[0:12]\n",
        "test_pred"
      ],
      "metadata": {
        "colab": {
          "base_uri": "https://localhost:8080/",
          "height": 457
        },
        "id": "ON_Gk_jbLOyj",
        "outputId": "1843d668-6a10-44fa-dc99-c2226cb0b6a8"
      },
      "execution_count": null,
      "outputs": [
        {
          "output_type": "execute_result",
          "data": {
            "text/html": [
              "\n",
              "  <div id=\"df-13c8bb1e-12bd-44a5-bfb1-ed3aafe6fdc9\">\n",
              "    <div class=\"colab-df-container\">\n",
              "      <div>\n",
              "<style scoped>\n",
              "    .dataframe tbody tr th:only-of-type {\n",
              "        vertical-align: middle;\n",
              "    }\n",
              "\n",
              "    .dataframe tbody tr th {\n",
              "        vertical-align: top;\n",
              "    }\n",
              "\n",
              "    .dataframe thead th {\n",
              "        text-align: right;\n",
              "    }\n",
              "</style>\n",
              "<table border=\"1\" class=\"dataframe\">\n",
              "  <thead>\n",
              "    <tr style=\"text-align: right;\">\n",
              "      <th></th>\n",
              "      <th>India Price</th>\n",
              "      <th>Asia Price</th>\n",
              "      <th>Rotterdam Price</th>\n",
              "      <th>US Domestic Price</th>\n",
              "    </tr>\n",
              "    <tr>\n",
              "      <th>Date</th>\n",
              "      <th></th>\n",
              "      <th></th>\n",
              "      <th></th>\n",
              "      <th></th>\n",
              "    </tr>\n",
              "  </thead>\n",
              "  <tbody>\n",
              "    <tr>\n",
              "      <th>2018-03-09</th>\n",
              "      <td>341.0</td>\n",
              "      <td>395.0</td>\n",
              "      <td>323.00</td>\n",
              "      <td>119.2</td>\n",
              "    </tr>\n",
              "    <tr>\n",
              "      <th>2018-03-16</th>\n",
              "      <td>374.0</td>\n",
              "      <td>401.0</td>\n",
              "      <td>315.60</td>\n",
              "      <td>119.2</td>\n",
              "    </tr>\n",
              "    <tr>\n",
              "      <th>2018-03-23</th>\n",
              "      <td>390.0</td>\n",
              "      <td>400.0</td>\n",
              "      <td>314.20</td>\n",
              "      <td>119.2</td>\n",
              "    </tr>\n",
              "    <tr>\n",
              "      <th>2018-03-30</th>\n",
              "      <td>384.0</td>\n",
              "      <td>409.0</td>\n",
              "      <td>310.13</td>\n",
              "      <td>119.2</td>\n",
              "    </tr>\n",
              "    <tr>\n",
              "      <th>2018-04-06</th>\n",
              "      <td>422.0</td>\n",
              "      <td>410.0</td>\n",
              "      <td>317.88</td>\n",
              "      <td>119.2</td>\n",
              "    </tr>\n",
              "    <tr>\n",
              "      <th>2018-04-13</th>\n",
              "      <td>416.0</td>\n",
              "      <td>415.0</td>\n",
              "      <td>323.30</td>\n",
              "      <td>119.2</td>\n",
              "    </tr>\n",
              "    <tr>\n",
              "      <th>2018-04-20</th>\n",
              "      <td>394.0</td>\n",
              "      <td>421.0</td>\n",
              "      <td>318.00</td>\n",
              "      <td>119.2</td>\n",
              "    </tr>\n",
              "    <tr>\n",
              "      <th>2018-04-27</th>\n",
              "      <td>404.0</td>\n",
              "      <td>423.0</td>\n",
              "      <td>310.30</td>\n",
              "      <td>119.2</td>\n",
              "    </tr>\n",
              "    <tr>\n",
              "      <th>2018-05-04</th>\n",
              "      <td>399.0</td>\n",
              "      <td>420.0</td>\n",
              "      <td>314.20</td>\n",
              "      <td>119.2</td>\n",
              "    </tr>\n",
              "    <tr>\n",
              "      <th>2018-05-11</th>\n",
              "      <td>389.0</td>\n",
              "      <td>421.0</td>\n",
              "      <td>330.88</td>\n",
              "      <td>119.2</td>\n",
              "    </tr>\n",
              "    <tr>\n",
              "      <th>2018-05-18</th>\n",
              "      <td>385.0</td>\n",
              "      <td>424.0</td>\n",
              "      <td>332.80</td>\n",
              "      <td>119.2</td>\n",
              "    </tr>\n",
              "    <tr>\n",
              "      <th>2018-05-25</th>\n",
              "      <td>390.0</td>\n",
              "      <td>426.0</td>\n",
              "      <td>330.90</td>\n",
              "      <td>119.2</td>\n",
              "    </tr>\n",
              "  </tbody>\n",
              "</table>\n",
              "</div>\n",
              "      <button class=\"colab-df-convert\" onclick=\"convertToInteractive('df-13c8bb1e-12bd-44a5-bfb1-ed3aafe6fdc9')\"\n",
              "              title=\"Convert this dataframe to an interactive table.\"\n",
              "              style=\"display:none;\">\n",
              "        \n",
              "  <svg xmlns=\"http://www.w3.org/2000/svg\" height=\"24px\"viewBox=\"0 0 24 24\"\n",
              "       width=\"24px\">\n",
              "    <path d=\"M0 0h24v24H0V0z\" fill=\"none\"/>\n",
              "    <path d=\"M18.56 5.44l.94 2.06.94-2.06 2.06-.94-2.06-.94-.94-2.06-.94 2.06-2.06.94zm-11 1L8.5 8.5l.94-2.06 2.06-.94-2.06-.94L8.5 2.5l-.94 2.06-2.06.94zm10 10l.94 2.06.94-2.06 2.06-.94-2.06-.94-.94-2.06-.94 2.06-2.06.94z\"/><path d=\"M17.41 7.96l-1.37-1.37c-.4-.4-.92-.59-1.43-.59-.52 0-1.04.2-1.43.59L10.3 9.45l-7.72 7.72c-.78.78-.78 2.05 0 2.83L4 21.41c.39.39.9.59 1.41.59.51 0 1.02-.2 1.41-.59l7.78-7.78 2.81-2.81c.8-.78.8-2.07 0-2.86zM5.41 20L4 18.59l7.72-7.72 1.47 1.35L5.41 20z\"/>\n",
              "  </svg>\n",
              "      </button>\n",
              "      \n",
              "  <style>\n",
              "    .colab-df-container {\n",
              "      display:flex;\n",
              "      flex-wrap:wrap;\n",
              "      gap: 12px;\n",
              "    }\n",
              "\n",
              "    .colab-df-convert {\n",
              "      background-color: #E8F0FE;\n",
              "      border: none;\n",
              "      border-radius: 50%;\n",
              "      cursor: pointer;\n",
              "      display: none;\n",
              "      fill: #1967D2;\n",
              "      height: 32px;\n",
              "      padding: 0 0 0 0;\n",
              "      width: 32px;\n",
              "    }\n",
              "\n",
              "    .colab-df-convert:hover {\n",
              "      background-color: #E2EBFA;\n",
              "      box-shadow: 0px 1px 2px rgba(60, 64, 67, 0.3), 0px 1px 3px 1px rgba(60, 64, 67, 0.15);\n",
              "      fill: #174EA6;\n",
              "    }\n",
              "\n",
              "    [theme=dark] .colab-df-convert {\n",
              "      background-color: #3B4455;\n",
              "      fill: #D2E3FC;\n",
              "    }\n",
              "\n",
              "    [theme=dark] .colab-df-convert:hover {\n",
              "      background-color: #434B5C;\n",
              "      box-shadow: 0px 1px 3px 1px rgba(0, 0, 0, 0.15);\n",
              "      filter: drop-shadow(0px 1px 2px rgba(0, 0, 0, 0.3));\n",
              "      fill: #FFFFFF;\n",
              "    }\n",
              "  </style>\n",
              "\n",
              "      <script>\n",
              "        const buttonEl =\n",
              "          document.querySelector('#df-13c8bb1e-12bd-44a5-bfb1-ed3aafe6fdc9 button.colab-df-convert');\n",
              "        buttonEl.style.display =\n",
              "          google.colab.kernel.accessAllowed ? 'block' : 'none';\n",
              "\n",
              "        async function convertToInteractive(key) {\n",
              "          const element = document.querySelector('#df-13c8bb1e-12bd-44a5-bfb1-ed3aafe6fdc9');\n",
              "          const dataTable =\n",
              "            await google.colab.kernel.invokeFunction('convertToInteractive',\n",
              "                                                     [key], {});\n",
              "          if (!dataTable) return;\n",
              "\n",
              "          const docLinkHtml = 'Like what you see? Visit the ' +\n",
              "            '<a target=\"_blank\" href=https://colab.research.google.com/notebooks/data_table.ipynb>data table notebook</a>'\n",
              "            + ' to learn more about interactive tables.';\n",
              "          element.innerHTML = '';\n",
              "          dataTable['output_type'] = 'display_data';\n",
              "          await google.colab.output.renderOutput(dataTable, element);\n",
              "          const docLink = document.createElement('div');\n",
              "          docLink.innerHTML = docLinkHtml;\n",
              "          element.appendChild(docLink);\n",
              "        }\n",
              "      </script>\n",
              "    </div>\n",
              "  </div>\n",
              "  "
            ],
            "text/plain": [
              "            India Price  Asia Price  Rotterdam Price  US Domestic Price\n",
              "Date                                                                   \n",
              "2018-03-09        341.0       395.0           323.00              119.2\n",
              "2018-03-16        374.0       401.0           315.60              119.2\n",
              "2018-03-23        390.0       400.0           314.20              119.2\n",
              "2018-03-30        384.0       409.0           310.13              119.2\n",
              "2018-04-06        422.0       410.0           317.88              119.2\n",
              "2018-04-13        416.0       415.0           323.30              119.2\n",
              "2018-04-20        394.0       421.0           318.00              119.2\n",
              "2018-04-27        404.0       423.0           310.30              119.2\n",
              "2018-05-04        399.0       420.0           314.20              119.2\n",
              "2018-05-11        389.0       421.0           330.88              119.2\n",
              "2018-05-18        385.0       424.0           332.80              119.2\n",
              "2018-05-25        390.0       426.0           330.90              119.2"
            ]
          },
          "metadata": {},
          "execution_count": 57
        }
      ]
    },
    {
      "cell_type": "markdown",
      "source": [
        "FORECASTING VALUES"
      ],
      "metadata": {
        "id": "6QKgzGYdMFdS"
      }
    },
    {
      "cell_type": "code",
      "source": [
        "sl=curr_batch[0,:1,1:]\n",
        "sl=sl.ravel()\n",
        "# np.append(curr_pred,sl,axis=1)\n",
        "sl"
      ],
      "metadata": {
        "colab": {
          "base_uri": "https://localhost:8080/"
        },
        "id": "ZZzhKUXy-Zlo",
        "outputId": "25dbdab5-b252-4b69-9026-20d25088e69b"
      },
      "execution_count": null,
      "outputs": [
        {
          "output_type": "execute_result",
          "data": {
            "text/plain": [
              "array([0.55164835, 0.48089682, 0.27010419])"
            ]
          },
          "metadata": {},
          "execution_count": 65
        }
      ]
    },
    {
      "cell_type": "markdown",
      "source": [
        "ROLLING PREDICTIONS OF FUTURE VALUES"
      ],
      "metadata": {
        "id": "1KBBhdJFMgks"
      }
    },
    {
      "cell_type": "markdown",
      "source": [
        "FUNCTION THAT DOES ROLLING PREDICTIONS"
      ],
      "metadata": {
        "id": "wlkKWOWhMlcp"
      }
    },
    {
      "cell_type": "code",
      "source": [
        "def pred(i,curr_pred,curr_batch):\n",
        "  sl=curr_batch[0,i:(i+1),1:]\n",
        "  sl=sl.ravel()\n",
        "  curr_pred=np.append(curr_pred,sl)\n",
        "  return curr_pred"
      ],
      "metadata": {
        "id": "wY4upnSJKs80"
      },
      "execution_count": null,
      "outputs": []
    },
    {
      "cell_type": "code",
      "source": [
        "type(sl),type(curr_pred)"
      ],
      "metadata": {
        "colab": {
          "base_uri": "https://localhost:8080/"
        },
        "id": "k1-w2DjcQtBq",
        "outputId": "d133bf62-85f3-4620-a9b7-9499661fda43"
      },
      "execution_count": null,
      "outputs": [
        {
          "output_type": "execute_result",
          "data": {
            "text/plain": [
              "(numpy.ndarray, numpy.ndarray)"
            ]
          },
          "metadata": {},
          "execution_count": 68
        }
      ]
    },
    {
      "cell_type": "code",
      "source": [
        "curr_pred"
      ],
      "metadata": {
        "colab": {
          "base_uri": "https://localhost:8080/"
        },
        "id": "78xBmi_zONVZ",
        "outputId": "e1de7021-fd76-42ee-b181-e33e9ac6a91c"
      },
      "execution_count": null,
      "outputs": [
        {
          "output_type": "execute_result",
          "data": {
            "text/plain": [
              "array([0.4398621], dtype=float32)"
            ]
          },
          "metadata": {},
          "execution_count": 298
        }
      ]
    },
    {
      "cell_type": "markdown",
      "source": [
        "HERE I HAVE DONE ROLLING PREDICTIONS ,TAKING LAST 12 VALUES OF TRAIN SET AS INPUT AND APPENDING THE NEWLY PREDICTED VALUES"
      ],
      "metadata": {
        "id": "rTc1sowGM92O"
      }
    },
    {
      "cell_type": "markdown",
      "source": [
        "MY TEST SET HAS VALUES OF LAST 4 YEARS OF DATASET ,I HAVE CREATED 3 TEST DATA SUBSETS AND  TAKEN LAST TWELVE WEEKS OF DATA FROM THEM TO DO ROLLING PREDICTIONS FOR THE NEXT TWELVE WEEKS OF DATA"
      ],
      "metadata": {
        "id": "2UyCpVu5O6bD"
      }
    },
    {
      "cell_type": "code",
      "source": [
        "test_predictions=[]\n",
        "n_input=12\n",
        "n_features=4\n",
        "\n",
        "first_batch=scaled_train[-n_input:]\n",
        "curr_batch=first_batch.reshape((1,n_input,n_features))\n",
        "for i in range(0,len(test_pred)):#len(test_pred)\n",
        "  curr_pred=model.predict(curr_batch)[0]\n",
        "  test_predictions.append(curr_pred)\n",
        "  slc=pred(i,curr_pred,curr_batch)\n",
        "  curr_batch=np.append(curr_batch[:,1:,:],[[slc]],axis=1)"
      ],
      "metadata": {
        "id": "MQzejPPiDAA1"
      },
      "execution_count": null,
      "outputs": []
    },
    {
      "cell_type": "code",
      "source": [
        "first_batch.shape"
      ],
      "metadata": {
        "colab": {
          "base_uri": "https://localhost:8080/"
        },
        "id": "da-_zxYkVR7f",
        "outputId": "b5727bb3-c3ec-4778-9009-f71222c0ec6e"
      },
      "execution_count": null,
      "outputs": [
        {
          "output_type": "execute_result",
          "data": {
            "text/plain": [
              "(12, 4)"
            ]
          },
          "metadata": {},
          "execution_count": 372
        }
      ]
    },
    {
      "cell_type": "markdown",
      "source": [
        "FIRST TWELVE WEEKS OF TEST_SET PREDICTIONS"
      ],
      "metadata": {
        "id": "W8wmlGoYNNB4"
      }
    },
    {
      "cell_type": "code",
      "source": [
        "test_predictions"
      ],
      "metadata": {
        "colab": {
          "base_uri": "https://localhost:8080/"
        },
        "id": "riCH_LbZRQjd",
        "outputId": "60ec8b1c-c796-404b-ee09-b3a10343d2ae"
      },
      "execution_count": null,
      "outputs": [
        {
          "output_type": "execute_result",
          "data": {
            "text/plain": [
              "[array([0.4134225], dtype=float32),\n",
              " array([0.4287357], dtype=float32),\n",
              " array([0.45592704], dtype=float32),\n",
              " array([0.46756798], dtype=float32),\n",
              " array([0.46404976], dtype=float32),\n",
              " array([0.44041646], dtype=float32),\n",
              " array([0.41756743], dtype=float32),\n",
              " array([0.42083132], dtype=float32),\n",
              " array([0.46163344], dtype=float32),\n",
              " array([0.44361293], dtype=float32),\n",
              " array([0.42757857], dtype=float32),\n",
              " array([0.43517834], dtype=float32)]"
            ]
          },
          "metadata": {},
          "execution_count": 64
        }
      ]
    },
    {
      "cell_type": "code",
      "source": [
        "curr_batch"
      ],
      "metadata": {
        "colab": {
          "base_uri": "https://localhost:8080/"
        },
        "id": "qJo2FpjQSvDZ",
        "outputId": "2c303aeb-8cae-461a-ca6a-429ca3f45a78"
      },
      "execution_count": null,
      "outputs": [
        {
          "output_type": "execute_result",
          "data": {
            "text/plain": [
              "array([[[0.4398621 , 0.55164835, 0.48089682, 0.27010419],\n",
              "        [0.46453017, 0.59340659, 0.53603294, 0.27010419],\n",
              "        [0.49215263, 0.57142857, 0.59643102, 0.36094042],\n",
              "        [0.50276643, 0.53846154, 0.60878518, 0.36094042],\n",
              "        [0.50286531, 0.50989011, 0.56623198, 0.39503072],\n",
              "        [0.48017004, 0.4967033 , 0.51452757, 0.39503072],\n",
              "        [0.45571816, 0.55164835, 0.48089682, 0.27010419],\n",
              "        [0.45851362, 0.57142857, 0.59643102, 0.36094042],\n",
              "        [0.49413148, 0.50989011, 0.56623198, 0.39503072],\n",
              "        [0.47761339, 0.55164835, 0.48089682, 0.27010419],\n",
              "        [0.46702904, 0.50989011, 0.56623198, 0.39503072],\n",
              "        [0.4707275 , 0.50989011, 0.56623198, 0.39503072]]])"
            ]
          },
          "metadata": {},
          "execution_count": 351
        }
      ]
    },
    {
      "cell_type": "code",
      "source": [
        "# test_predictions.size\n",
        "type(test_predictions)"
      ],
      "metadata": {
        "colab": {
          "base_uri": "https://localhost:8080/"
        },
        "id": "SNuqpu6cSXXI",
        "outputId": "58d2b9aa-a197-4100-e7ed-a4713e4d9b10"
      },
      "execution_count": null,
      "outputs": [
        {
          "output_type": "execute_result",
          "data": {
            "text/plain": [
              "list"
            ]
          },
          "metadata": {},
          "execution_count": 69
        }
      ]
    },
    {
      "cell_type": "code",
      "source": [
        "test_predictions=np.array(test_predictions)\n",
        "type(test_predictions)"
      ],
      "metadata": {
        "colab": {
          "base_uri": "https://localhost:8080/"
        },
        "id": "WaWd-qn0Tlt6",
        "outputId": "275d715a-4dab-4687-c821-70a99fe3a134"
      },
      "execution_count": null,
      "outputs": [
        {
          "output_type": "execute_result",
          "data": {
            "text/plain": [
              "numpy.ndarray"
            ]
          },
          "metadata": {},
          "execution_count": 358
        }
      ]
    },
    {
      "cell_type": "code",
      "source": [
        "scaled_train.shape"
      ],
      "metadata": {
        "colab": {
          "base_uri": "https://localhost:8080/"
        },
        "id": "8Xy6e54pS6CK",
        "outputId": "45a37cde-536b-44bc-f287-1e77519ac7c1"
      },
      "execution_count": null,
      "outputs": [
        {
          "output_type": "execute_result",
          "data": {
            "text/plain": [
              "(636, 4)"
            ]
          },
          "metadata": {},
          "execution_count": 353
        }
      ]
    },
    {
      "cell_type": "code",
      "source": [
        "test.head(12)"
      ],
      "metadata": {
        "colab": {
          "base_uri": "https://localhost:8080/",
          "height": 457
        },
        "id": "YV9kpGqKTkyL",
        "outputId": "84fe1d40-4de8-4175-c5c5-63edbbd5825a"
      },
      "execution_count": null,
      "outputs": [
        {
          "output_type": "execute_result",
          "data": {
            "text/html": [
              "\n",
              "  <div id=\"df-97217397-fcdb-4831-ae93-86a5fa726971\">\n",
              "    <div class=\"colab-df-container\">\n",
              "      <div>\n",
              "<style scoped>\n",
              "    .dataframe tbody tr th:only-of-type {\n",
              "        vertical-align: middle;\n",
              "    }\n",
              "\n",
              "    .dataframe tbody tr th {\n",
              "        vertical-align: top;\n",
              "    }\n",
              "\n",
              "    .dataframe thead th {\n",
              "        text-align: right;\n",
              "    }\n",
              "</style>\n",
              "<table border=\"1\" class=\"dataframe\">\n",
              "  <thead>\n",
              "    <tr style=\"text-align: right;\">\n",
              "      <th></th>\n",
              "      <th>India Price</th>\n",
              "      <th>Asia Price</th>\n",
              "      <th>Rotterdam Price</th>\n",
              "      <th>US Domestic Price</th>\n",
              "    </tr>\n",
              "    <tr>\n",
              "      <th>Date</th>\n",
              "      <th></th>\n",
              "      <th></th>\n",
              "      <th></th>\n",
              "      <th></th>\n",
              "    </tr>\n",
              "  </thead>\n",
              "  <tbody>\n",
              "    <tr>\n",
              "      <th>2018-03-09</th>\n",
              "      <td>341.0</td>\n",
              "      <td>395.0</td>\n",
              "      <td>323.00</td>\n",
              "      <td>119.2</td>\n",
              "    </tr>\n",
              "    <tr>\n",
              "      <th>2018-03-16</th>\n",
              "      <td>374.0</td>\n",
              "      <td>401.0</td>\n",
              "      <td>315.60</td>\n",
              "      <td>119.2</td>\n",
              "    </tr>\n",
              "    <tr>\n",
              "      <th>2018-03-23</th>\n",
              "      <td>390.0</td>\n",
              "      <td>400.0</td>\n",
              "      <td>314.20</td>\n",
              "      <td>119.2</td>\n",
              "    </tr>\n",
              "    <tr>\n",
              "      <th>2018-03-30</th>\n",
              "      <td>384.0</td>\n",
              "      <td>409.0</td>\n",
              "      <td>310.13</td>\n",
              "      <td>119.2</td>\n",
              "    </tr>\n",
              "    <tr>\n",
              "      <th>2018-04-06</th>\n",
              "      <td>422.0</td>\n",
              "      <td>410.0</td>\n",
              "      <td>317.88</td>\n",
              "      <td>119.2</td>\n",
              "    </tr>\n",
              "    <tr>\n",
              "      <th>2018-04-13</th>\n",
              "      <td>416.0</td>\n",
              "      <td>415.0</td>\n",
              "      <td>323.30</td>\n",
              "      <td>119.2</td>\n",
              "    </tr>\n",
              "    <tr>\n",
              "      <th>2018-04-20</th>\n",
              "      <td>394.0</td>\n",
              "      <td>421.0</td>\n",
              "      <td>318.00</td>\n",
              "      <td>119.2</td>\n",
              "    </tr>\n",
              "    <tr>\n",
              "      <th>2018-04-27</th>\n",
              "      <td>404.0</td>\n",
              "      <td>423.0</td>\n",
              "      <td>310.30</td>\n",
              "      <td>119.2</td>\n",
              "    </tr>\n",
              "    <tr>\n",
              "      <th>2018-05-04</th>\n",
              "      <td>399.0</td>\n",
              "      <td>420.0</td>\n",
              "      <td>314.20</td>\n",
              "      <td>119.2</td>\n",
              "    </tr>\n",
              "    <tr>\n",
              "      <th>2018-05-11</th>\n",
              "      <td>389.0</td>\n",
              "      <td>421.0</td>\n",
              "      <td>330.88</td>\n",
              "      <td>119.2</td>\n",
              "    </tr>\n",
              "    <tr>\n",
              "      <th>2018-05-18</th>\n",
              "      <td>385.0</td>\n",
              "      <td>424.0</td>\n",
              "      <td>332.80</td>\n",
              "      <td>119.2</td>\n",
              "    </tr>\n",
              "    <tr>\n",
              "      <th>2018-05-25</th>\n",
              "      <td>390.0</td>\n",
              "      <td>426.0</td>\n",
              "      <td>330.90</td>\n",
              "      <td>119.2</td>\n",
              "    </tr>\n",
              "  </tbody>\n",
              "</table>\n",
              "</div>\n",
              "      <button class=\"colab-df-convert\" onclick=\"convertToInteractive('df-97217397-fcdb-4831-ae93-86a5fa726971')\"\n",
              "              title=\"Convert this dataframe to an interactive table.\"\n",
              "              style=\"display:none;\">\n",
              "        \n",
              "  <svg xmlns=\"http://www.w3.org/2000/svg\" height=\"24px\"viewBox=\"0 0 24 24\"\n",
              "       width=\"24px\">\n",
              "    <path d=\"M0 0h24v24H0V0z\" fill=\"none\"/>\n",
              "    <path d=\"M18.56 5.44l.94 2.06.94-2.06 2.06-.94-2.06-.94-.94-2.06-.94 2.06-2.06.94zm-11 1L8.5 8.5l.94-2.06 2.06-.94-2.06-.94L8.5 2.5l-.94 2.06-2.06.94zm10 10l.94 2.06.94-2.06 2.06-.94-2.06-.94-.94-2.06-.94 2.06-2.06.94z\"/><path d=\"M17.41 7.96l-1.37-1.37c-.4-.4-.92-.59-1.43-.59-.52 0-1.04.2-1.43.59L10.3 9.45l-7.72 7.72c-.78.78-.78 2.05 0 2.83L4 21.41c.39.39.9.59 1.41.59.51 0 1.02-.2 1.41-.59l7.78-7.78 2.81-2.81c.8-.78.8-2.07 0-2.86zM5.41 20L4 18.59l7.72-7.72 1.47 1.35L5.41 20z\"/>\n",
              "  </svg>\n",
              "      </button>\n",
              "      \n",
              "  <style>\n",
              "    .colab-df-container {\n",
              "      display:flex;\n",
              "      flex-wrap:wrap;\n",
              "      gap: 12px;\n",
              "    }\n",
              "\n",
              "    .colab-df-convert {\n",
              "      background-color: #E8F0FE;\n",
              "      border: none;\n",
              "      border-radius: 50%;\n",
              "      cursor: pointer;\n",
              "      display: none;\n",
              "      fill: #1967D2;\n",
              "      height: 32px;\n",
              "      padding: 0 0 0 0;\n",
              "      width: 32px;\n",
              "    }\n",
              "\n",
              "    .colab-df-convert:hover {\n",
              "      background-color: #E2EBFA;\n",
              "      box-shadow: 0px 1px 2px rgba(60, 64, 67, 0.3), 0px 1px 3px 1px rgba(60, 64, 67, 0.15);\n",
              "      fill: #174EA6;\n",
              "    }\n",
              "\n",
              "    [theme=dark] .colab-df-convert {\n",
              "      background-color: #3B4455;\n",
              "      fill: #D2E3FC;\n",
              "    }\n",
              "\n",
              "    [theme=dark] .colab-df-convert:hover {\n",
              "      background-color: #434B5C;\n",
              "      box-shadow: 0px 1px 3px 1px rgba(0, 0, 0, 0.15);\n",
              "      filter: drop-shadow(0px 1px 2px rgba(0, 0, 0, 0.3));\n",
              "      fill: #FFFFFF;\n",
              "    }\n",
              "  </style>\n",
              "\n",
              "      <script>\n",
              "        const buttonEl =\n",
              "          document.querySelector('#df-97217397-fcdb-4831-ae93-86a5fa726971 button.colab-df-convert');\n",
              "        buttonEl.style.display =\n",
              "          google.colab.kernel.accessAllowed ? 'block' : 'none';\n",
              "\n",
              "        async function convertToInteractive(key) {\n",
              "          const element = document.querySelector('#df-97217397-fcdb-4831-ae93-86a5fa726971');\n",
              "          const dataTable =\n",
              "            await google.colab.kernel.invokeFunction('convertToInteractive',\n",
              "                                                     [key], {});\n",
              "          if (!dataTable) return;\n",
              "\n",
              "          const docLinkHtml = 'Like what you see? Visit the ' +\n",
              "            '<a target=\"_blank\" href=https://colab.research.google.com/notebooks/data_table.ipynb>data table notebook</a>'\n",
              "            + ' to learn more about interactive tables.';\n",
              "          element.innerHTML = '';\n",
              "          dataTable['output_type'] = 'display_data';\n",
              "          await google.colab.output.renderOutput(dataTable, element);\n",
              "          const docLink = document.createElement('div');\n",
              "          docLink.innerHTML = docLinkHtml;\n",
              "          element.appendChild(docLink);\n",
              "        }\n",
              "      </script>\n",
              "    </div>\n",
              "  </div>\n",
              "  "
            ],
            "text/plain": [
              "            India Price  Asia Price  Rotterdam Price  US Domestic Price\n",
              "Date                                                                   \n",
              "2018-03-09        341.0       395.0           323.00              119.2\n",
              "2018-03-16        374.0       401.0           315.60              119.2\n",
              "2018-03-23        390.0       400.0           314.20              119.2\n",
              "2018-03-30        384.0       409.0           310.13              119.2\n",
              "2018-04-06        422.0       410.0           317.88              119.2\n",
              "2018-04-13        416.0       415.0           323.30              119.2\n",
              "2018-04-20        394.0       421.0           318.00              119.2\n",
              "2018-04-27        404.0       423.0           310.30              119.2\n",
              "2018-05-04        399.0       420.0           314.20              119.2\n",
              "2018-05-11        389.0       421.0           330.88              119.2\n",
              "2018-05-18        385.0       424.0           332.80              119.2\n",
              "2018-05-25        390.0       426.0           330.90              119.2"
            ]
          },
          "metadata": {},
          "execution_count": 360
        }
      ]
    },
    {
      "cell_type": "markdown",
      "source": [
        "FEATURE SCALING VALUES"
      ],
      "metadata": {
        "id": "Mkw2qRazNaNq"
      }
    },
    {
      "cell_type": "code",
      "source": [
        "testing=X[636:648]\n",
        "testing_scaled=scaler.fit_transform(testing)"
      ],
      "metadata": {
        "id": "6dibPrxoT4Gh"
      },
      "execution_count": null,
      "outputs": []
    },
    {
      "cell_type": "code",
      "source": [
        "curr_batch=curr_batch.reshape(n_input,n_features)\n",
        "curr_batch.shape"
      ],
      "metadata": {
        "colab": {
          "base_uri": "https://localhost:8080/"
        },
        "id": "DRZoLYs-VGpR",
        "outputId": "ffa05efa-1800-49ce-9832-8455e2f8b5ba"
      },
      "execution_count": null,
      "outputs": [
        {
          "output_type": "execute_result",
          "data": {
            "text/plain": [
              "(12, 4)"
            ]
          },
          "metadata": {},
          "execution_count": 72
        }
      ]
    },
    {
      "cell_type": "code",
      "source": [
        "true_predictions=scaler.inverse_transform(curr_batch)\n",
        "true_predictions"
      ],
      "metadata": {
        "colab": {
          "base_uri": "https://localhost:8080/"
        },
        "id": "UWxq2hgHVeFj",
        "outputId": "afb234eb-d47b-4559-bc28-0c4503ea0ac3"
      },
      "execution_count": null,
      "outputs": [
        {
          "output_type": "execute_result",
          "data": {
            "text/plain": [
              "array([[374.48722211, 412.1010989 , 321.03193091, 119.47010419],\n",
              "       [375.72759196, 413.3956044 , 322.28186685, 119.47010419],\n",
              "       [377.93009058, 412.71428571, 323.65109128, 119.56094042],\n",
              "       [378.8730064 , 411.69230769, 323.93115992, 119.56094042],\n",
              "       [378.58803028, 410.80659341, 322.96647907, 119.59503072],\n",
              "       [376.67373288, 410.3978022 , 321.79433997, 119.59503072],\n",
              "       [374.82296199, 412.1010989 , 321.03193091, 119.47010419],\n",
              "       [375.08733714, 412.71428571, 323.65109128, 119.56094042],\n",
              "       [378.39230895, 410.80659341, 322.96647907, 119.59503072],\n",
              "       [376.93264759, 412.1010989 , 321.03193091, 119.47010419],\n",
              "       [375.63386405, 410.80659341, 322.96647907, 119.59503072],\n",
              "       [376.2494455 , 410.80659341, 322.96647907, 119.59503072]])"
            ]
          },
          "metadata": {},
          "execution_count": 73
        }
      ]
    },
    {
      "cell_type": "code",
      "source": [
        "df_predictions=testing\n",
        "df_predictions\n",
        "df_predictions['IndiaPrice_pred']=true_predictions[:,0]\n",
        "df_predictions"
      ],
      "metadata": {
        "colab": {
          "base_uri": "https://localhost:8080/",
          "height": 561
        },
        "id": "mkYk5LlJVvlP",
        "outputId": "c505cc43-2902-4cca-f780-1efa499b64ae"
      },
      "execution_count": null,
      "outputs": [
        {
          "output_type": "stream",
          "name": "stderr",
          "text": [
            "/usr/local/lib/python3.7/dist-packages/ipykernel_launcher.py:3: SettingWithCopyWarning: \n",
            "A value is trying to be set on a copy of a slice from a DataFrame.\n",
            "Try using .loc[row_indexer,col_indexer] = value instead\n",
            "\n",
            "See the caveats in the documentation: https://pandas.pydata.org/pandas-docs/stable/user_guide/indexing.html#returning-a-view-versus-a-copy\n",
            "  This is separate from the ipykernel package so we can avoid doing imports until\n"
          ]
        },
        {
          "output_type": "execute_result",
          "data": {
            "text/html": [
              "\n",
              "  <div id=\"df-965e11a7-9119-4656-9a29-c7f29a05f6bc\">\n",
              "    <div class=\"colab-df-container\">\n",
              "      <div>\n",
              "<style scoped>\n",
              "    .dataframe tbody tr th:only-of-type {\n",
              "        vertical-align: middle;\n",
              "    }\n",
              "\n",
              "    .dataframe tbody tr th {\n",
              "        vertical-align: top;\n",
              "    }\n",
              "\n",
              "    .dataframe thead th {\n",
              "        text-align: right;\n",
              "    }\n",
              "</style>\n",
              "<table border=\"1\" class=\"dataframe\">\n",
              "  <thead>\n",
              "    <tr style=\"text-align: right;\">\n",
              "      <th></th>\n",
              "      <th>India Price</th>\n",
              "      <th>Asia Price</th>\n",
              "      <th>Rotterdam Price</th>\n",
              "      <th>US Domestic Price</th>\n",
              "      <th>IndiaPrice_pred</th>\n",
              "    </tr>\n",
              "    <tr>\n",
              "      <th>Date</th>\n",
              "      <th></th>\n",
              "      <th></th>\n",
              "      <th></th>\n",
              "      <th></th>\n",
              "      <th></th>\n",
              "    </tr>\n",
              "  </thead>\n",
              "  <tbody>\n",
              "    <tr>\n",
              "      <th>2018-03-09</th>\n",
              "      <td>341.0</td>\n",
              "      <td>395.0</td>\n",
              "      <td>323.00</td>\n",
              "      <td>119.2</td>\n",
              "      <td>374.487222</td>\n",
              "    </tr>\n",
              "    <tr>\n",
              "      <th>2018-03-16</th>\n",
              "      <td>374.0</td>\n",
              "      <td>401.0</td>\n",
              "      <td>315.60</td>\n",
              "      <td>119.2</td>\n",
              "      <td>375.727592</td>\n",
              "    </tr>\n",
              "    <tr>\n",
              "      <th>2018-03-23</th>\n",
              "      <td>390.0</td>\n",
              "      <td>400.0</td>\n",
              "      <td>314.20</td>\n",
              "      <td>119.2</td>\n",
              "      <td>377.930091</td>\n",
              "    </tr>\n",
              "    <tr>\n",
              "      <th>2018-03-30</th>\n",
              "      <td>384.0</td>\n",
              "      <td>409.0</td>\n",
              "      <td>310.13</td>\n",
              "      <td>119.2</td>\n",
              "      <td>378.873006</td>\n",
              "    </tr>\n",
              "    <tr>\n",
              "      <th>2018-04-06</th>\n",
              "      <td>422.0</td>\n",
              "      <td>410.0</td>\n",
              "      <td>317.88</td>\n",
              "      <td>119.2</td>\n",
              "      <td>378.588030</td>\n",
              "    </tr>\n",
              "    <tr>\n",
              "      <th>2018-04-13</th>\n",
              "      <td>416.0</td>\n",
              "      <td>415.0</td>\n",
              "      <td>323.30</td>\n",
              "      <td>119.2</td>\n",
              "      <td>376.673733</td>\n",
              "    </tr>\n",
              "    <tr>\n",
              "      <th>2018-04-20</th>\n",
              "      <td>394.0</td>\n",
              "      <td>421.0</td>\n",
              "      <td>318.00</td>\n",
              "      <td>119.2</td>\n",
              "      <td>374.822962</td>\n",
              "    </tr>\n",
              "    <tr>\n",
              "      <th>2018-04-27</th>\n",
              "      <td>404.0</td>\n",
              "      <td>423.0</td>\n",
              "      <td>310.30</td>\n",
              "      <td>119.2</td>\n",
              "      <td>375.087337</td>\n",
              "    </tr>\n",
              "    <tr>\n",
              "      <th>2018-05-04</th>\n",
              "      <td>399.0</td>\n",
              "      <td>420.0</td>\n",
              "      <td>314.20</td>\n",
              "      <td>119.2</td>\n",
              "      <td>378.392309</td>\n",
              "    </tr>\n",
              "    <tr>\n",
              "      <th>2018-05-11</th>\n",
              "      <td>389.0</td>\n",
              "      <td>421.0</td>\n",
              "      <td>330.88</td>\n",
              "      <td>119.2</td>\n",
              "      <td>376.932648</td>\n",
              "    </tr>\n",
              "    <tr>\n",
              "      <th>2018-05-18</th>\n",
              "      <td>385.0</td>\n",
              "      <td>424.0</td>\n",
              "      <td>332.80</td>\n",
              "      <td>119.2</td>\n",
              "      <td>375.633864</td>\n",
              "    </tr>\n",
              "    <tr>\n",
              "      <th>2018-05-25</th>\n",
              "      <td>390.0</td>\n",
              "      <td>426.0</td>\n",
              "      <td>330.90</td>\n",
              "      <td>119.2</td>\n",
              "      <td>376.249445</td>\n",
              "    </tr>\n",
              "  </tbody>\n",
              "</table>\n",
              "</div>\n",
              "      <button class=\"colab-df-convert\" onclick=\"convertToInteractive('df-965e11a7-9119-4656-9a29-c7f29a05f6bc')\"\n",
              "              title=\"Convert this dataframe to an interactive table.\"\n",
              "              style=\"display:none;\">\n",
              "        \n",
              "  <svg xmlns=\"http://www.w3.org/2000/svg\" height=\"24px\"viewBox=\"0 0 24 24\"\n",
              "       width=\"24px\">\n",
              "    <path d=\"M0 0h24v24H0V0z\" fill=\"none\"/>\n",
              "    <path d=\"M18.56 5.44l.94 2.06.94-2.06 2.06-.94-2.06-.94-.94-2.06-.94 2.06-2.06.94zm-11 1L8.5 8.5l.94-2.06 2.06-.94-2.06-.94L8.5 2.5l-.94 2.06-2.06.94zm10 10l.94 2.06.94-2.06 2.06-.94-2.06-.94-.94-2.06-.94 2.06-2.06.94z\"/><path d=\"M17.41 7.96l-1.37-1.37c-.4-.4-.92-.59-1.43-.59-.52 0-1.04.2-1.43.59L10.3 9.45l-7.72 7.72c-.78.78-.78 2.05 0 2.83L4 21.41c.39.39.9.59 1.41.59.51 0 1.02-.2 1.41-.59l7.78-7.78 2.81-2.81c.8-.78.8-2.07 0-2.86zM5.41 20L4 18.59l7.72-7.72 1.47 1.35L5.41 20z\"/>\n",
              "  </svg>\n",
              "      </button>\n",
              "      \n",
              "  <style>\n",
              "    .colab-df-container {\n",
              "      display:flex;\n",
              "      flex-wrap:wrap;\n",
              "      gap: 12px;\n",
              "    }\n",
              "\n",
              "    .colab-df-convert {\n",
              "      background-color: #E8F0FE;\n",
              "      border: none;\n",
              "      border-radius: 50%;\n",
              "      cursor: pointer;\n",
              "      display: none;\n",
              "      fill: #1967D2;\n",
              "      height: 32px;\n",
              "      padding: 0 0 0 0;\n",
              "      width: 32px;\n",
              "    }\n",
              "\n",
              "    .colab-df-convert:hover {\n",
              "      background-color: #E2EBFA;\n",
              "      box-shadow: 0px 1px 2px rgba(60, 64, 67, 0.3), 0px 1px 3px 1px rgba(60, 64, 67, 0.15);\n",
              "      fill: #174EA6;\n",
              "    }\n",
              "\n",
              "    [theme=dark] .colab-df-convert {\n",
              "      background-color: #3B4455;\n",
              "      fill: #D2E3FC;\n",
              "    }\n",
              "\n",
              "    [theme=dark] .colab-df-convert:hover {\n",
              "      background-color: #434B5C;\n",
              "      box-shadow: 0px 1px 3px 1px rgba(0, 0, 0, 0.15);\n",
              "      filter: drop-shadow(0px 1px 2px rgba(0, 0, 0, 0.3));\n",
              "      fill: #FFFFFF;\n",
              "    }\n",
              "  </style>\n",
              "\n",
              "      <script>\n",
              "        const buttonEl =\n",
              "          document.querySelector('#df-965e11a7-9119-4656-9a29-c7f29a05f6bc button.colab-df-convert');\n",
              "        buttonEl.style.display =\n",
              "          google.colab.kernel.accessAllowed ? 'block' : 'none';\n",
              "\n",
              "        async function convertToInteractive(key) {\n",
              "          const element = document.querySelector('#df-965e11a7-9119-4656-9a29-c7f29a05f6bc');\n",
              "          const dataTable =\n",
              "            await google.colab.kernel.invokeFunction('convertToInteractive',\n",
              "                                                     [key], {});\n",
              "          if (!dataTable) return;\n",
              "\n",
              "          const docLinkHtml = 'Like what you see? Visit the ' +\n",
              "            '<a target=\"_blank\" href=https://colab.research.google.com/notebooks/data_table.ipynb>data table notebook</a>'\n",
              "            + ' to learn more about interactive tables.';\n",
              "          element.innerHTML = '';\n",
              "          dataTable['output_type'] = 'display_data';\n",
              "          await google.colab.output.renderOutput(dataTable, element);\n",
              "          const docLink = document.createElement('div');\n",
              "          docLink.innerHTML = docLinkHtml;\n",
              "          element.appendChild(docLink);\n",
              "        }\n",
              "      </script>\n",
              "    </div>\n",
              "  </div>\n",
              "  "
            ],
            "text/plain": [
              "            India Price  Asia Price  ...  US Domestic Price  IndiaPrice_pred\n",
              "Date                                 ...                                    \n",
              "2018-03-09        341.0       395.0  ...              119.2       374.487222\n",
              "2018-03-16        374.0       401.0  ...              119.2       375.727592\n",
              "2018-03-23        390.0       400.0  ...              119.2       377.930091\n",
              "2018-03-30        384.0       409.0  ...              119.2       378.873006\n",
              "2018-04-06        422.0       410.0  ...              119.2       378.588030\n",
              "2018-04-13        416.0       415.0  ...              119.2       376.673733\n",
              "2018-04-20        394.0       421.0  ...              119.2       374.822962\n",
              "2018-04-27        404.0       423.0  ...              119.2       375.087337\n",
              "2018-05-04        399.0       420.0  ...              119.2       378.392309\n",
              "2018-05-11        389.0       421.0  ...              119.2       376.932648\n",
              "2018-05-18        385.0       424.0  ...              119.2       375.633864\n",
              "2018-05-25        390.0       426.0  ...              119.2       376.249445\n",
              "\n",
              "[12 rows x 5 columns]"
            ]
          },
          "metadata": {},
          "execution_count": 75
        }
      ]
    },
    {
      "cell_type": "markdown",
      "source": [
        "ACTUAL VALUES VS PREDICTED INDIA VALUE PRICES"
      ],
      "metadata": {
        "id": "M8MbezxWN6dC"
      }
    },
    {
      "cell_type": "code",
      "source": [
        "df_predictions[['India Price','IndiaPrice_pred']]"
      ],
      "metadata": {
        "colab": {
          "base_uri": "https://localhost:8080/",
          "height": 457
        },
        "id": "Df3yycnBNwhx",
        "outputId": "cc1f212a-1f79-4b6d-c8be-3151d7cc6c72"
      },
      "execution_count": null,
      "outputs": [
        {
          "output_type": "execute_result",
          "data": {
            "text/html": [
              "\n",
              "  <div id=\"df-6654007f-b364-42ef-9e9d-919f5461045c\">\n",
              "    <div class=\"colab-df-container\">\n",
              "      <div>\n",
              "<style scoped>\n",
              "    .dataframe tbody tr th:only-of-type {\n",
              "        vertical-align: middle;\n",
              "    }\n",
              "\n",
              "    .dataframe tbody tr th {\n",
              "        vertical-align: top;\n",
              "    }\n",
              "\n",
              "    .dataframe thead th {\n",
              "        text-align: right;\n",
              "    }\n",
              "</style>\n",
              "<table border=\"1\" class=\"dataframe\">\n",
              "  <thead>\n",
              "    <tr style=\"text-align: right;\">\n",
              "      <th></th>\n",
              "      <th>India Price</th>\n",
              "      <th>IndiaPrice_pred</th>\n",
              "    </tr>\n",
              "    <tr>\n",
              "      <th>Date</th>\n",
              "      <th></th>\n",
              "      <th></th>\n",
              "    </tr>\n",
              "  </thead>\n",
              "  <tbody>\n",
              "    <tr>\n",
              "      <th>2018-03-09</th>\n",
              "      <td>341.0</td>\n",
              "      <td>374.487222</td>\n",
              "    </tr>\n",
              "    <tr>\n",
              "      <th>2018-03-16</th>\n",
              "      <td>374.0</td>\n",
              "      <td>375.727592</td>\n",
              "    </tr>\n",
              "    <tr>\n",
              "      <th>2018-03-23</th>\n",
              "      <td>390.0</td>\n",
              "      <td>377.930091</td>\n",
              "    </tr>\n",
              "    <tr>\n",
              "      <th>2018-03-30</th>\n",
              "      <td>384.0</td>\n",
              "      <td>378.873006</td>\n",
              "    </tr>\n",
              "    <tr>\n",
              "      <th>2018-04-06</th>\n",
              "      <td>422.0</td>\n",
              "      <td>378.588030</td>\n",
              "    </tr>\n",
              "    <tr>\n",
              "      <th>2018-04-13</th>\n",
              "      <td>416.0</td>\n",
              "      <td>376.673733</td>\n",
              "    </tr>\n",
              "    <tr>\n",
              "      <th>2018-04-20</th>\n",
              "      <td>394.0</td>\n",
              "      <td>374.822962</td>\n",
              "    </tr>\n",
              "    <tr>\n",
              "      <th>2018-04-27</th>\n",
              "      <td>404.0</td>\n",
              "      <td>375.087337</td>\n",
              "    </tr>\n",
              "    <tr>\n",
              "      <th>2018-05-04</th>\n",
              "      <td>399.0</td>\n",
              "      <td>378.392309</td>\n",
              "    </tr>\n",
              "    <tr>\n",
              "      <th>2018-05-11</th>\n",
              "      <td>389.0</td>\n",
              "      <td>376.932648</td>\n",
              "    </tr>\n",
              "    <tr>\n",
              "      <th>2018-05-18</th>\n",
              "      <td>385.0</td>\n",
              "      <td>375.633864</td>\n",
              "    </tr>\n",
              "    <tr>\n",
              "      <th>2018-05-25</th>\n",
              "      <td>390.0</td>\n",
              "      <td>376.249445</td>\n",
              "    </tr>\n",
              "  </tbody>\n",
              "</table>\n",
              "</div>\n",
              "      <button class=\"colab-df-convert\" onclick=\"convertToInteractive('df-6654007f-b364-42ef-9e9d-919f5461045c')\"\n",
              "              title=\"Convert this dataframe to an interactive table.\"\n",
              "              style=\"display:none;\">\n",
              "        \n",
              "  <svg xmlns=\"http://www.w3.org/2000/svg\" height=\"24px\"viewBox=\"0 0 24 24\"\n",
              "       width=\"24px\">\n",
              "    <path d=\"M0 0h24v24H0V0z\" fill=\"none\"/>\n",
              "    <path d=\"M18.56 5.44l.94 2.06.94-2.06 2.06-.94-2.06-.94-.94-2.06-.94 2.06-2.06.94zm-11 1L8.5 8.5l.94-2.06 2.06-.94-2.06-.94L8.5 2.5l-.94 2.06-2.06.94zm10 10l.94 2.06.94-2.06 2.06-.94-2.06-.94-.94-2.06-.94 2.06-2.06.94z\"/><path d=\"M17.41 7.96l-1.37-1.37c-.4-.4-.92-.59-1.43-.59-.52 0-1.04.2-1.43.59L10.3 9.45l-7.72 7.72c-.78.78-.78 2.05 0 2.83L4 21.41c.39.39.9.59 1.41.59.51 0 1.02-.2 1.41-.59l7.78-7.78 2.81-2.81c.8-.78.8-2.07 0-2.86zM5.41 20L4 18.59l7.72-7.72 1.47 1.35L5.41 20z\"/>\n",
              "  </svg>\n",
              "      </button>\n",
              "      \n",
              "  <style>\n",
              "    .colab-df-container {\n",
              "      display:flex;\n",
              "      flex-wrap:wrap;\n",
              "      gap: 12px;\n",
              "    }\n",
              "\n",
              "    .colab-df-convert {\n",
              "      background-color: #E8F0FE;\n",
              "      border: none;\n",
              "      border-radius: 50%;\n",
              "      cursor: pointer;\n",
              "      display: none;\n",
              "      fill: #1967D2;\n",
              "      height: 32px;\n",
              "      padding: 0 0 0 0;\n",
              "      width: 32px;\n",
              "    }\n",
              "\n",
              "    .colab-df-convert:hover {\n",
              "      background-color: #E2EBFA;\n",
              "      box-shadow: 0px 1px 2px rgba(60, 64, 67, 0.3), 0px 1px 3px 1px rgba(60, 64, 67, 0.15);\n",
              "      fill: #174EA6;\n",
              "    }\n",
              "\n",
              "    [theme=dark] .colab-df-convert {\n",
              "      background-color: #3B4455;\n",
              "      fill: #D2E3FC;\n",
              "    }\n",
              "\n",
              "    [theme=dark] .colab-df-convert:hover {\n",
              "      background-color: #434B5C;\n",
              "      box-shadow: 0px 1px 3px 1px rgba(0, 0, 0, 0.15);\n",
              "      filter: drop-shadow(0px 1px 2px rgba(0, 0, 0, 0.3));\n",
              "      fill: #FFFFFF;\n",
              "    }\n",
              "  </style>\n",
              "\n",
              "      <script>\n",
              "        const buttonEl =\n",
              "          document.querySelector('#df-6654007f-b364-42ef-9e9d-919f5461045c button.colab-df-convert');\n",
              "        buttonEl.style.display =\n",
              "          google.colab.kernel.accessAllowed ? 'block' : 'none';\n",
              "\n",
              "        async function convertToInteractive(key) {\n",
              "          const element = document.querySelector('#df-6654007f-b364-42ef-9e9d-919f5461045c');\n",
              "          const dataTable =\n",
              "            await google.colab.kernel.invokeFunction('convertToInteractive',\n",
              "                                                     [key], {});\n",
              "          if (!dataTable) return;\n",
              "\n",
              "          const docLinkHtml = 'Like what you see? Visit the ' +\n",
              "            '<a target=\"_blank\" href=https://colab.research.google.com/notebooks/data_table.ipynb>data table notebook</a>'\n",
              "            + ' to learn more about interactive tables.';\n",
              "          element.innerHTML = '';\n",
              "          dataTable['output_type'] = 'display_data';\n",
              "          await google.colab.output.renderOutput(dataTable, element);\n",
              "          const docLink = document.createElement('div');\n",
              "          docLink.innerHTML = docLinkHtml;\n",
              "          element.appendChild(docLink);\n",
              "        }\n",
              "      </script>\n",
              "    </div>\n",
              "  </div>\n",
              "  "
            ],
            "text/plain": [
              "            India Price  IndiaPrice_pred\n",
              "Date                                    \n",
              "2018-03-09        341.0       374.487222\n",
              "2018-03-16        374.0       375.727592\n",
              "2018-03-23        390.0       377.930091\n",
              "2018-03-30        384.0       378.873006\n",
              "2018-04-06        422.0       378.588030\n",
              "2018-04-13        416.0       376.673733\n",
              "2018-04-20        394.0       374.822962\n",
              "2018-04-27        404.0       375.087337\n",
              "2018-05-04        399.0       378.392309\n",
              "2018-05-11        389.0       376.932648\n",
              "2018-05-18        385.0       375.633864\n",
              "2018-05-25        390.0       376.249445"
            ]
          },
          "metadata": {},
          "execution_count": 76
        }
      ]
    },
    {
      "cell_type": "code",
      "source": [
        "df_predictions['India Price'].plot(figsize=(10,6))\n",
        "df_predictions['IndiaPrice_pred'].plot()\n"
      ],
      "metadata": {
        "colab": {
          "base_uri": "https://localhost:8080/",
          "height": 440
        },
        "id": "czElgLV3XQnT",
        "outputId": "c6981cee-358c-4958-98fe-2757a58c0a8e"
      },
      "execution_count": null,
      "outputs": [
        {
          "output_type": "execute_result",
          "data": {
            "text/plain": [
              "<matplotlib.axes._subplots.AxesSubplot at 0x7f99fb753950>"
            ]
          },
          "metadata": {},
          "execution_count": 77
        },
        {
          "output_type": "display_data",
          "data": {
            "image/png": "[encoded data removed]",
            "text/plain": [
              "<Figure size 720x432 with 1 Axes>"
            ]
          },
          "metadata": {
            "needs_background": "light"
          }
        }
      ]
    },
    {
      "cell_type": "code",
      "source": [
        "from sklearn.metrics import mean_squared_error\n",
        "from math import sqrt\n",
        "error=sqrt(mean_squared_error(df_predictions['India Price'],df_predictions['IndiaPrice_pred']))\n",
        "print(error)"
      ],
      "metadata": {
        "colab": {
          "base_uri": "https://localhost:8080/"
        },
        "id": "dW01XcgxXlki",
        "outputId": "4085126b-7af3-42e2-8219-d3a102db78ba"
      },
      "execution_count": null,
      "outputs": [
        {
          "output_type": "stream",
          "name": "stdout",
          "text": [
            "23.76675344793031\n"
          ]
        }
      ]
    },
    {
      "cell_type": "code",
      "source": [
        "curr_batch.shape"
      ],
      "metadata": {
        "colab": {
          "base_uri": "https://localhost:8080/"
        },
        "id": "QYkUxybRFYrZ",
        "outputId": "00274568-3caa-4be8-eeae-0f57aef58411"
      },
      "execution_count": null,
      "outputs": [
        {
          "output_type": "execute_result",
          "data": {
            "text/plain": [
              "(1, 12, 4)"
            ]
          },
          "metadata": {},
          "execution_count": 233
        }
      ]
    },
    {
      "cell_type": "markdown",
      "source": [
        "TAKING LAST TWELVE VALUES OF TEST SUBSET 1 TO PREDICT VALUES OF NEXT 12 WEEKS OF 2ND TEST SUBSET"
      ],
      "metadata": {
        "id": "lRo0asjQOyXd"
      }
    },
    {
      "cell_type": "code",
      "source": [
        "test['2019-03-01':'2019-06-01']\n",
        "test2_input=data[675:687]\n",
        "test2_input_scaled=scaler.fit_transform(test2_input)"
      ],
      "metadata": {
        "id": "cvk_gW0PwuMu"
      },
      "execution_count": null,
      "outputs": []
    },
    {
      "cell_type": "code",
      "source": [
        "test2_input"
      ],
      "metadata": {
        "colab": {
          "base_uri": "https://localhost:8080/",
          "height": 457
        },
        "id": "bxVFQy2ir3i2",
        "outputId": "57b97fd5-1b21-4300-a4bc-6f6307ce9fa2"
      },
      "execution_count": null,
      "outputs": [
        {
          "output_type": "execute_result",
          "data": {
            "text/html": [
              "\n",
              "  <div id=\"df-6f9a6464-3c4e-43db-8fd7-99f1e79da9a8\">\n",
              "    <div class=\"colab-df-container\">\n",
              "      <div>\n",
              "<style scoped>\n",
              "    .dataframe tbody tr th:only-of-type {\n",
              "        vertical-align: middle;\n",
              "    }\n",
              "\n",
              "    .dataframe tbody tr th {\n",
              "        vertical-align: top;\n",
              "    }\n",
              "\n",
              "    .dataframe thead th {\n",
              "        text-align: right;\n",
              "    }\n",
              "</style>\n",
              "<table border=\"1\" class=\"dataframe\">\n",
              "  <thead>\n",
              "    <tr style=\"text-align: right;\">\n",
              "      <th></th>\n",
              "      <th>India Price</th>\n",
              "      <th>Asia Price</th>\n",
              "      <th>Rotterdam Price</th>\n",
              "      <th>US Domestic Price</th>\n",
              "    </tr>\n",
              "    <tr>\n",
              "      <th>Date</th>\n",
              "      <th></th>\n",
              "      <th></th>\n",
              "      <th></th>\n",
              "      <th></th>\n",
              "    </tr>\n",
              "  </thead>\n",
              "  <tbody>\n",
              "    <tr>\n",
              "      <th>2018-12-07</th>\n",
              "      <td>250.0</td>\n",
              "      <td>330.0</td>\n",
              "      <td>289.90</td>\n",
              "      <td>120.28</td>\n",
              "    </tr>\n",
              "    <tr>\n",
              "      <th>2018-12-14</th>\n",
              "      <td>238.0</td>\n",
              "      <td>320.0</td>\n",
              "      <td>293.20</td>\n",
              "      <td>120.28</td>\n",
              "    </tr>\n",
              "    <tr>\n",
              "      <th>2018-12-21</th>\n",
              "      <td>230.5</td>\n",
              "      <td>300.0</td>\n",
              "      <td>287.30</td>\n",
              "      <td>120.28</td>\n",
              "    </tr>\n",
              "    <tr>\n",
              "      <th>2019-01-04</th>\n",
              "      <td>232.5</td>\n",
              "      <td>299.0</td>\n",
              "      <td>288.67</td>\n",
              "      <td>112.63</td>\n",
              "    </tr>\n",
              "    <tr>\n",
              "      <th>2019-01-11</th>\n",
              "      <td>233.0</td>\n",
              "      <td>299.0</td>\n",
              "      <td>277.20</td>\n",
              "      <td>112.63</td>\n",
              "    </tr>\n",
              "    <tr>\n",
              "      <th>2019-01-18</th>\n",
              "      <td>240.0</td>\n",
              "      <td>300.0</td>\n",
              "      <td>277.90</td>\n",
              "      <td>112.63</td>\n",
              "    </tr>\n",
              "    <tr>\n",
              "      <th>2019-01-25</th>\n",
              "      <td>285.5</td>\n",
              "      <td>304.0</td>\n",
              "      <td>269.70</td>\n",
              "      <td>112.63</td>\n",
              "    </tr>\n",
              "    <tr>\n",
              "      <th>2019-02-01</th>\n",
              "      <td>290.5</td>\n",
              "      <td>320.5</td>\n",
              "      <td>271.20</td>\n",
              "      <td>110.08</td>\n",
              "    </tr>\n",
              "    <tr>\n",
              "      <th>2019-02-08</th>\n",
              "      <td>305.5</td>\n",
              "      <td>330.5</td>\n",
              "      <td>280.40</td>\n",
              "      <td>110.08</td>\n",
              "    </tr>\n",
              "    <tr>\n",
              "      <th>2019-02-15</th>\n",
              "      <td>315.0</td>\n",
              "      <td>332.0</td>\n",
              "      <td>277.70</td>\n",
              "      <td>110.08</td>\n",
              "    </tr>\n",
              "    <tr>\n",
              "      <th>2019-02-22</th>\n",
              "      <td>300.0</td>\n",
              "      <td>336.0</td>\n",
              "      <td>275.40</td>\n",
              "      <td>110.08</td>\n",
              "    </tr>\n",
              "    <tr>\n",
              "      <th>2019-03-01</th>\n",
              "      <td>295.0</td>\n",
              "      <td>325.0</td>\n",
              "      <td>280.30</td>\n",
              "      <td>103.60</td>\n",
              "    </tr>\n",
              "  </tbody>\n",
              "</table>\n",
              "</div>\n",
              "      <button class=\"colab-df-convert\" onclick=\"convertToInteractive('df-6f9a6464-3c4e-43db-8fd7-99f1e79da9a8')\"\n",
              "              title=\"Convert this dataframe to an interactive table.\"\n",
              "              style=\"display:none;\">\n",
              "        \n",
              "  <svg xmlns=\"http://www.w3.org/2000/svg\" height=\"24px\"viewBox=\"0 0 24 24\"\n",
              "       width=\"24px\">\n",
              "    <path d=\"M0 0h24v24H0V0z\" fill=\"none\"/>\n",
              "    <path d=\"M18.56 5.44l.94 2.06.94-2.06 2.06-.94-2.06-.94-.94-2.06-.94 2.06-2.06.94zm-11 1L8.5 8.5l.94-2.06 2.06-.94-2.06-.94L8.5 2.5l-.94 2.06-2.06.94zm10 10l.94 2.06.94-2.06 2.06-.94-2.06-.94-.94-2.06-.94 2.06-2.06.94z\"/><path d=\"M17.41 7.96l-1.37-1.37c-.4-.4-.92-.59-1.43-.59-.52 0-1.04.2-1.43.59L10.3 9.45l-7.72 7.72c-.78.78-.78 2.05 0 2.83L4 21.41c.39.39.9.59 1.41.59.51 0 1.02-.2 1.41-.59l7.78-7.78 2.81-2.81c.8-.78.8-2.07 0-2.86zM5.41 20L4 18.59l7.72-7.72 1.47 1.35L5.41 20z\"/>\n",
              "  </svg>\n",
              "      </button>\n",
              "      \n",
              "  <style>\n",
              "    .colab-df-container {\n",
              "      display:flex;\n",
              "      flex-wrap:wrap;\n",
              "      gap: 12px;\n",
              "    }\n",
              "\n",
              "    .colab-df-convert {\n",
              "      background-color: #E8F0FE;\n",
              "      border: none;\n",
              "      border-radius: 50%;\n",
              "      cursor: pointer;\n",
              "      display: none;\n",
              "      fill: #1967D2;\n",
              "      height: 32px;\n",
              "      padding: 0 0 0 0;\n",
              "      width: 32px;\n",
              "    }\n",
              "\n",
              "    .colab-df-convert:hover {\n",
              "      background-color: #E2EBFA;\n",
              "      box-shadow: 0px 1px 2px rgba(60, 64, 67, 0.3), 0px 1px 3px 1px rgba(60, 64, 67, 0.15);\n",
              "      fill: #174EA6;\n",
              "    }\n",
              "\n",
              "    [theme=dark] .colab-df-convert {\n",
              "      background-color: #3B4455;\n",
              "      fill: #D2E3FC;\n",
              "    }\n",
              "\n",
              "    [theme=dark] .colab-df-convert:hover {\n",
              "      background-color: #434B5C;\n",
              "      box-shadow: 0px 1px 3px 1px rgba(0, 0, 0, 0.15);\n",
              "      filter: drop-shadow(0px 1px 2px rgba(0, 0, 0, 0.3));\n",
              "      fill: #FFFFFF;\n",
              "    }\n",
              "  </style>\n",
              "\n",
              "      <script>\n",
              "        const buttonEl =\n",
              "          document.querySelector('#df-6f9a6464-3c4e-43db-8fd7-99f1e79da9a8 button.colab-df-convert');\n",
              "        buttonEl.style.display =\n",
              "          google.colab.kernel.accessAllowed ? 'block' : 'none';\n",
              "\n",
              "        async function convertToInteractive(key) {\n",
              "          const element = document.querySelector('#df-6f9a6464-3c4e-43db-8fd7-99f1e79da9a8');\n",
              "          const dataTable =\n",
              "            await google.colab.kernel.invokeFunction('convertToInteractive',\n",
              "                                                     [key], {});\n",
              "          if (!dataTable) return;\n",
              "\n",
              "          const docLinkHtml = 'Like what you see? Visit the ' +\n",
              "            '<a target=\"_blank\" href=https://colab.research.google.com/notebooks/data_table.ipynb>data table notebook</a>'\n",
              "            + ' to learn more about interactive tables.';\n",
              "          element.innerHTML = '';\n",
              "          dataTable['output_type'] = 'display_data';\n",
              "          await google.colab.output.renderOutput(dataTable, element);\n",
              "          const docLink = document.createElement('div');\n",
              "          docLink.innerHTML = docLinkHtml;\n",
              "          element.appendChild(docLink);\n",
              "        }\n",
              "      </script>\n",
              "    </div>\n",
              "  </div>\n",
              "  "
            ],
            "text/plain": [
              "            India Price  Asia Price  Rotterdam Price  US Domestic Price\n",
              "Date                                                                   \n",
              "2018-12-07        250.0       330.0           289.90             120.28\n",
              "2018-12-14        238.0       320.0           293.20             120.28\n",
              "2018-12-21        230.5       300.0           287.30             120.28\n",
              "2019-01-04        232.5       299.0           288.67             112.63\n",
              "2019-01-11        233.0       299.0           277.20             112.63\n",
              "2019-01-18        240.0       300.0           277.90             112.63\n",
              "2019-01-25        285.5       304.0           269.70             112.63\n",
              "2019-02-01        290.5       320.5           271.20             110.08\n",
              "2019-02-08        305.5       330.5           280.40             110.08\n",
              "2019-02-15        315.0       332.0           277.70             110.08\n",
              "2019-02-22        300.0       336.0           275.40             110.08\n",
              "2019-03-01        295.0       325.0           280.30             103.60"
            ]
          },
          "metadata": {},
          "execution_count": 82
        }
      ]
    },
    {
      "cell_type": "code",
      "source": [
        "test_pred1=data[687:699]"
      ],
      "metadata": {
        "id": "mLEwVWcEr921"
      },
      "execution_count": null,
      "outputs": []
    },
    {
      "cell_type": "code",
      "source": [
        "test_pred1\n"
      ],
      "metadata": {
        "colab": {
          "base_uri": "https://localhost:8080/",
          "height": 457
        },
        "id": "Y_wBWb94uCga",
        "outputId": "fe140249-8899-4729-9042-077e7f3f97bd"
      },
      "execution_count": null,
      "outputs": [
        {
          "output_type": "execute_result",
          "data": {
            "text/html": [
              "\n",
              "  <div id=\"df-8372f9f2-51d6-419f-813a-2c2eb78beff0\">\n",
              "    <div class=\"colab-df-container\">\n",
              "      <div>\n",
              "<style scoped>\n",
              "    .dataframe tbody tr th:only-of-type {\n",
              "        vertical-align: middle;\n",
              "    }\n",
              "\n",
              "    .dataframe tbody tr th {\n",
              "        vertical-align: top;\n",
              "    }\n",
              "\n",
              "    .dataframe thead th {\n",
              "        text-align: right;\n",
              "    }\n",
              "</style>\n",
              "<table border=\"1\" class=\"dataframe\">\n",
              "  <thead>\n",
              "    <tr style=\"text-align: right;\">\n",
              "      <th></th>\n",
              "      <th>India Price</th>\n",
              "      <th>Asia Price</th>\n",
              "      <th>Rotterdam Price</th>\n",
              "      <th>US Domestic Price</th>\n",
              "    </tr>\n",
              "    <tr>\n",
              "      <th>Date</th>\n",
              "      <th></th>\n",
              "      <th></th>\n",
              "      <th></th>\n",
              "      <th></th>\n",
              "    </tr>\n",
              "  </thead>\n",
              "  <tbody>\n",
              "    <tr>\n",
              "      <th>2019-03-08</th>\n",
              "      <td>290.0</td>\n",
              "      <td>326.0</td>\n",
              "      <td>282.10</td>\n",
              "      <td>103.60</td>\n",
              "    </tr>\n",
              "    <tr>\n",
              "      <th>2019-03-15</th>\n",
              "      <td>292.0</td>\n",
              "      <td>320.0</td>\n",
              "      <td>288.20</td>\n",
              "      <td>103.60</td>\n",
              "    </tr>\n",
              "    <tr>\n",
              "      <th>2019-03-22</th>\n",
              "      <td>292.0</td>\n",
              "      <td>321.0</td>\n",
              "      <td>283.50</td>\n",
              "      <td>103.60</td>\n",
              "    </tr>\n",
              "    <tr>\n",
              "      <th>2019-03-29</th>\n",
              "      <td>290.0</td>\n",
              "      <td>320.0</td>\n",
              "      <td>276.40</td>\n",
              "      <td>103.60</td>\n",
              "    </tr>\n",
              "    <tr>\n",
              "      <th>2019-04-05</th>\n",
              "      <td>290.0</td>\n",
              "      <td>331.0</td>\n",
              "      <td>269.20</td>\n",
              "      <td>103.60</td>\n",
              "    </tr>\n",
              "    <tr>\n",
              "      <th>2019-04-12</th>\n",
              "      <td>291.0</td>\n",
              "      <td>335.0</td>\n",
              "      <td>267.70</td>\n",
              "      <td>103.60</td>\n",
              "    </tr>\n",
              "    <tr>\n",
              "      <th>2019-04-19</th>\n",
              "      <td>307.0</td>\n",
              "      <td>333.0</td>\n",
              "      <td>272.50</td>\n",
              "      <td>103.60</td>\n",
              "    </tr>\n",
              "    <tr>\n",
              "      <th>2019-04-26</th>\n",
              "      <td>307.0</td>\n",
              "      <td>333.0</td>\n",
              "      <td>276.50</td>\n",
              "      <td>103.60</td>\n",
              "    </tr>\n",
              "    <tr>\n",
              "      <th>2019-05-03</th>\n",
              "      <td>310.0</td>\n",
              "      <td>332.0</td>\n",
              "      <td>274.40</td>\n",
              "      <td>101.12</td>\n",
              "    </tr>\n",
              "    <tr>\n",
              "      <th>2019-05-10</th>\n",
              "      <td>300.0</td>\n",
              "      <td>324.0</td>\n",
              "      <td>271.13</td>\n",
              "      <td>101.12</td>\n",
              "    </tr>\n",
              "    <tr>\n",
              "      <th>2019-05-17</th>\n",
              "      <td>286.0</td>\n",
              "      <td>325.0</td>\n",
              "      <td>264.60</td>\n",
              "      <td>101.12</td>\n",
              "    </tr>\n",
              "    <tr>\n",
              "      <th>2019-05-24</th>\n",
              "      <td>265.0</td>\n",
              "      <td>323.0</td>\n",
              "      <td>259.40</td>\n",
              "      <td>101.12</td>\n",
              "    </tr>\n",
              "  </tbody>\n",
              "</table>\n",
              "</div>\n",
              "      <button class=\"colab-df-convert\" onclick=\"convertToInteractive('df-8372f9f2-51d6-419f-813a-2c2eb78beff0')\"\n",
              "              title=\"Convert this dataframe to an interactive table.\"\n",
              "              style=\"display:none;\">\n",
              "        \n",
              "  <svg xmlns=\"http://www.w3.org/2000/svg\" height=\"24px\"viewBox=\"0 0 24 24\"\n",
              "       width=\"24px\">\n",
              "    <path d=\"M0 0h24v24H0V0z\" fill=\"none\"/>\n",
              "    <path d=\"M18.56 5.44l.94 2.06.94-2.06 2.06-.94-2.06-.94-.94-2.06-.94 2.06-2.06.94zm-11 1L8.5 8.5l.94-2.06 2.06-.94-2.06-.94L8.5 2.5l-.94 2.06-2.06.94zm10 10l.94 2.06.94-2.06 2.06-.94-2.06-.94-.94-2.06-.94 2.06-2.06.94z\"/><path d=\"M17.41 7.96l-1.37-1.37c-.4-.4-.92-.59-1.43-.59-.52 0-1.04.2-1.43.59L10.3 9.45l-7.72 7.72c-.78.78-.78 2.05 0 2.83L4 21.41c.39.39.9.59 1.41.59.51 0 1.02-.2 1.41-.59l7.78-7.78 2.81-2.81c.8-.78.8-2.07 0-2.86zM5.41 20L4 18.59l7.72-7.72 1.47 1.35L5.41 20z\"/>\n",
              "  </svg>\n",
              "      </button>\n",
              "      \n",
              "  <style>\n",
              "    .colab-df-container {\n",
              "      display:flex;\n",
              "      flex-wrap:wrap;\n",
              "      gap: 12px;\n",
              "    }\n",
              "\n",
              "    .colab-df-convert {\n",
              "      background-color: #E8F0FE;\n",
              "      border: none;\n",
              "      border-radius: 50%;\n",
              "      cursor: pointer;\n",
              "      display: none;\n",
              "      fill: #1967D2;\n",
              "      height: 32px;\n",
              "      padding: 0 0 0 0;\n",
              "      width: 32px;\n",
              "    }\n",
              "\n",
              "    .colab-df-convert:hover {\n",
              "      background-color: #E2EBFA;\n",
              "      box-shadow: 0px 1px 2px rgba(60, 64, 67, 0.3), 0px 1px 3px 1px rgba(60, 64, 67, 0.15);\n",
              "      fill: #174EA6;\n",
              "    }\n",
              "\n",
              "    [theme=dark] .colab-df-convert {\n",
              "      background-color: #3B4455;\n",
              "      fill: #D2E3FC;\n",
              "    }\n",
              "\n",
              "    [theme=dark] .colab-df-convert:hover {\n",
              "      background-color: #434B5C;\n",
              "      box-shadow: 0px 1px 3px 1px rgba(0, 0, 0, 0.15);\n",
              "      filter: drop-shadow(0px 1px 2px rgba(0, 0, 0, 0.3));\n",
              "      fill: #FFFFFF;\n",
              "    }\n",
              "  </style>\n",
              "\n",
              "      <script>\n",
              "        const buttonEl =\n",
              "          document.querySelector('#df-8372f9f2-51d6-419f-813a-2c2eb78beff0 button.colab-df-convert');\n",
              "        buttonEl.style.display =\n",
              "          google.colab.kernel.accessAllowed ? 'block' : 'none';\n",
              "\n",
              "        async function convertToInteractive(key) {\n",
              "          const element = document.querySelector('#df-8372f9f2-51d6-419f-813a-2c2eb78beff0');\n",
              "          const dataTable =\n",
              "            await google.colab.kernel.invokeFunction('convertToInteractive',\n",
              "                                                     [key], {});\n",
              "          if (!dataTable) return;\n",
              "\n",
              "          const docLinkHtml = 'Like what you see? Visit the ' +\n",
              "            '<a target=\"_blank\" href=https://colab.research.google.com/notebooks/data_table.ipynb>data table notebook</a>'\n",
              "            + ' to learn more about interactive tables.';\n",
              "          element.innerHTML = '';\n",
              "          dataTable['output_type'] = 'display_data';\n",
              "          await google.colab.output.renderOutput(dataTable, element);\n",
              "          const docLink = document.createElement('div');\n",
              "          docLink.innerHTML = docLinkHtml;\n",
              "          element.appendChild(docLink);\n",
              "        }\n",
              "      </script>\n",
              "    </div>\n",
              "  </div>\n",
              "  "
            ],
            "text/plain": [
              "            India Price  Asia Price  Rotterdam Price  US Domestic Price\n",
              "Date                                                                   \n",
              "2019-03-08        290.0       326.0           282.10             103.60\n",
              "2019-03-15        292.0       320.0           288.20             103.60\n",
              "2019-03-22        292.0       321.0           283.50             103.60\n",
              "2019-03-29        290.0       320.0           276.40             103.60\n",
              "2019-04-05        290.0       331.0           269.20             103.60\n",
              "2019-04-12        291.0       335.0           267.70             103.60\n",
              "2019-04-19        307.0       333.0           272.50             103.60\n",
              "2019-04-26        307.0       333.0           276.50             103.60\n",
              "2019-05-03        310.0       332.0           274.40             101.12\n",
              "2019-05-10        300.0       324.0           271.13             101.12\n",
              "2019-05-17        286.0       325.0           264.60             101.12\n",
              "2019-05-24        265.0       323.0           259.40             101.12"
            ]
          },
          "metadata": {},
          "execution_count": 84
        }
      ]
    },
    {
      "cell_type": "code",
      "source": [
        "test2_input_scaled"
      ],
      "metadata": {
        "colab": {
          "base_uri": "https://localhost:8080/"
        },
        "id": "c4JrS6uTvaQG",
        "outputId": "8aaa683b-15c0-4683-e3a2-fd97139dace1"
      },
      "execution_count": null,
      "outputs": [
        {
          "output_type": "execute_result",
          "data": {
            "text/plain": [
              "array([[0.23076923, 0.83783784, 0.85957447, 1.        ],\n",
              "       [0.0887574 , 0.56756757, 1.        , 1.        ],\n",
              "       [0.        , 0.02702703, 0.74893617, 1.        ],\n",
              "       [0.02366864, 0.        , 0.80723404, 0.54136691],\n",
              "       [0.0295858 , 0.        , 0.31914894, 0.54136691],\n",
              "       [0.11242604, 0.02702703, 0.34893617, 0.54136691],\n",
              "       [0.65088757, 0.13513514, 0.        , 0.54136691],\n",
              "       [0.71005917, 0.58108108, 0.06382979, 0.38848921],\n",
              "       [0.88757396, 0.85135135, 0.45531915, 0.38848921],\n",
              "       [1.        , 0.89189189, 0.34042553, 0.38848921],\n",
              "       [0.82248521, 1.        , 0.24255319, 0.38848921],\n",
              "       [0.76331361, 0.7027027 , 0.45106383, 0.        ]])"
            ]
          },
          "metadata": {},
          "execution_count": 85
        }
      ]
    },
    {
      "cell_type": "markdown",
      "source": [
        "ROLLING PREDICTIONS FOR 12 WEEKS OF 2ND TEST DATA SUBSET"
      ],
      "metadata": {
        "id": "LWqzk6COPfsH"
      }
    },
    {
      "cell_type": "code",
      "source": [
        "test_predictions1=[]\n",
        "n_input=12\n",
        "n_features=4\n",
        "\n",
        "first_batch1=test2_input_scaled\n",
        "curr_batch1=first_batch1.reshape((1,n_input,n_features))\n",
        "for i in range(0,len(test_pred1)):#len(test_pred)\n",
        "  curr_pred1=model.predict(curr_batch1)[0]\n",
        "  test_predictions1.append(curr_pred1)\n",
        "  slc=pred(i,curr_pred1,curr_batch1)\n",
        "  curr_batch1=np.append(curr_batch1[:,1:,:],[[slc]],axis=1)"
      ],
      "metadata": {
        "id": "Ouguc2nNuGcY"
      },
      "execution_count": null,
      "outputs": []
    },
    {
      "cell_type": "code",
      "source": [
        "curr_batch1"
      ],
      "metadata": {
        "colab": {
          "base_uri": "https://localhost:8080/"
        },
        "id": "6XbBM7Lpvocm",
        "outputId": "6ddf4dcb-cb37-4147-8035-c103066e5f8c"
      },
      "execution_count": null,
      "outputs": [
        {
          "output_type": "execute_result",
          "data": {
            "text/plain": [
              "array([[[0.46727103, 0.83783784, 0.85957447, 1.        ],\n",
              "        [0.50225264, 0.02702703, 0.74893617, 1.        ],\n",
              "        [0.30208549, 0.        , 0.31914894, 0.54136691],\n",
              "        [0.1934624 , 0.13513514, 0.        , 0.54136691],\n",
              "        [0.14566506, 0.85135135, 0.45531915, 0.38848921],\n",
              "        [0.45780909, 1.        , 0.24255319, 0.38848921],\n",
              "        [0.51342893, 0.83783784, 0.85957447, 1.        ],\n",
              "        [0.62659663, 0.        , 0.31914894, 0.54136691],\n",
              "        [0.29715723, 0.85135135, 0.45531915, 0.38848921],\n",
              "        [0.49623376, 0.83783784, 0.85957447, 1.        ],\n",
              "        [0.59992301, 0.85135135, 0.45531915, 0.38848921],\n",
              "        [0.51986921, 0.85135135, 0.45531915, 0.38848921]]])"
            ]
          },
          "metadata": {},
          "execution_count": 91
        }
      ]
    },
    {
      "cell_type": "code",
      "source": [
        "curr_pred1"
      ],
      "metadata": {
        "colab": {
          "base_uri": "https://localhost:8080/"
        },
        "id": "k696Z7MQvQ6T",
        "outputId": "11599a5c-d62c-4563-aee7-2ca7f101fcd3"
      },
      "execution_count": null,
      "outputs": [
        {
          "output_type": "execute_result",
          "data": {
            "text/plain": [
              "array([0.5198692], dtype=float32)"
            ]
          },
          "metadata": {},
          "execution_count": 92
        }
      ]
    },
    {
      "cell_type": "code",
      "source": [
        "test_predictions1=np.array(test_predictions1)\n",
        "type(test_predictions1)"
      ],
      "metadata": {
        "colab": {
          "base_uri": "https://localhost:8080/"
        },
        "id": "N3Mp1vlQwhYU",
        "outputId": "4295d093-7882-4682-dc3d-f9a05ee68f0b"
      },
      "execution_count": null,
      "outputs": [
        {
          "output_type": "execute_result",
          "data": {
            "text/plain": [
              "numpy.ndarray"
            ]
          },
          "metadata": {},
          "execution_count": 93
        }
      ]
    },
    {
      "cell_type": "code",
      "source": [
        "curr_batch1=curr_batch1.reshape(n_input,n_features)\n",
        "curr_batch1.shape"
      ],
      "metadata": {
        "colab": {
          "base_uri": "https://localhost:8080/"
        },
        "id": "kPLBlxuqxBrn",
        "outputId": "964afeda-0fe4-4663-da77-cd2f9835796c"
      },
      "execution_count": null,
      "outputs": [
        {
          "output_type": "execute_result",
          "data": {
            "text/plain": [
              "(12, 4)"
            ]
          },
          "metadata": {},
          "execution_count": 94
        }
      ]
    },
    {
      "cell_type": "code",
      "source": [
        "true_predictions1=scaler.inverse_transform(curr_batch1)\n",
        "true_predictions1"
      ],
      "metadata": {
        "colab": {
          "base_uri": "https://localhost:8080/"
        },
        "id": "1z5KzM7lxNpq",
        "outputId": "9f674b8a-bb7f-4e3b-a00d-beaa4a3cd221"
      },
      "execution_count": null,
      "outputs": [
        {
          "output_type": "execute_result",
          "data": {
            "text/plain": [
              "array([[269.98440203, 330.        , 289.9       , 120.28      ],\n",
              "       [272.94034794, 300.        , 287.3       , 120.28      ],\n",
              "       [256.02622382, 299.        , 277.2       , 112.63      ],\n",
              "       [246.84757294, 304.        , 269.7       , 112.63      ],\n",
              "       [242.80869795, 330.5       , 280.4       , 110.08      ],\n",
              "       [269.18486816, 336.        , 275.4       , 110.08      ],\n",
              "       [273.88474429, 330.        , 289.9       , 120.28      ],\n",
              "       [283.4474152 , 299.        , 277.2       , 112.63      ],\n",
              "       [255.60978577, 330.5       , 280.4       , 110.08      ],\n",
              "       [272.43175283, 330.        , 289.9       , 120.28      ],\n",
              "       [281.19349474, 330.5       , 280.4       , 110.08      ],\n",
              "       [274.4289481 , 330.5       , 280.4       , 110.08      ]])"
            ]
          },
          "metadata": {},
          "execution_count": 95
        }
      ]
    },
    {
      "cell_type": "code",
      "source": [
        "df_predictions1=test_pred1\n",
        "df_predictions1\n",
        "df_predictions1['IndiaPrice_pred']=true_predictions1[:,0]"
      ],
      "metadata": {
        "colab": {
          "base_uri": "https://localhost:8080/"
        },
        "id": "YoMACJQ5xXTT",
        "outputId": "1135fac4-22ed-4453-9974-80f5db1bda5f"
      },
      "execution_count": null,
      "outputs": [
        {
          "output_type": "stream",
          "name": "stderr",
          "text": [
            "/usr/local/lib/python3.7/dist-packages/ipykernel_launcher.py:3: SettingWithCopyWarning: \n",
            "A value is trying to be set on a copy of a slice from a DataFrame.\n",
            "Try using .loc[row_indexer,col_indexer] = value instead\n",
            "\n",
            "See the caveats in the documentation: https://pandas.pydata.org/pandas-docs/stable/user_guide/indexing.html#returning-a-view-versus-a-copy\n",
            "  This is separate from the ipykernel package so we can avoid doing imports until\n"
          ]
        }
      ]
    },
    {
      "cell_type": "code",
      "source": [
        "df_predictions1"
      ],
      "metadata": {
        "colab": {
          "base_uri": "https://localhost:8080/",
          "height": 457
        },
        "id": "YqyNsdS3xq0Z",
        "outputId": "baacace4-a684-437f-8750-23e4103cf1e8"
      },
      "execution_count": null,
      "outputs": [
        {
          "output_type": "execute_result",
          "data": {
            "text/html": [
              "\n",
              "  <div id=\"df-01a133fd-8082-4175-a5ce-a94835cd1953\">\n",
              "    <div class=\"colab-df-container\">\n",
              "      <div>\n",
              "<style scoped>\n",
              "    .dataframe tbody tr th:only-of-type {\n",
              "        vertical-align: middle;\n",
              "    }\n",
              "\n",
              "    .dataframe tbody tr th {\n",
              "        vertical-align: top;\n",
              "    }\n",
              "\n",
              "    .dataframe thead th {\n",
              "        text-align: right;\n",
              "    }\n",
              "</style>\n",
              "<table border=\"1\" class=\"dataframe\">\n",
              "  <thead>\n",
              "    <tr style=\"text-align: right;\">\n",
              "      <th></th>\n",
              "      <th>India Price</th>\n",
              "      <th>Asia Price</th>\n",
              "      <th>Rotterdam Price</th>\n",
              "      <th>US Domestic Price</th>\n",
              "      <th>IndiaPrice_pred</th>\n",
              "    </tr>\n",
              "    <tr>\n",
              "      <th>Date</th>\n",
              "      <th></th>\n",
              "      <th></th>\n",
              "      <th></th>\n",
              "      <th></th>\n",
              "      <th></th>\n",
              "    </tr>\n",
              "  </thead>\n",
              "  <tbody>\n",
              "    <tr>\n",
              "      <th>2019-03-08</th>\n",
              "      <td>290.0</td>\n",
              "      <td>326.0</td>\n",
              "      <td>282.10</td>\n",
              "      <td>103.60</td>\n",
              "      <td>269.984402</td>\n",
              "    </tr>\n",
              "    <tr>\n",
              "      <th>2019-03-15</th>\n",
              "      <td>292.0</td>\n",
              "      <td>320.0</td>\n",
              "      <td>288.20</td>\n",
              "      <td>103.60</td>\n",
              "      <td>272.940348</td>\n",
              "    </tr>\n",
              "    <tr>\n",
              "      <th>2019-03-22</th>\n",
              "      <td>292.0</td>\n",
              "      <td>321.0</td>\n",
              "      <td>283.50</td>\n",
              "      <td>103.60</td>\n",
              "      <td>256.026224</td>\n",
              "    </tr>\n",
              "    <tr>\n",
              "      <th>2019-03-29</th>\n",
              "      <td>290.0</td>\n",
              "      <td>320.0</td>\n",
              "      <td>276.40</td>\n",
              "      <td>103.60</td>\n",
              "      <td>246.847573</td>\n",
              "    </tr>\n",
              "    <tr>\n",
              "      <th>2019-04-05</th>\n",
              "      <td>290.0</td>\n",
              "      <td>331.0</td>\n",
              "      <td>269.20</td>\n",
              "      <td>103.60</td>\n",
              "      <td>242.808698</td>\n",
              "    </tr>\n",
              "    <tr>\n",
              "      <th>2019-04-12</th>\n",
              "      <td>291.0</td>\n",
              "      <td>335.0</td>\n",
              "      <td>267.70</td>\n",
              "      <td>103.60</td>\n",
              "      <td>269.184868</td>\n",
              "    </tr>\n",
              "    <tr>\n",
              "      <th>2019-04-19</th>\n",
              "      <td>307.0</td>\n",
              "      <td>333.0</td>\n",
              "      <td>272.50</td>\n",
              "      <td>103.60</td>\n",
              "      <td>273.884744</td>\n",
              "    </tr>\n",
              "    <tr>\n",
              "      <th>2019-04-26</th>\n",
              "      <td>307.0</td>\n",
              "      <td>333.0</td>\n",
              "      <td>276.50</td>\n",
              "      <td>103.60</td>\n",
              "      <td>283.447415</td>\n",
              "    </tr>\n",
              "    <tr>\n",
              "      <th>2019-05-03</th>\n",
              "      <td>310.0</td>\n",
              "      <td>332.0</td>\n",
              "      <td>274.40</td>\n",
              "      <td>101.12</td>\n",
              "      <td>255.609786</td>\n",
              "    </tr>\n",
              "    <tr>\n",
              "      <th>2019-05-10</th>\n",
              "      <td>300.0</td>\n",
              "      <td>324.0</td>\n",
              "      <td>271.13</td>\n",
              "      <td>101.12</td>\n",
              "      <td>272.431753</td>\n",
              "    </tr>\n",
              "    <tr>\n",
              "      <th>2019-05-17</th>\n",
              "      <td>286.0</td>\n",
              "      <td>325.0</td>\n",
              "      <td>264.60</td>\n",
              "      <td>101.12</td>\n",
              "      <td>281.193495</td>\n",
              "    </tr>\n",
              "    <tr>\n",
              "      <th>2019-05-24</th>\n",
              "      <td>265.0</td>\n",
              "      <td>323.0</td>\n",
              "      <td>259.40</td>\n",
              "      <td>101.12</td>\n",
              "      <td>274.428948</td>\n",
              "    </tr>\n",
              "  </tbody>\n",
              "</table>\n",
              "</div>\n",
              "      <button class=\"colab-df-convert\" onclick=\"convertToInteractive('df-01a133fd-8082-4175-a5ce-a94835cd1953')\"\n",
              "              title=\"Convert this dataframe to an interactive table.\"\n",
              "              style=\"display:none;\">\n",
              "        \n",
              "  <svg xmlns=\"http://www.w3.org/2000/svg\" height=\"24px\"viewBox=\"0 0 24 24\"\n",
              "       width=\"24px\">\n",
              "    <path d=\"M0 0h24v24H0V0z\" fill=\"none\"/>\n",
              "    <path d=\"M18.56 5.44l.94 2.06.94-2.06 2.06-.94-2.06-.94-.94-2.06-.94 2.06-2.06.94zm-11 1L8.5 8.5l.94-2.06 2.06-.94-2.06-.94L8.5 2.5l-.94 2.06-2.06.94zm10 10l.94 2.06.94-2.06 2.06-.94-2.06-.94-.94-2.06-.94 2.06-2.06.94z\"/><path d=\"M17.41 7.96l-1.37-1.37c-.4-.4-.92-.59-1.43-.59-.52 0-1.04.2-1.43.59L10.3 9.45l-7.72 7.72c-.78.78-.78 2.05 0 2.83L4 21.41c.39.39.9.59 1.41.59.51 0 1.02-.2 1.41-.59l7.78-7.78 2.81-2.81c.8-.78.8-2.07 0-2.86zM5.41 20L4 18.59l7.72-7.72 1.47 1.35L5.41 20z\"/>\n",
              "  </svg>\n",
              "      </button>\n",
              "      \n",
              "  <style>\n",
              "    .colab-df-container {\n",
              "      display:flex;\n",
              "      flex-wrap:wrap;\n",
              "      gap: 12px;\n",
              "    }\n",
              "\n",
              "    .colab-df-convert {\n",
              "      background-color: #E8F0FE;\n",
              "      border: none;\n",
              "      border-radius: 50%;\n",
              "      cursor: pointer;\n",
              "      display: none;\n",
              "      fill: #1967D2;\n",
              "      height: 32px;\n",
              "      padding: 0 0 0 0;\n",
              "      width: 32px;\n",
              "    }\n",
              "\n",
              "    .colab-df-convert:hover {\n",
              "      background-color: #E2EBFA;\n",
              "      box-shadow: 0px 1px 2px rgba(60, 64, 67, 0.3), 0px 1px 3px 1px rgba(60, 64, 67, 0.15);\n",
              "      fill: #174EA6;\n",
              "    }\n",
              "\n",
              "    [theme=dark] .colab-df-convert {\n",
              "      background-color: #3B4455;\n",
              "      fill: #D2E3FC;\n",
              "    }\n",
              "\n",
              "    [theme=dark] .colab-df-convert:hover {\n",
              "      background-color: #434B5C;\n",
              "      box-shadow: 0px 1px 3px 1px rgba(0, 0, 0, 0.15);\n",
              "      filter: drop-shadow(0px 1px 2px rgba(0, 0, 0, 0.3));\n",
              "      fill: #FFFFFF;\n",
              "    }\n",
              "  </style>\n",
              "\n",
              "      <script>\n",
              "        const buttonEl =\n",
              "          document.querySelector('#df-01a133fd-8082-4175-a5ce-a94835cd1953 button.colab-df-convert');\n",
              "        buttonEl.style.display =\n",
              "          google.colab.kernel.accessAllowed ? 'block' : 'none';\n",
              "\n",
              "        async function convertToInteractive(key) {\n",
              "          const element = document.querySelector('#df-01a133fd-8082-4175-a5ce-a94835cd1953');\n",
              "          const dataTable =\n",
              "            await google.colab.kernel.invokeFunction('convertToInteractive',\n",
              "                                                     [key], {});\n",
              "          if (!dataTable) return;\n",
              "\n",
              "          const docLinkHtml = 'Like what you see? Visit the ' +\n",
              "            '<a target=\"_blank\" href=https://colab.research.google.com/notebooks/data_table.ipynb>data table notebook</a>'\n",
              "            + ' to learn more about interactive tables.';\n",
              "          element.innerHTML = '';\n",
              "          dataTable['output_type'] = 'display_data';\n",
              "          await google.colab.output.renderOutput(dataTable, element);\n",
              "          const docLink = document.createElement('div');\n",
              "          docLink.innerHTML = docLinkHtml;\n",
              "          element.appendChild(docLink);\n",
              "        }\n",
              "      </script>\n",
              "    </div>\n",
              "  </div>\n",
              "  "
            ],
            "text/plain": [
              "            India Price  Asia Price  ...  US Domestic Price  IndiaPrice_pred\n",
              "Date                                 ...                                    \n",
              "2019-03-08        290.0       326.0  ...             103.60       269.984402\n",
              "2019-03-15        292.0       320.0  ...             103.60       272.940348\n",
              "2019-03-22        292.0       321.0  ...             103.60       256.026224\n",
              "2019-03-29        290.0       320.0  ...             103.60       246.847573\n",
              "2019-04-05        290.0       331.0  ...             103.60       242.808698\n",
              "2019-04-12        291.0       335.0  ...             103.60       269.184868\n",
              "2019-04-19        307.0       333.0  ...             103.60       273.884744\n",
              "2019-04-26        307.0       333.0  ...             103.60       283.447415\n",
              "2019-05-03        310.0       332.0  ...             101.12       255.609786\n",
              "2019-05-10        300.0       324.0  ...             101.12       272.431753\n",
              "2019-05-17        286.0       325.0  ...             101.12       281.193495\n",
              "2019-05-24        265.0       323.0  ...             101.12       274.428948\n",
              "\n",
              "[12 rows x 5 columns]"
            ]
          },
          "metadata": {},
          "execution_count": 97
        }
      ]
    },
    {
      "cell_type": "code",
      "source": [
        "df_predictions1['India Price'].plot(figsize=(10,6))\n",
        "df_predictions1['IndiaPrice_pred'].plot()"
      ],
      "metadata": {
        "colab": {
          "base_uri": "https://localhost:8080/",
          "height": 440
        },
        "id": "Yhv4DyAhyJQa",
        "outputId": "884c947b-e040-417f-9efb-edfaed46d89b"
      },
      "execution_count": null,
      "outputs": [
        {
          "output_type": "execute_result",
          "data": {
            "text/plain": [
              "<matplotlib.axes._subplots.AxesSubplot at 0x7f99f7692f10>"
            ]
          },
          "metadata": {},
          "execution_count": 98
        },
        {
          "output_type": "display_data",
          "data": {
            "image/png": "[encoded data removed]",
            "text/plain": [
              "<Figure size 720x432 with 1 Axes>"
            ]
          },
          "metadata": {
            "needs_background": "light"
          }
        }
      ]
    },
    {
      "cell_type": "code",
      "source": [
        "from sklearn.metrics import mean_squared_error\n",
        "from math import sqrt\n",
        "error1=sqrt(mean_squared_error(df_predictions1['India Price'],df_predictions1['IndiaPrice_pred']))\n",
        "print(error1)"
      ],
      "metadata": {
        "colab": {
          "base_uri": "https://localhost:8080/"
        },
        "id": "QiYMsJ_LyQA1",
        "outputId": "dbf9654f-1f90-49f7-9731-2372702b089b"
      },
      "execution_count": null,
      "outputs": [
        {
          "output_type": "stream",
          "name": "stdout",
          "text": [
            "31.760449228841722\n"
          ]
        }
      ]
    },
    {
      "cell_type": "code",
      "source": [
        "test3_input=data[726:738]\n",
        "test3_input_scaled=scaler.fit_transform(test3_input)"
      ],
      "metadata": {
        "id": "yH-B9lbtyYTn"
      },
      "execution_count": null,
      "outputs": []
    },
    {
      "cell_type": "code",
      "source": [
        "test_pred2=data[738:750]"
      ],
      "metadata": {
        "id": "lMoJEx8lynzu"
      },
      "execution_count": null,
      "outputs": []
    },
    {
      "cell_type": "code",
      "source": [
        "test_predictions2=[]\n",
        "n_input=12\n",
        "n_features=4\n",
        "first_batch2=test3_input_scaled\n",
        "curr_batch2=first_batch2.reshape((1,n_input,n_features))\n",
        "for i in range(0,len(test_pred2)):#len(test_pred)\n",
        "  curr_pred2=model.predict(curr_batch2)[0]\n",
        "  test_predictions2.append(curr_pred2)\n",
        "  slc=pred(i,curr_pred2,curr_batch2)\n",
        "  curr_batch2=np.append(curr_batch2[:,1:,:],[[slc]],axis=1)"
      ],
      "metadata": {
        "id": "eLuj_pa1zsDP"
      },
      "execution_count": null,
      "outputs": []
    },
    {
      "cell_type": "code",
      "source": [
        "curr_batch2"
      ],
      "metadata": {
        "colab": {
          "base_uri": "https://localhost:8080/"
        },
        "id": "hpaHHXVt0xZ2",
        "outputId": "8974bf1b-747c-4957-82e3-972addd03eea"
      },
      "execution_count": null,
      "outputs": [
        {
          "output_type": "execute_result",
          "data": {
            "text/plain": [
              "array([[[0.39968127, 0.03296703, 0.        , 0.27047913],\n",
              "        [0.21475978, 0.16483516, 0.13513514, 0.        ],\n",
              "        [0.20442568, 0.50549451, 0.2652027 , 0.        ],\n",
              "        [0.33670872, 1.        , 0.78378378, 0.        ],\n",
              "        [0.67558283, 0.23076923, 0.55574324, 0.81530139],\n",
              "        [0.38324273, 0.0989011 , 0.73817568, 0.81530139],\n",
              "        [0.36561328, 0.03296703, 0.        , 0.27047913],\n",
              "        [0.16533318, 0.50549451, 0.2652027 , 0.        ],\n",
              "        [0.29600415, 0.23076923, 0.55574324, 0.81530139],\n",
              "        [0.35588714, 0.03296703, 0.        , 0.27047913],\n",
              "        [0.1954751 , 0.23076923, 0.55574324, 0.81530139],\n",
              "        [0.34288108, 0.23076923, 0.55574324, 0.81530139]]])"
            ]
          },
          "metadata": {},
          "execution_count": 109
        }
      ]
    },
    {
      "cell_type": "code",
      "source": [
        "test_predictions2=np.array(test_predictions2)\n",
        "type(test_predictions2)"
      ],
      "metadata": {
        "colab": {
          "base_uri": "https://localhost:8080/"
        },
        "id": "TBJpsuU-1uZX",
        "outputId": "30781bb7-eacf-4541-df66-edff3c8e9242"
      },
      "execution_count": null,
      "outputs": [
        {
          "output_type": "execute_result",
          "data": {
            "text/plain": [
              "numpy.ndarray"
            ]
          },
          "metadata": {},
          "execution_count": 110
        }
      ]
    },
    {
      "cell_type": "code",
      "source": [
        "curr_batch2=curr_batch2.reshape(n_input,n_features)\n",
        "curr_batch2.shape"
      ],
      "metadata": {
        "colab": {
          "base_uri": "https://localhost:8080/"
        },
        "id": "7bs6b9k-11zW",
        "outputId": "066db222-11db-4b5d-b9d6-f814dd977623"
      },
      "execution_count": null,
      "outputs": [
        {
          "output_type": "execute_result",
          "data": {
            "text/plain": [
              "(12, 4)"
            ]
          },
          "metadata": {},
          "execution_count": 111
        }
      ]
    },
    {
      "cell_type": "code",
      "source": [
        "true_predictions2=scaler.inverse_transform(curr_batch2)\n",
        "true_predictions2"
      ],
      "metadata": {
        "colab": {
          "base_uri": "https://localhost:8080/"
        },
        "id": "ReJFkLSh17nz",
        "outputId": "00cf0a5c-d431-4e3c-83ca-e345313e29b5"
      },
      "execution_count": null,
      "outputs": [
        {
          "output_type": "execute_result",
          "data": {
            "text/plain": [
              "array([[210.58756953, 247.        , 201.6       ,  80.19      ],\n",
              "       [203.3756315 , 259.        , 209.6       ,  76.69      ],\n",
              "       [202.97260143, 290.        , 217.3       ,  76.69      ],\n",
              "       [208.13164026, 335.        , 248.        ,  76.69      ],\n",
              "       [221.34773022, 265.        , 234.5       ,  87.24      ],\n",
              "       [209.94646633, 253.        , 245.3       ,  87.24      ],\n",
              "       [209.25891799, 247.        , 201.6       ,  80.19      ],\n",
              "       [201.44799408, 290.        , 217.3       ,  76.69      ],\n",
              "       [206.54416171, 265.        , 234.5       ,  87.24      ],\n",
              "       [208.87959865, 247.        , 201.6       ,  80.19      ],\n",
              "       [202.62352896, 265.        , 234.5       ,  87.24      ],\n",
              "       [208.37236226, 265.        , 234.5       ,  87.24      ]])"
            ]
          },
          "metadata": {},
          "execution_count": 112
        }
      ]
    },
    {
      "cell_type": "code",
      "source": [
        "df_predictions2=test_pred2\n",
        "df_predictions2\n",
        "df_predictions2['IndiaPrice_pred']=true_predictions2[:,0]"
      ],
      "metadata": {
        "colab": {
          "base_uri": "https://localhost:8080/"
        },
        "id": "So_Vcjyj2BN-",
        "outputId": "b7017759-e421-4993-8309-9f1b6b28093a"
      },
      "execution_count": null,
      "outputs": [
        {
          "output_type": "stream",
          "name": "stderr",
          "text": [
            "/usr/local/lib/python3.7/dist-packages/ipykernel_launcher.py:3: SettingWithCopyWarning: \n",
            "A value is trying to be set on a copy of a slice from a DataFrame.\n",
            "Try using .loc[row_indexer,col_indexer] = value instead\n",
            "\n",
            "See the caveats in the documentation: https://pandas.pydata.org/pandas-docs/stable/user_guide/indexing.html#returning-a-view-versus-a-copy\n",
            "  This is separate from the ipykernel package so we can avoid doing imports until\n"
          ]
        }
      ]
    },
    {
      "cell_type": "code",
      "source": [
        "df_predictions2"
      ],
      "metadata": {
        "colab": {
          "base_uri": "https://localhost:8080/",
          "height": 457
        },
        "id": "LE_bWsXB2KOf",
        "outputId": "57493d5d-0c2d-4ba0-c290-5baa95d04004"
      },
      "execution_count": null,
      "outputs": [
        {
          "output_type": "execute_result",
          "data": {
            "text/html": [
              "\n",
              "  <div id=\"df-67ff91e3-6d34-4939-997e-a47b60efb1bb\">\n",
              "    <div class=\"colab-df-container\">\n",
              "      <div>\n",
              "<style scoped>\n",
              "    .dataframe tbody tr th:only-of-type {\n",
              "        vertical-align: middle;\n",
              "    }\n",
              "\n",
              "    .dataframe tbody tr th {\n",
              "        vertical-align: top;\n",
              "    }\n",
              "\n",
              "    .dataframe thead th {\n",
              "        text-align: right;\n",
              "    }\n",
              "</style>\n",
              "<table border=\"1\" class=\"dataframe\">\n",
              "  <thead>\n",
              "    <tr style=\"text-align: right;\">\n",
              "      <th></th>\n",
              "      <th>India Price</th>\n",
              "      <th>Asia Price</th>\n",
              "      <th>Rotterdam Price</th>\n",
              "      <th>US Domestic Price</th>\n",
              "      <th>IndiaPrice_pred</th>\n",
              "    </tr>\n",
              "    <tr>\n",
              "      <th>Date</th>\n",
              "      <th></th>\n",
              "      <th></th>\n",
              "      <th></th>\n",
              "      <th></th>\n",
              "      <th></th>\n",
              "    </tr>\n",
              "  </thead>\n",
              "  <tbody>\n",
              "    <tr>\n",
              "      <th>2020-03-06</th>\n",
              "      <td>200.0</td>\n",
              "      <td>261.0</td>\n",
              "      <td>246.60</td>\n",
              "      <td>89.63</td>\n",
              "      <td>210.587570</td>\n",
              "    </tr>\n",
              "    <tr>\n",
              "      <th>2020-03-13</th>\n",
              "      <td>189.0</td>\n",
              "      <td>241.0</td>\n",
              "      <td>211.20</td>\n",
              "      <td>89.63</td>\n",
              "      <td>203.375631</td>\n",
              "    </tr>\n",
              "    <tr>\n",
              "      <th>2020-03-20</th>\n",
              "      <td>182.0</td>\n",
              "      <td>229.0</td>\n",
              "      <td>180.20</td>\n",
              "      <td>89.63</td>\n",
              "      <td>202.972601</td>\n",
              "    </tr>\n",
              "    <tr>\n",
              "      <th>2020-03-27</th>\n",
              "      <td>172.0</td>\n",
              "      <td>214.0</td>\n",
              "      <td>165.30</td>\n",
              "      <td>79.88</td>\n",
              "      <td>208.131640</td>\n",
              "    </tr>\n",
              "    <tr>\n",
              "      <th>2020-04-03</th>\n",
              "      <td>156.0</td>\n",
              "      <td>182.0</td>\n",
              "      <td>152.20</td>\n",
              "      <td>79.88</td>\n",
              "      <td>221.347730</td>\n",
              "    </tr>\n",
              "    <tr>\n",
              "      <th>2020-04-10</th>\n",
              "      <td>152.0</td>\n",
              "      <td>183.0</td>\n",
              "      <td>149.50</td>\n",
              "      <td>79.88</td>\n",
              "      <td>209.946466</td>\n",
              "    </tr>\n",
              "    <tr>\n",
              "      <th>2020-04-17</th>\n",
              "      <td>152.0</td>\n",
              "      <td>179.0</td>\n",
              "      <td>152.00</td>\n",
              "      <td>79.88</td>\n",
              "      <td>209.258918</td>\n",
              "    </tr>\n",
              "    <tr>\n",
              "      <th>2020-04-24</th>\n",
              "      <td>147.0</td>\n",
              "      <td>178.0</td>\n",
              "      <td>154.00</td>\n",
              "      <td>79.88</td>\n",
              "      <td>201.447994</td>\n",
              "    </tr>\n",
              "    <tr>\n",
              "      <th>2020-05-01</th>\n",
              "      <td>148.0</td>\n",
              "      <td>178.0</td>\n",
              "      <td>147.20</td>\n",
              "      <td>70.13</td>\n",
              "      <td>206.544162</td>\n",
              "    </tr>\n",
              "    <tr>\n",
              "      <th>2020-05-08</th>\n",
              "      <td>144.0</td>\n",
              "      <td>178.0</td>\n",
              "      <td>144.25</td>\n",
              "      <td>70.13</td>\n",
              "      <td>208.879599</td>\n",
              "    </tr>\n",
              "    <tr>\n",
              "      <th>2020-05-15</th>\n",
              "      <td>143.0</td>\n",
              "      <td>179.0</td>\n",
              "      <td>140.20</td>\n",
              "      <td>70.13</td>\n",
              "      <td>202.623529</td>\n",
              "    </tr>\n",
              "    <tr>\n",
              "      <th>2020-05-22</th>\n",
              "      <td>138.0</td>\n",
              "      <td>174.0</td>\n",
              "      <td>145.80</td>\n",
              "      <td>70.13</td>\n",
              "      <td>208.372362</td>\n",
              "    </tr>\n",
              "  </tbody>\n",
              "</table>\n",
              "</div>\n",
              "      <button class=\"colab-df-convert\" onclick=\"convertToInteractive('df-67ff91e3-6d34-4939-997e-a47b60efb1bb')\"\n",
              "              title=\"Convert this dataframe to an interactive table.\"\n",
              "              style=\"display:none;\">\n",
              "        \n",
              "  <svg xmlns=\"http://www.w3.org/2000/svg\" height=\"24px\"viewBox=\"0 0 24 24\"\n",
              "       width=\"24px\">\n",
              "    <path d=\"M0 0h24v24H0V0z\" fill=\"none\"/>\n",
              "    <path d=\"M18.56 5.44l.94 2.06.94-2.06 2.06-.94-2.06-.94-.94-2.06-.94 2.06-2.06.94zm-11 1L8.5 8.5l.94-2.06 2.06-.94-2.06-.94L8.5 2.5l-.94 2.06-2.06.94zm10 10l.94 2.06.94-2.06 2.06-.94-2.06-.94-.94-2.06-.94 2.06-2.06.94z\"/><path d=\"M17.41 7.96l-1.37-1.37c-.4-.4-.92-.59-1.43-.59-.52 0-1.04.2-1.43.59L10.3 9.45l-7.72 7.72c-.78.78-.78 2.05 0 2.83L4 21.41c.39.39.9.59 1.41.59.51 0 1.02-.2 1.41-.59l7.78-7.78 2.81-2.81c.8-.78.8-2.07 0-2.86zM5.41 20L4 18.59l7.72-7.72 1.47 1.35L5.41 20z\"/>\n",
              "  </svg>\n",
              "      </button>\n",
              "      \n",
              "  <style>\n",
              "    .colab-df-container {\n",
              "      display:flex;\n",
              "      flex-wrap:wrap;\n",
              "      gap: 12px;\n",
              "    }\n",
              "\n",
              "    .colab-df-convert {\n",
              "      background-color: #E8F0FE;\n",
              "      border: none;\n",
              "      border-radius: 50%;\n",
              "      cursor: pointer;\n",
              "      display: none;\n",
              "      fill: #1967D2;\n",
              "      height: 32px;\n",
              "      padding: 0 0 0 0;\n",
              "      width: 32px;\n",
              "    }\n",
              "\n",
              "    .colab-df-convert:hover {\n",
              "      background-color: #E2EBFA;\n",
              "      box-shadow: 0px 1px 2px rgba(60, 64, 67, 0.3), 0px 1px 3px 1px rgba(60, 64, 67, 0.15);\n",
              "      fill: #174EA6;\n",
              "    }\n",
              "\n",
              "    [theme=dark] .colab-df-convert {\n",
              "      background-color: #3B4455;\n",
              "      fill: #D2E3FC;\n",
              "    }\n",
              "\n",
              "    [theme=dark] .colab-df-convert:hover {\n",
              "      background-color: #434B5C;\n",
              "      box-shadow: 0px 1px 3px 1px rgba(0, 0, 0, 0.15);\n",
              "      filter: drop-shadow(0px 1px 2px rgba(0, 0, 0, 0.3));\n",
              "      fill: #FFFFFF;\n",
              "    }\n",
              "  </style>\n",
              "\n",
              "      <script>\n",
              "        const buttonEl =\n",
              "          document.querySelector('#df-67ff91e3-6d34-4939-997e-a47b60efb1bb button.colab-df-convert');\n",
              "        buttonEl.style.display =\n",
              "          google.colab.kernel.accessAllowed ? 'block' : 'none';\n",
              "\n",
              "        async function convertToInteractive(key) {\n",
              "          const element = document.querySelector('#df-67ff91e3-6d34-4939-997e-a47b60efb1bb');\n",
              "          const dataTable =\n",
              "            await google.colab.kernel.invokeFunction('convertToInteractive',\n",
              "                                                     [key], {});\n",
              "          if (!dataTable) return;\n",
              "\n",
              "          const docLinkHtml = 'Like what you see? Visit the ' +\n",
              "            '<a target=\"_blank\" href=https://colab.research.google.com/notebooks/data_table.ipynb>data table notebook</a>'\n",
              "            + ' to learn more about interactive tables.';\n",
              "          element.innerHTML = '';\n",
              "          dataTable['output_type'] = 'display_data';\n",
              "          await google.colab.output.renderOutput(dataTable, element);\n",
              "          const docLink = document.createElement('div');\n",
              "          docLink.innerHTML = docLinkHtml;\n",
              "          element.appendChild(docLink);\n",
              "        }\n",
              "      </script>\n",
              "    </div>\n",
              "  </div>\n",
              "  "
            ],
            "text/plain": [
              "            India Price  Asia Price  ...  US Domestic Price  IndiaPrice_pred\n",
              "Date                                 ...                                    \n",
              "2020-03-06        200.0       261.0  ...              89.63       210.587570\n",
              "2020-03-13        189.0       241.0  ...              89.63       203.375631\n",
              "2020-03-20        182.0       229.0  ...              89.63       202.972601\n",
              "2020-03-27        172.0       214.0  ...              79.88       208.131640\n",
              "2020-04-03        156.0       182.0  ...              79.88       221.347730\n",
              "2020-04-10        152.0       183.0  ...              79.88       209.946466\n",
              "2020-04-17        152.0       179.0  ...              79.88       209.258918\n",
              "2020-04-24        147.0       178.0  ...              79.88       201.447994\n",
              "2020-05-01        148.0       178.0  ...              70.13       206.544162\n",
              "2020-05-08        144.0       178.0  ...              70.13       208.879599\n",
              "2020-05-15        143.0       179.0  ...              70.13       202.623529\n",
              "2020-05-22        138.0       174.0  ...              70.13       208.372362\n",
              "\n",
              "[12 rows x 5 columns]"
            ]
          },
          "metadata": {},
          "execution_count": 114
        }
      ]
    },
    {
      "cell_type": "code",
      "source": [
        "df_predictions2['India Price'].plot(figsize=(10,6))\n",
        "df_predictions2['IndiaPrice_pred'].plot()"
      ],
      "metadata": {
        "colab": {
          "base_uri": "https://localhost:8080/",
          "height": 440
        },
        "id": "MAS2S4-J2M5R",
        "outputId": "3fe524f5-5185-4f95-caf0-43bf7d1482c7"
      },
      "execution_count": null,
      "outputs": [
        {
          "output_type": "execute_result",
          "data": {
            "text/plain": [
              "<matplotlib.axes._subplots.AxesSubplot at 0x7f99f8998a50>"
            ]
          },
          "metadata": {},
          "execution_count": 115
        },
        {
          "output_type": "display_data",
          "data": {
            "image/png": "[encoded data removed]",
            "text/plain": [
              "<Figure size 720x432 with 1 Axes>"
            ]
          },
          "metadata": {
            "needs_background": "light"
          }
        }
      ]
    },
    {
      "cell_type": "code",
      "source": [
        "error2=sqrt(mean_squared_error(df_predictions2['India Price'],df_predictions2['IndiaPrice_pred']))\n",
        "print(error2)"
      ],
      "metadata": {
        "colab": {
          "base_uri": "https://localhost:8080/"
        },
        "id": "_69lCNK92aKQ",
        "outputId": "84bc32fb-f237-4e00-f8dd-1de17cc177d6"
      },
      "execution_count": null,
      "outputs": [
        {
          "output_type": "stream",
          "name": "stdout",
          "text": [
            "51.70380640936571\n"
          ]
        }
      ]
    },
    {
      "cell_type": "code",
      "source": [
        "test4_input=data[772:784]\n",
        "test4_input_scaled=scaler.fit_transform(test4_input)\n",
        "test_pred3=data[784:796]"
      ],
      "metadata": {
        "id": "WKdSN_ul3Btn"
      },
      "execution_count": null,
      "outputs": []
    },
    {
      "cell_type": "code",
      "source": [
        "test_predictions3=[]\n",
        "n_input=12\n",
        "n_features=4\n",
        "first_batch3=test4_input_scaled\n",
        "curr_batch3=first_batch3.reshape((1,n_input,n_features))\n",
        "for i in range(0,len(test_pred3)):#len(test_pred)\n",
        "  curr_pred3=model.predict(curr_batch3)[0]\n",
        "  test_predictions3.append(curr_pred3)\n",
        "  slc=pred(i,curr_pred3,curr_batch3)\n",
        "  curr_batch3=np.append(curr_batch3[:,1:,:],[[slc]],axis=1)"
      ],
      "metadata": {
        "id": "8MxRZuha4X73"
      },
      "execution_count": null,
      "outputs": []
    },
    {
      "cell_type": "code",
      "source": [
        "curr_batch3"
      ],
      "metadata": {
        "colab": {
          "base_uri": "https://localhost:8080/"
        },
        "id": "Et-M2zBO4qaD",
        "outputId": "0235bb68-2ac0-488e-fabd-b7bbcfe23a2f"
      },
      "execution_count": null,
      "outputs": [
        {
          "output_type": "execute_result",
          "data": {
            "text/plain": [
              "array([[[0.79212505, 0.        , 0.        , 0.        ],\n",
              "        [0.28004116, 0.16      , 0.14134615, 0.21575758],\n",
              "        [0.13237339, 0.2       , 0.47211538, 0.21575758],\n",
              "        [0.20165674, 0.44      , 0.86057692, 0.43181818],\n",
              "        [0.45861679, 0.96      , 1.        , 1.        ],\n",
              "        [0.6711089 , 1.        , 0.73173077, 1.        ],\n",
              "        [0.64233422, 0.        , 0.        , 0.        ],\n",
              "        [0.24151784, 0.2       , 0.47211538, 0.21575758],\n",
              "        [0.26597887, 0.96      , 1.        , 1.        ],\n",
              "        [0.66763467, 0.        , 0.        , 0.        ],\n",
              "        [0.24587476, 0.96      , 1.        , 1.        ],\n",
              "        [0.65203714, 0.96      , 1.        , 1.        ]]])"
            ]
          },
          "metadata": {},
          "execution_count": 123
        }
      ]
    },
    {
      "cell_type": "code",
      "source": [
        "test_predictions3=np.array(test_predictions3)\n",
        "type(test_predictions3)"
      ],
      "metadata": {
        "colab": {
          "base_uri": "https://localhost:8080/"
        },
        "id": "6knxPt0g4uXe",
        "outputId": "203b1205-9159-477e-8519-60a0529d4630"
      },
      "execution_count": null,
      "outputs": [
        {
          "output_type": "execute_result",
          "data": {
            "text/plain": [
              "numpy.ndarray"
            ]
          },
          "metadata": {},
          "execution_count": 124
        }
      ]
    },
    {
      "cell_type": "code",
      "source": [
        "curr_batch3=curr_batch3.reshape(n_input,n_features)\n",
        "curr_batch3.shape"
      ],
      "metadata": {
        "colab": {
          "base_uri": "https://localhost:8080/"
        },
        "id": "oDu29w3w4zGq",
        "outputId": "272b39b9-bbdc-4fdb-8da2-caa640e42592"
      },
      "execution_count": null,
      "outputs": [
        {
          "output_type": "execute_result",
          "data": {
            "text/plain": [
              "(12, 4)"
            ]
          },
          "metadata": {},
          "execution_count": 125
        }
      ]
    },
    {
      "cell_type": "code",
      "source": [
        "true_predictions3=scaler.inverse_transform(curr_batch3)\n",
        "true_predictions3"
      ],
      "metadata": {
        "colab": {
          "base_uri": "https://localhost:8080/"
        },
        "id": "nA93m7kB44hB",
        "outputId": "2045229b-40e6-43ee-9267-32f93faad674"
      },
      "execution_count": null,
      "outputs": [
        {
          "output_type": "execute_result",
          "data": {
            "text/plain": [
              "array([[275.08337921, 260.        , 239.1       ,  76.88      ],\n",
              "       [228.4837454 , 280.        , 253.8       ,  84.        ],\n",
              "       [215.04597872, 285.        , 288.2       ,  84.        ],\n",
              "       [221.35076369, 315.        , 328.6       ,  91.13      ],\n",
              "       [244.73412818, 380.        , 343.1       , 109.88      ],\n",
              "       [264.07091004, 385.        , 315.2       , 109.88      ],\n",
              "       [261.45241427, 260.        , 239.1       ,  76.88      ],\n",
              "       [224.97812361, 285.        , 288.2       ,  84.        ],\n",
              "       [227.20407742, 380.        , 343.1       , 109.88      ],\n",
              "       [263.7547546 , 260.        , 239.1       ,  76.88      ],\n",
              "       [225.37460339, 380.        , 343.1       , 109.88      ],\n",
              "       [262.33538008, 380.        , 343.1       , 109.88      ]])"
            ]
          },
          "metadata": {},
          "execution_count": 126
        }
      ]
    },
    {
      "cell_type": "code",
      "source": [
        "df_predictions3=test_pred3\n",
        "df_predictions3\n",
        "df_predictions3['IndiaPrice_pred']=true_predictions3[:,0]"
      ],
      "metadata": {
        "colab": {
          "base_uri": "https://localhost:8080/"
        },
        "id": "dvUDHwAG495S",
        "outputId": "38944cc6-f249-4499-a50a-517ac15f461e"
      },
      "execution_count": null,
      "outputs": [
        {
          "output_type": "stream",
          "name": "stderr",
          "text": [
            "/usr/local/lib/python3.7/dist-packages/ipykernel_launcher.py:3: SettingWithCopyWarning: \n",
            "A value is trying to be set on a copy of a slice from a DataFrame.\n",
            "Try using .loc[row_indexer,col_indexer] = value instead\n",
            "\n",
            "See the caveats in the documentation: https://pandas.pydata.org/pandas-docs/stable/user_guide/indexing.html#returning-a-view-versus-a-copy\n",
            "  This is separate from the ipykernel package so we can avoid doing imports until\n"
          ]
        }
      ]
    },
    {
      "cell_type": "code",
      "source": [
        "df_predictions3"
      ],
      "metadata": {
        "colab": {
          "base_uri": "https://localhost:8080/",
          "height": 457
        },
        "id": "24YogxX55GUN",
        "outputId": "0979b1cf-d99c-44fd-8c7a-86d56050c02a"
      },
      "execution_count": null,
      "outputs": [
        {
          "output_type": "execute_result",
          "data": {
            "text/html": [
              "\n",
              "  <div id=\"df-64d98051-f774-44b0-9a98-f126075fc835\">\n",
              "    <div class=\"colab-df-container\">\n",
              "      <div>\n",
              "<style scoped>\n",
              "    .dataframe tbody tr th:only-of-type {\n",
              "        vertical-align: middle;\n",
              "    }\n",
              "\n",
              "    .dataframe tbody tr th {\n",
              "        vertical-align: top;\n",
              "    }\n",
              "\n",
              "    .dataframe thead th {\n",
              "        text-align: right;\n",
              "    }\n",
              "</style>\n",
              "<table border=\"1\" class=\"dataframe\">\n",
              "  <thead>\n",
              "    <tr style=\"text-align: right;\">\n",
              "      <th></th>\n",
              "      <th>India Price</th>\n",
              "      <th>Asia Price</th>\n",
              "      <th>Rotterdam Price</th>\n",
              "      <th>US Domestic Price</th>\n",
              "      <th>IndiaPrice_pred</th>\n",
              "    </tr>\n",
              "    <tr>\n",
              "      <th>Date</th>\n",
              "      <th></th>\n",
              "      <th></th>\n",
              "      <th></th>\n",
              "      <th></th>\n",
              "      <th></th>\n",
              "    </tr>\n",
              "  </thead>\n",
              "  <tbody>\n",
              "    <tr>\n",
              "      <th>2021-02-05</th>\n",
              "      <td>282.0</td>\n",
              "      <td>385.0</td>\n",
              "      <td>346.50</td>\n",
              "      <td>111.00</td>\n",
              "      <td>275.083379</td>\n",
              "    </tr>\n",
              "    <tr>\n",
              "      <th>2021-02-12</th>\n",
              "      <td>282.0</td>\n",
              "      <td>385.0</td>\n",
              "      <td>335.90</td>\n",
              "      <td>111.00</td>\n",
              "      <td>228.483745</td>\n",
              "    </tr>\n",
              "    <tr>\n",
              "      <th>2021-02-19</th>\n",
              "      <td>282.0</td>\n",
              "      <td>374.0</td>\n",
              "      <td>330.50</td>\n",
              "      <td>111.00</td>\n",
              "      <td>215.045979</td>\n",
              "    </tr>\n",
              "    <tr>\n",
              "      <th>2021-02-26</th>\n",
              "      <td>284.0</td>\n",
              "      <td>382.0</td>\n",
              "      <td>340.00</td>\n",
              "      <td>111.00</td>\n",
              "      <td>221.350764</td>\n",
              "    </tr>\n",
              "    <tr>\n",
              "      <th>2021-03-05</th>\n",
              "      <td>289.0</td>\n",
              "      <td>387.0</td>\n",
              "      <td>331.90</td>\n",
              "      <td>112.88</td>\n",
              "      <td>244.734128</td>\n",
              "    </tr>\n",
              "    <tr>\n",
              "      <th>2021-03-12</th>\n",
              "      <td>283.0</td>\n",
              "      <td>370.0</td>\n",
              "      <td>326.40</td>\n",
              "      <td>112.88</td>\n",
              "      <td>264.070910</td>\n",
              "    </tr>\n",
              "    <tr>\n",
              "      <th>2021-03-19</th>\n",
              "      <td>281.0</td>\n",
              "      <td>370.0</td>\n",
              "      <td>319.60</td>\n",
              "      <td>112.88</td>\n",
              "      <td>261.452414</td>\n",
              "    </tr>\n",
              "    <tr>\n",
              "      <th>2021-03-26</th>\n",
              "      <td>274.0</td>\n",
              "      <td>370.0</td>\n",
              "      <td>316.40</td>\n",
              "      <td>112.88</td>\n",
              "      <td>224.978124</td>\n",
              "    </tr>\n",
              "    <tr>\n",
              "      <th>2021-04-02</th>\n",
              "      <td>274.0</td>\n",
              "      <td>365.0</td>\n",
              "      <td>316.75</td>\n",
              "      <td>117.75</td>\n",
              "      <td>227.204077</td>\n",
              "    </tr>\n",
              "    <tr>\n",
              "      <th>2021-04-09</th>\n",
              "      <td>276.0</td>\n",
              "      <td>364.0</td>\n",
              "      <td>324.00</td>\n",
              "      <td>117.75</td>\n",
              "      <td>263.754755</td>\n",
              "    </tr>\n",
              "    <tr>\n",
              "      <th>2021-04-16</th>\n",
              "      <td>275.0</td>\n",
              "      <td>375.0</td>\n",
              "      <td>320.50</td>\n",
              "      <td>117.75</td>\n",
              "      <td>225.374603</td>\n",
              "    </tr>\n",
              "    <tr>\n",
              "      <th>2021-04-23</th>\n",
              "      <td>275.0</td>\n",
              "      <td>371.0</td>\n",
              "      <td>321.30</td>\n",
              "      <td>117.75</td>\n",
              "      <td>262.335380</td>\n",
              "    </tr>\n",
              "  </tbody>\n",
              "</table>\n",
              "</div>\n",
              "      <button class=\"colab-df-convert\" onclick=\"convertToInteractive('df-64d98051-f774-44b0-9a98-f126075fc835')\"\n",
              "              title=\"Convert this dataframe to an interactive table.\"\n",
              "              style=\"display:none;\">\n",
              "        \n",
              "  <svg xmlns=\"http://www.w3.org/2000/svg\" height=\"24px\"viewBox=\"0 0 24 24\"\n",
              "       width=\"24px\">\n",
              "    <path d=\"M0 0h24v24H0V0z\" fill=\"none\"/>\n",
              "    <path d=\"M18.56 5.44l.94 2.06.94-2.06 2.06-.94-2.06-.94-.94-2.06-.94 2.06-2.06.94zm-11 1L8.5 8.5l.94-2.06 2.06-.94-2.06-.94L8.5 2.5l-.94 2.06-2.06.94zm10 10l.94 2.06.94-2.06 2.06-.94-2.06-.94-.94-2.06-.94 2.06-2.06.94z\"/><path d=\"M17.41 7.96l-1.37-1.37c-.4-.4-.92-.59-1.43-.59-.52 0-1.04.2-1.43.59L10.3 9.45l-7.72 7.72c-.78.78-.78 2.05 0 2.83L4 21.41c.39.39.9.59 1.41.59.51 0 1.02-.2 1.41-.59l7.78-7.78 2.81-2.81c.8-.78.8-2.07 0-2.86zM5.41 20L4 18.59l7.72-7.72 1.47 1.35L5.41 20z\"/>\n",
              "  </svg>\n",
              "      </button>\n",
              "      \n",
              "  <style>\n",
              "    .colab-df-container {\n",
              "      display:flex;\n",
              "      flex-wrap:wrap;\n",
              "      gap: 12px;\n",
              "    }\n",
              "\n",
              "    .colab-df-convert {\n",
              "      background-color: #E8F0FE;\n",
              "      border: none;\n",
              "      border-radius: 50%;\n",
              "      cursor: pointer;\n",
              "      display: none;\n",
              "      fill: #1967D2;\n",
              "      height: 32px;\n",
              "      padding: 0 0 0 0;\n",
              "      width: 32px;\n",
              "    }\n",
              "\n",
              "    .colab-df-convert:hover {\n",
              "      background-color: #E2EBFA;\n",
              "      box-shadow: 0px 1px 2px rgba(60, 64, 67, 0.3), 0px 1px 3px 1px rgba(60, 64, 67, 0.15);\n",
              "      fill: #174EA6;\n",
              "    }\n",
              "\n",
              "    [theme=dark] .colab-df-convert {\n",
              "      background-color: #3B4455;\n",
              "      fill: #D2E3FC;\n",
              "    }\n",
              "\n",
              "    [theme=dark] .colab-df-convert:hover {\n",
              "      background-color: #434B5C;\n",
              "      box-shadow: 0px 1px 3px 1px rgba(0, 0, 0, 0.15);\n",
              "      filter: drop-shadow(0px 1px 2px rgba(0, 0, 0, 0.3));\n",
              "      fill: #FFFFFF;\n",
              "    }\n",
              "  </style>\n",
              "\n",
              "      <script>\n",
              "        const buttonEl =\n",
              "          document.querySelector('#df-64d98051-f774-44b0-9a98-f126075fc835 button.colab-df-convert');\n",
              "        buttonEl.style.display =\n",
              "          google.colab.kernel.accessAllowed ? 'block' : 'none';\n",
              "\n",
              "        async function convertToInteractive(key) {\n",
              "          const element = document.querySelector('#df-64d98051-f774-44b0-9a98-f126075fc835');\n",
              "          const dataTable =\n",
              "            await google.colab.kernel.invokeFunction('convertToInteractive',\n",
              "                                                     [key], {});\n",
              "          if (!dataTable) return;\n",
              "\n",
              "          const docLinkHtml = 'Like what you see? Visit the ' +\n",
              "            '<a target=\"_blank\" href=https://colab.research.google.com/notebooks/data_table.ipynb>data table notebook</a>'\n",
              "            + ' to learn more about interactive tables.';\n",
              "          element.innerHTML = '';\n",
              "          dataTable['output_type'] = 'display_data';\n",
              "          await google.colab.output.renderOutput(dataTable, element);\n",
              "          const docLink = document.createElement('div');\n",
              "          docLink.innerHTML = docLinkHtml;\n",
              "          element.appendChild(docLink);\n",
              "        }\n",
              "      </script>\n",
              "    </div>\n",
              "  </div>\n",
              "  "
            ],
            "text/plain": [
              "            India Price  Asia Price  ...  US Domestic Price  IndiaPrice_pred\n",
              "Date                                 ...                                    \n",
              "2021-02-05        282.0       385.0  ...             111.00       275.083379\n",
              "2021-02-12        282.0       385.0  ...             111.00       228.483745\n",
              "2021-02-19        282.0       374.0  ...             111.00       215.045979\n",
              "2021-02-26        284.0       382.0  ...             111.00       221.350764\n",
              "2021-03-05        289.0       387.0  ...             112.88       244.734128\n",
              "2021-03-12        283.0       370.0  ...             112.88       264.070910\n",
              "2021-03-19        281.0       370.0  ...             112.88       261.452414\n",
              "2021-03-26        274.0       370.0  ...             112.88       224.978124\n",
              "2021-04-02        274.0       365.0  ...             117.75       227.204077\n",
              "2021-04-09        276.0       364.0  ...             117.75       263.754755\n",
              "2021-04-16        275.0       375.0  ...             117.75       225.374603\n",
              "2021-04-23        275.0       371.0  ...             117.75       262.335380\n",
              "\n",
              "[12 rows x 5 columns]"
            ]
          },
          "metadata": {},
          "execution_count": 128
        }
      ]
    },
    {
      "cell_type": "code",
      "source": [
        "df_predictions3['India Price'].plot(figsize=(10,6))\n",
        "df_predictions3['IndiaPrice_pred'].plot()"
      ],
      "metadata": {
        "colab": {
          "base_uri": "https://localhost:8080/",
          "height": 440
        },
        "id": "GklgP2If5Ypf",
        "outputId": "fd68fa41-ed0e-4fc0-d0eb-5d71da9a1380"
      },
      "execution_count": null,
      "outputs": [
        {
          "output_type": "execute_result",
          "data": {
            "text/plain": [
              "<matplotlib.axes._subplots.AxesSubplot at 0x7f99f86bc8d0>"
            ]
          },
          "metadata": {},
          "execution_count": 129
        },
        {
          "output_type": "display_data",
          "data": {
            "image/png": "[encoded data removed]",
            "text/plain": [
              "<Figure size 720x432 with 1 Axes>"
            ]
          },
          "metadata": {
            "needs_background": "light"
          }
        }
      ]
    },
    {
      "cell_type": "code",
      "source": [
        "error3=sqrt(mean_squared_error(df_predictions3['India Price'],df_predictions3['IndiaPrice_pred']))\n",
        "print(error3)"
      ],
      "metadata": {
        "colab": {
          "base_uri": "https://localhost:8080/"
        },
        "id": "kirmUZGM51KY",
        "outputId": "0ea73b51-c8c7-4e53-c518-38f7835860fb"
      },
      "execution_count": null,
      "outputs": [
        {
          "output_type": "stream",
          "name": "stdout",
          "text": [
            "42.21522656168373\n"
          ]
        }
      ]
    },
    {
      "cell_type": "markdown",
      "source": [
        "SO IN ABOVE IMPLEMENTATION WE HAVE SEEN HOW WE CAN DO ROLLING PREDCITIONS FOR WINDOW SIZES OF TEST SERIES TOO."
      ],
      "metadata": {
        "id": "_SitWegkQx8c"
      }
    }
  ]
}