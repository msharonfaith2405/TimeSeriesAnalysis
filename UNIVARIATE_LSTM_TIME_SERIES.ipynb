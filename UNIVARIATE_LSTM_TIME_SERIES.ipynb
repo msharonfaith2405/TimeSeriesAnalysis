{
  "nbformat": 4,
  "nbformat_minor": 0,
  "metadata": {
    "colab": {
      "name": "UNIVARIATE_LSTM_TIME SERIES.ipynb",
      "provenance": [],
      "collapsed_sections": []
    },
    "kernelspec": {
      "name": "python3",
      "display_name": "Python 3"
    },
    "language_info": {
      "name": "python"
    }
  },
  "cells": [
    {
      "cell_type": "markdown",
      "source": [
        "UNIVARIATE TIME SERIES ANALYSIS USING LSTM"
      ],
      "metadata": {
        "id": "sS60TnfH98jg"
      }
    },
    {
      "cell_type": "markdown",
      "source": [
        "IMPORTING NECESSARY LIBRARIES"
      ],
      "metadata": {
        "id": "JLiLTlMM-1t7"
      }
    },
    {
      "cell_type": "code",
      "execution_count": null,
      "metadata": {
        "id": "1hmq4GJlnCwl"
      },
      "outputs": [],
      "source": [
        "import numpy as np\n",
        "import pandas as pd\n",
        "import matplotlib.pyplot as plt"
      ]
    },
    {
      "cell_type": "markdown",
      "source": [
        "IMPORTING THE DATASET"
      ],
      "metadata": {
        "id": "acrcfefd-0kN"
      }
    },
    {
      "cell_type": "code",
      "source": [
        "dateparse= lambda dates: pd.datetime.strptime(dates,'%d-%m-%Y')\n",
        "data=pd.read_csv('MAster_methanol.csv',parse_dates=['Date'],date_parser=dateparse,usecols=['Date','India Price'])"
      ],
      "metadata": {
        "colab": {
          "base_uri": "https://localhost:8080/"
        },
        "id": "8nyc86fTnr8K",
        "outputId": "2c42c909-bc55-4e62-82e7-819a202ea72a"
      },
      "execution_count": null,
      "outputs": [
        {
          "output_type": "stream",
          "name": "stderr",
          "text": [
            "/usr/local/lib/python3.7/dist-packages/ipykernel_launcher.py:1: FutureWarning: The pandas.datetime class is deprecated and will be removed from pandas in a future version. Import from datetime module instead.\n",
            "  \"\"\"Entry point for launching an IPython kernel.\n"
          ]
        }
      ]
    },
    {
      "cell_type": "code",
      "source": [
        "#data.dtypes\n",
        "data.index=pd.to_datetime(data['Date'],format='%d-%m-%Y')"
      ],
      "metadata": {
        "id": "9LM1O_EInwVv"
      },
      "execution_count": null,
      "outputs": []
    },
    {
      "cell_type": "code",
      "source": [
        "data.head()"
      ],
      "metadata": {
        "colab": {
          "base_uri": "https://localhost:8080/",
          "height": 238
        },
        "id": "ztVTKwUqnz9Y",
        "outputId": "5614746c-acb2-47d0-d6be-cb9736dcf75c"
      },
      "execution_count": null,
      "outputs": [
        {
          "output_type": "execute_result",
          "data": {
            "text/html": [
              "\n",
              "  <div id=\"df-59609ed4-c56c-4124-b744-b7cd231850da\">\n",
              "    <div class=\"colab-df-container\">\n",
              "      <div>\n",
              "<style scoped>\n",
              "    .dataframe tbody tr th:only-of-type {\n",
              "        vertical-align: middle;\n",
              "    }\n",
              "\n",
              "    .dataframe tbody tr th {\n",
              "        vertical-align: top;\n",
              "    }\n",
              "\n",
              "    .dataframe thead th {\n",
              "        text-align: right;\n",
              "    }\n",
              "</style>\n",
              "<table border=\"1\" class=\"dataframe\">\n",
              "  <thead>\n",
              "    <tr style=\"text-align: right;\">\n",
              "      <th></th>\n",
              "      <th>Date</th>\n",
              "      <th>India Price</th>\n",
              "    </tr>\n",
              "    <tr>\n",
              "      <th>Date</th>\n",
              "      <th></th>\n",
              "      <th></th>\n",
              "    </tr>\n",
              "  </thead>\n",
              "  <tbody>\n",
              "    <tr>\n",
              "      <th>2005-10-07</th>\n",
              "      <td>2005-10-07</td>\n",
              "      <td>240.0</td>\n",
              "    </tr>\n",
              "    <tr>\n",
              "      <th>2005-10-14</th>\n",
              "      <td>2005-10-14</td>\n",
              "      <td>240.0</td>\n",
              "    </tr>\n",
              "    <tr>\n",
              "      <th>2005-10-21</th>\n",
              "      <td>2005-10-21</td>\n",
              "      <td>242.5</td>\n",
              "    </tr>\n",
              "    <tr>\n",
              "      <th>2005-10-28</th>\n",
              "      <td>2005-10-28</td>\n",
              "      <td>242.5</td>\n",
              "    </tr>\n",
              "    <tr>\n",
              "      <th>2005-11-04</th>\n",
              "      <td>2005-11-04</td>\n",
              "      <td>250.0</td>\n",
              "    </tr>\n",
              "  </tbody>\n",
              "</table>\n",
              "</div>\n",
              "      <button class=\"colab-df-convert\" onclick=\"convertToInteractive('df-59609ed4-c56c-4124-b744-b7cd231850da')\"\n",
              "              title=\"Convert this dataframe to an interactive table.\"\n",
              "              style=\"display:none;\">\n",
              "        \n",
              "  <svg xmlns=\"http://www.w3.org/2000/svg\" height=\"24px\"viewBox=\"0 0 24 24\"\n",
              "       width=\"24px\">\n",
              "    <path d=\"M0 0h24v24H0V0z\" fill=\"none\"/>\n",
              "    <path d=\"M18.56 5.44l.94 2.06.94-2.06 2.06-.94-2.06-.94-.94-2.06-.94 2.06-2.06.94zm-11 1L8.5 8.5l.94-2.06 2.06-.94-2.06-.94L8.5 2.5l-.94 2.06-2.06.94zm10 10l.94 2.06.94-2.06 2.06-.94-2.06-.94-.94-2.06-.94 2.06-2.06.94z\"/><path d=\"M17.41 7.96l-1.37-1.37c-.4-.4-.92-.59-1.43-.59-.52 0-1.04.2-1.43.59L10.3 9.45l-7.72 7.72c-.78.78-.78 2.05 0 2.83L4 21.41c.39.39.9.59 1.41.59.51 0 1.02-.2 1.41-.59l7.78-7.78 2.81-2.81c.8-.78.8-2.07 0-2.86zM5.41 20L4 18.59l7.72-7.72 1.47 1.35L5.41 20z\"/>\n",
              "  </svg>\n",
              "      </button>\n",
              "      \n",
              "  <style>\n",
              "    .colab-df-container {\n",
              "      display:flex;\n",
              "      flex-wrap:wrap;\n",
              "      gap: 12px;\n",
              "    }\n",
              "\n",
              "    .colab-df-convert {\n",
              "      background-color: #E8F0FE;\n",
              "      border: none;\n",
              "      border-radius: 50%;\n",
              "      cursor: pointer;\n",
              "      display: none;\n",
              "      fill: #1967D2;\n",
              "      height: 32px;\n",
              "      padding: 0 0 0 0;\n",
              "      width: 32px;\n",
              "    }\n",
              "\n",
              "    .colab-df-convert:hover {\n",
              "      background-color: #E2EBFA;\n",
              "      box-shadow: 0px 1px 2px rgba(60, 64, 67, 0.3), 0px 1px 3px 1px rgba(60, 64, 67, 0.15);\n",
              "      fill: #174EA6;\n",
              "    }\n",
              "\n",
              "    [theme=dark] .colab-df-convert {\n",
              "      background-color: #3B4455;\n",
              "      fill: #D2E3FC;\n",
              "    }\n",
              "\n",
              "    [theme=dark] .colab-df-convert:hover {\n",
              "      background-color: #434B5C;\n",
              "      box-shadow: 0px 1px 3px 1px rgba(0, 0, 0, 0.15);\n",
              "      filter: drop-shadow(0px 1px 2px rgba(0, 0, 0, 0.3));\n",
              "      fill: #FFFFFF;\n",
              "    }\n",
              "  </style>\n",
              "\n",
              "      <script>\n",
              "        const buttonEl =\n",
              "          document.querySelector('#df-59609ed4-c56c-4124-b744-b7cd231850da button.colab-df-convert');\n",
              "        buttonEl.style.display =\n",
              "          google.colab.kernel.accessAllowed ? 'block' : 'none';\n",
              "\n",
              "        async function convertToInteractive(key) {\n",
              "          const element = document.querySelector('#df-59609ed4-c56c-4124-b744-b7cd231850da');\n",
              "          const dataTable =\n",
              "            await google.colab.kernel.invokeFunction('convertToInteractive',\n",
              "                                                     [key], {});\n",
              "          if (!dataTable) return;\n",
              "\n",
              "          const docLinkHtml = 'Like what you see? Visit the ' +\n",
              "            '<a target=\"_blank\" href=https://colab.research.google.com/notebooks/data_table.ipynb>data table notebook</a>'\n",
              "            + ' to learn more about interactive tables.';\n",
              "          element.innerHTML = '';\n",
              "          dataTable['output_type'] = 'display_data';\n",
              "          await google.colab.output.renderOutput(dataTable, element);\n",
              "          const docLink = document.createElement('div');\n",
              "          docLink.innerHTML = docLinkHtml;\n",
              "          element.appendChild(docLink);\n",
              "        }\n",
              "      </script>\n",
              "    </div>\n",
              "  </div>\n",
              "  "
            ],
            "text/plain": [
              "                 Date  India Price\n",
              "Date                              \n",
              "2005-10-07 2005-10-07        240.0\n",
              "2005-10-14 2005-10-14        240.0\n",
              "2005-10-21 2005-10-21        242.5\n",
              "2005-10-28 2005-10-28        242.5\n",
              "2005-11-04 2005-11-04        250.0"
            ]
          },
          "metadata": {},
          "execution_count": 11
        }
      ]
    },
    {
      "cell_type": "code",
      "source": [
        "del data['Date']"
      ],
      "metadata": {
        "id": "7WRAo-9Sn3rc"
      },
      "execution_count": null,
      "outputs": []
    },
    {
      "cell_type": "code",
      "source": [
        "data.head()"
      ],
      "metadata": {
        "colab": {
          "base_uri": "https://localhost:8080/",
          "height": 238
        },
        "id": "yBpgfB9un6YN",
        "outputId": "4d13308e-8568-4850-873e-ed4628b93f3c"
      },
      "execution_count": null,
      "outputs": [
        {
          "output_type": "execute_result",
          "data": {
            "text/html": [
              "\n",
              "  <div id=\"df-c802f3ac-ccf8-4f6c-af8c-4776a26afc49\">\n",
              "    <div class=\"colab-df-container\">\n",
              "      <div>\n",
              "<style scoped>\n",
              "    .dataframe tbody tr th:only-of-type {\n",
              "        vertical-align: middle;\n",
              "    }\n",
              "\n",
              "    .dataframe tbody tr th {\n",
              "        vertical-align: top;\n",
              "    }\n",
              "\n",
              "    .dataframe thead th {\n",
              "        text-align: right;\n",
              "    }\n",
              "</style>\n",
              "<table border=\"1\" class=\"dataframe\">\n",
              "  <thead>\n",
              "    <tr style=\"text-align: right;\">\n",
              "      <th></th>\n",
              "      <th>India Price</th>\n",
              "    </tr>\n",
              "    <tr>\n",
              "      <th>Date</th>\n",
              "      <th></th>\n",
              "    </tr>\n",
              "  </thead>\n",
              "  <tbody>\n",
              "    <tr>\n",
              "      <th>2005-10-07</th>\n",
              "      <td>240.0</td>\n",
              "    </tr>\n",
              "    <tr>\n",
              "      <th>2005-10-14</th>\n",
              "      <td>240.0</td>\n",
              "    </tr>\n",
              "    <tr>\n",
              "      <th>2005-10-21</th>\n",
              "      <td>242.5</td>\n",
              "    </tr>\n",
              "    <tr>\n",
              "      <th>2005-10-28</th>\n",
              "      <td>242.5</td>\n",
              "    </tr>\n",
              "    <tr>\n",
              "      <th>2005-11-04</th>\n",
              "      <td>250.0</td>\n",
              "    </tr>\n",
              "  </tbody>\n",
              "</table>\n",
              "</div>\n",
              "      <button class=\"colab-df-convert\" onclick=\"convertToInteractive('df-c802f3ac-ccf8-4f6c-af8c-4776a26afc49')\"\n",
              "              title=\"Convert this dataframe to an interactive table.\"\n",
              "              style=\"display:none;\">\n",
              "        \n",
              "  <svg xmlns=\"http://www.w3.org/2000/svg\" height=\"24px\"viewBox=\"0 0 24 24\"\n",
              "       width=\"24px\">\n",
              "    <path d=\"M0 0h24v24H0V0z\" fill=\"none\"/>\n",
              "    <path d=\"M18.56 5.44l.94 2.06.94-2.06 2.06-.94-2.06-.94-.94-2.06-.94 2.06-2.06.94zm-11 1L8.5 8.5l.94-2.06 2.06-.94-2.06-.94L8.5 2.5l-.94 2.06-2.06.94zm10 10l.94 2.06.94-2.06 2.06-.94-2.06-.94-.94-2.06-.94 2.06-2.06.94z\"/><path d=\"M17.41 7.96l-1.37-1.37c-.4-.4-.92-.59-1.43-.59-.52 0-1.04.2-1.43.59L10.3 9.45l-7.72 7.72c-.78.78-.78 2.05 0 2.83L4 21.41c.39.39.9.59 1.41.59.51 0 1.02-.2 1.41-.59l7.78-7.78 2.81-2.81c.8-.78.8-2.07 0-2.86zM5.41 20L4 18.59l7.72-7.72 1.47 1.35L5.41 20z\"/>\n",
              "  </svg>\n",
              "      </button>\n",
              "      \n",
              "  <style>\n",
              "    .colab-df-container {\n",
              "      display:flex;\n",
              "      flex-wrap:wrap;\n",
              "      gap: 12px;\n",
              "    }\n",
              "\n",
              "    .colab-df-convert {\n",
              "      background-color: #E8F0FE;\n",
              "      border: none;\n",
              "      border-radius: 50%;\n",
              "      cursor: pointer;\n",
              "      display: none;\n",
              "      fill: #1967D2;\n",
              "      height: 32px;\n",
              "      padding: 0 0 0 0;\n",
              "      width: 32px;\n",
              "    }\n",
              "\n",
              "    .colab-df-convert:hover {\n",
              "      background-color: #E2EBFA;\n",
              "      box-shadow: 0px 1px 2px rgba(60, 64, 67, 0.3), 0px 1px 3px 1px rgba(60, 64, 67, 0.15);\n",
              "      fill: #174EA6;\n",
              "    }\n",
              "\n",
              "    [theme=dark] .colab-df-convert {\n",
              "      background-color: #3B4455;\n",
              "      fill: #D2E3FC;\n",
              "    }\n",
              "\n",
              "    [theme=dark] .colab-df-convert:hover {\n",
              "      background-color: #434B5C;\n",
              "      box-shadow: 0px 1px 3px 1px rgba(0, 0, 0, 0.15);\n",
              "      filter: drop-shadow(0px 1px 2px rgba(0, 0, 0, 0.3));\n",
              "      fill: #FFFFFF;\n",
              "    }\n",
              "  </style>\n",
              "\n",
              "      <script>\n",
              "        const buttonEl =\n",
              "          document.querySelector('#df-c802f3ac-ccf8-4f6c-af8c-4776a26afc49 button.colab-df-convert');\n",
              "        buttonEl.style.display =\n",
              "          google.colab.kernel.accessAllowed ? 'block' : 'none';\n",
              "\n",
              "        async function convertToInteractive(key) {\n",
              "          const element = document.querySelector('#df-c802f3ac-ccf8-4f6c-af8c-4776a26afc49');\n",
              "          const dataTable =\n",
              "            await google.colab.kernel.invokeFunction('convertToInteractive',\n",
              "                                                     [key], {});\n",
              "          if (!dataTable) return;\n",
              "\n",
              "          const docLinkHtml = 'Like what you see? Visit the ' +\n",
              "            '<a target=\"_blank\" href=https://colab.research.google.com/notebooks/data_table.ipynb>data table notebook</a>'\n",
              "            + ' to learn more about interactive tables.';\n",
              "          element.innerHTML = '';\n",
              "          dataTable['output_type'] = 'display_data';\n",
              "          await google.colab.output.renderOutput(dataTable, element);\n",
              "          const docLink = document.createElement('div');\n",
              "          docLink.innerHTML = docLinkHtml;\n",
              "          element.appendChild(docLink);\n",
              "        }\n",
              "      </script>\n",
              "    </div>\n",
              "  </div>\n",
              "  "
            ],
            "text/plain": [
              "            India Price\n",
              "Date                   \n",
              "2005-10-07        240.0\n",
              "2005-10-14        240.0\n",
              "2005-10-21        242.5\n",
              "2005-10-28        242.5\n",
              "2005-11-04        250.0"
            ]
          },
          "metadata": {},
          "execution_count": 13
        }
      ]
    },
    {
      "cell_type": "code",
      "source": [
        "data.index"
      ],
      "metadata": {
        "colab": {
          "base_uri": "https://localhost:8080/"
        },
        "id": "89rhpeyRn8zw",
        "outputId": "b94db5a7-3497-4a6b-c0de-847687311876"
      },
      "execution_count": null,
      "outputs": [
        {
          "output_type": "execute_result",
          "data": {
            "text/plain": [
              "DatetimeIndex(['2005-10-07', '2005-10-14', '2005-10-21', '2005-10-28',\n",
              "               '2005-11-04', '2005-11-11', '2005-11-18', '2005-11-25',\n",
              "               '2005-12-02', '2005-12-09',\n",
              "               ...\n",
              "               '2021-02-19', '2021-02-26', '2021-03-05', '2021-03-12',\n",
              "               '2021-03-19', '2021-03-26', '2021-04-02', '2021-04-09',\n",
              "               '2021-04-16', '2021-04-23'],\n",
              "              dtype='datetime64[ns]', name='Date', length=796, freq=None)"
            ]
          },
          "metadata": {},
          "execution_count": 14
        }
      ]
    },
    {
      "cell_type": "code",
      "source": [
        "data.plot()"
      ],
      "metadata": {
        "colab": {
          "base_uri": "https://localhost:8080/",
          "height": 286
        },
        "id": "JKrGnu-Rn_M1",
        "outputId": "3a62df3c-23d6-472f-bf10-8da9f9aa5893"
      },
      "execution_count": null,
      "outputs": [
        {
          "output_type": "execute_result",
          "data": {
            "text/plain": [
              "<matplotlib.axes._subplots.AxesSubplot at 0x7fe515a74810>"
            ]
          },
          "metadata": {},
          "execution_count": 15
        },
        {
          "output_type": "display_data",
          "data": {
            "image/png": "[encoded data removed]",
            "text/plain": [
              "<Figure size 432x288 with 1 Axes>"
            ]
          },
          "metadata": {
            "needs_background": "light"
          }
        }
      ]
    },
    {
      "cell_type": "markdown",
      "source": [
        "SPLITTING DATA INTO TRAIN AND TEST SET"
      ],
      "metadata": {
        "id": "CbU8P46t_QQS"
      }
    },
    {
      "cell_type": "code",
      "source": [
        "train=data[:670]"
      ],
      "metadata": {
        "id": "DD_P6Z76oHIn"
      },
      "execution_count": null,
      "outputs": []
    },
    {
      "cell_type": "code",
      "source": [
        "test=data[670:]"
      ],
      "metadata": {
        "id": "3YweVgS3qHmG"
      },
      "execution_count": null,
      "outputs": []
    },
    {
      "cell_type": "code",
      "source": [
        "len(train),len(test)"
      ],
      "metadata": {
        "colab": {
          "base_uri": "https://localhost:8080/"
        },
        "id": "POKH-TW_qLz8",
        "outputId": "54385718-3042-4faa-853f-5d6a99eb19ec"
      },
      "execution_count": null,
      "outputs": [
        {
          "output_type": "execute_result",
          "data": {
            "text/plain": [
              "(670, 126)"
            ]
          },
          "metadata": {},
          "execution_count": 18
        }
      ]
    },
    {
      "cell_type": "markdown",
      "source": [
        "FEATURE SCALING OF DATA"
      ],
      "metadata": {
        "id": "SOoasFV-_W3S"
      }
    },
    {
      "cell_type": "code",
      "source": [
        "from sklearn.preprocessing import MinMaxScaler\n",
        "scaler=MinMaxScaler()\n",
        "# to convert data between scale of 0 to 1"
      ],
      "metadata": {
        "id": "G7CcMpfYqOXB"
      },
      "execution_count": null,
      "outputs": []
    },
    {
      "cell_type": "code",
      "source": [
        "data.head(),data.tail()"
      ],
      "metadata": {
        "colab": {
          "base_uri": "https://localhost:8080/"
        },
        "id": "qclqazVwqQm0",
        "outputId": "d979b883-5ccf-4d1c-84dc-8fa62b5661f8"
      },
      "execution_count": null,
      "outputs": [
        {
          "output_type": "execute_result",
          "data": {
            "text/plain": [
              "(            India Price\n",
              " Date                   \n",
              " 2005-10-07        240.0\n",
              " 2005-10-14        240.0\n",
              " 2005-10-21        242.5\n",
              " 2005-10-28        242.5\n",
              " 2005-11-04        250.0,             India Price\n",
              " Date                   \n",
              " 2021-03-26        274.0\n",
              " 2021-04-02        274.0\n",
              " 2021-04-09        276.0\n",
              " 2021-04-16        275.0\n",
              " 2021-04-23        275.0)"
            ]
          },
          "metadata": {},
          "execution_count": 20
        }
      ]
    },
    {
      "cell_type": "code",
      "source": [
        "scaler.fit(train) #fit scaler object on training test #cals std ,max,min value"
      ],
      "metadata": {
        "colab": {
          "base_uri": "https://localhost:8080/"
        },
        "id": "bIDMqo00qS2J",
        "outputId": "3a26c902-fb23-4a08-c4d1-8301df412c98"
      },
      "execution_count": null,
      "outputs": [
        {
          "output_type": "execute_result",
          "data": {
            "text/plain": [
              "MinMaxScaler()"
            ]
          },
          "metadata": {},
          "execution_count": 22
        }
      ]
    },
    {
      "cell_type": "code",
      "source": [
        "#transform the train and test in scalar object values\n",
        "scaled_train=scaler.transform(train)\n",
        "scaled_test=scaler.transform(test)"
      ],
      "metadata": {
        "id": "-gonY5njqVsg"
      },
      "execution_count": null,
      "outputs": []
    },
    {
      "cell_type": "code",
      "source": [
        "scaled_train[:10] # its an array"
      ],
      "metadata": {
        "colab": {
          "base_uri": "https://localhost:8080/"
        },
        "id": "YxKxsQe6qYHJ",
        "outputId": "43e45145-406e-4b44-947a-3e487c67a686"
      },
      "execution_count": null,
      "outputs": [
        {
          "output_type": "execute_result",
          "data": {
            "text/plain": [
              "array([[0.19170984],\n",
              "       [0.19170984],\n",
              "       [0.19689119],\n",
              "       [0.19689119],\n",
              "       [0.21243523],\n",
              "       [0.22797927],\n",
              "       [0.23834197],\n",
              "       [0.24352332],\n",
              "       [0.24352332],\n",
              "       [0.24870466]])"
            ]
          },
          "metadata": {},
          "execution_count": 24
        }
      ]
    },
    {
      "cell_type": "code",
      "source": [
        "scaled_test[:10]"
      ],
      "metadata": {
        "colab": {
          "base_uri": "https://localhost:8080/"
        },
        "id": "-o4LF5cTqaKi",
        "outputId": "1c5fc095-04a0-4884-f7f6-207208067fbe"
      },
      "execution_count": null,
      "outputs": [
        {
          "output_type": "execute_result",
          "data": {
            "text/plain": [
              "array([[0.58549223],\n",
              "       [0.50259067],\n",
              "       [0.39896373],\n",
              "       [0.28290155],\n",
              "       [0.24766839],\n",
              "       [0.21243523],\n",
              "       [0.18756477],\n",
              "       [0.17202073],\n",
              "       [0.1761658 ],\n",
              "       [0.17720207]])"
            ]
          },
          "metadata": {},
          "execution_count": 25
        }
      ]
    },
    {
      "cell_type": "markdown",
      "source": [
        "TIME SERIES ANALYSIS USING TENSORFLOW'S TIME SERIES GENERATOR"
      ],
      "metadata": {
        "id": "AzMwiF6N_uJ6"
      }
    },
    {
      "cell_type": "code",
      "source": [
        "from keras.preprocessing.sequence import TimeseriesGenerator"
      ],
      "metadata": {
        "id": "xqX0fJGoqcex"
      },
      "execution_count": null,
      "outputs": []
    },
    {
      "cell_type": "code",
      "source": [
        "#define generator \n",
        "#given data is weekly \n",
        "#3 months=12 weeks data\n",
        "n_input=12\n",
        "n_features=1 #only 1 feature in the data\n",
        "generator=TimeseriesGenerator(scaled_train,scaled_train,length=n_input,batch_size=1)"
      ],
      "metadata": {
        "id": "4xozGnfiqgDH"
      },
      "execution_count": null,
      "outputs": []
    },
    {
      "cell_type": "code",
      "source": [
        "X,y=generator[0]\n",
        "print(f'Given the array: \\n{X.flatten()}')\n",
        "print(f'Predict the y: \\n {y}')\n",
        "#Given values of 3 months in array ie,12 weeks\n",
        "#predicts 13th week's value"
      ],
      "metadata": {
        "colab": {
          "base_uri": "https://localhost:8080/"
        },
        "id": "phQyHFqgqzv_",
        "outputId": "ca2f877e-748a-469b-b80a-e758b517320d"
      },
      "execution_count": null,
      "outputs": [
        {
          "output_type": "stream",
          "name": "stdout",
          "text": [
            "Given the array: \n",
            "[0.19170984 0.19170984 0.19689119 0.19689119 0.21243523 0.22797927\n",
            " 0.23834197 0.24352332 0.24352332 0.24870466 0.25388601 0.25388601]\n",
            "Predict the y: \n",
            " [[0.26943005]]\n"
          ]
        }
      ]
    },
    {
      "cell_type": "markdown",
      "source": [
        "A PREVIEW OF HOW PREDICTIONS ARE MADE, GIVEN 12 WEEKS DATA ,THE MODEL PREDICTS THE 13th WEEK'S DATA"
      ],
      "metadata": {
        "id": "JDLaabGsAB87"
      }
    },
    {
      "cell_type": "code",
      "source": [
        "X,y=generator[1] #take values #from 2nd week and predict the 14th week and so on\n",
        "print(f'Given the array: \\n{X.flatten()}')\n",
        "print(f'Predict the y: \\n {y}')\n",
        "#Given values of 3 months in array ie,12 weeks\n",
        "#predicts 13th week's value"
      ],
      "metadata": {
        "colab": {
          "base_uri": "https://localhost:8080/"
        },
        "id": "uRemg7m7rtPV",
        "outputId": "ab3d60be-863c-4c49-b7fc-f07bbd3399a9"
      },
      "execution_count": null,
      "outputs": [
        {
          "output_type": "stream",
          "name": "stdout",
          "text": [
            "Given the array: \n",
            "[0.19170984 0.19689119 0.19689119 0.21243523 0.22797927 0.23834197\n",
            " 0.24352332 0.24352332 0.24870466 0.25388601 0.25388601 0.26943005]\n",
            "Predict the y: \n",
            " [[0.26943005]]\n"
          ]
        }
      ]
    },
    {
      "cell_type": "code",
      "source": [
        "X.shape"
      ],
      "metadata": {
        "colab": {
          "base_uri": "https://localhost:8080/"
        },
        "id": "_T-Ligx_rZ2J",
        "outputId": "e14656b2-817f-474b-e221-1b6c87f8d016"
      },
      "execution_count": null,
      "outputs": [
        {
          "output_type": "execute_result",
          "data": {
            "text/plain": [
              "(1, 12, 1)"
            ]
          },
          "metadata": {},
          "execution_count": 35
        }
      ]
    },
    {
      "cell_type": "markdown",
      "source": [
        "CREATING A LSTM MODEL USING KERAS LIBRARY FROM TENSORFLOW"
      ],
      "metadata": {
        "id": "MV4ef2PWAdVP"
      }
    },
    {
      "cell_type": "code",
      "source": [
        "from keras.models import Sequential\n",
        "from keras.layers import Dense\n",
        "from keras.layers import LSTM\n",
        "#calling models\n",
        "#layers added sequential"
      ],
      "metadata": {
        "id": "eEaLDwdSsdgR"
      },
      "execution_count": null,
      "outputs": []
    },
    {
      "cell_type": "code",
      "source": [
        "#define model\n",
        "model=Sequential()"
      ],
      "metadata": {
        "id": "hhvFGm4As7-F"
      },
      "execution_count": null,
      "outputs": []
    },
    {
      "cell_type": "code",
      "source": [
        "#LSTM layer with 100 neurons , activation function relu and input shape of data\n",
        "model.add(LSTM(100,activation='relu',input_shape=(n_input,n_features)))\n",
        "model.add(Dense(1)) # model layer final\n",
        "model.compile(optimizer='adam',loss='mse')"
      ],
      "metadata": {
        "id": "-KXWLqY-tCKz"
      },
      "execution_count": null,
      "outputs": []
    },
    {
      "cell_type": "code",
      "source": [
        "model.summary()"
      ],
      "metadata": {
        "id": "9hwxqQu1t-wL",
        "colab": {
          "base_uri": "https://localhost:8080/"
        },
        "outputId": "9b360812-7ba8-4221-a142-ce7e45181989"
      },
      "execution_count": null,
      "outputs": [
        {
          "output_type": "stream",
          "name": "stdout",
          "text": [
            "Model: \"sequential_1\"\n",
            "_________________________________________________________________\n",
            " Layer (type)                Output Shape              Param #   \n",
            "=================================================================\n",
            " lstm_2 (LSTM)               (None, 100)               40800     \n",
            "                                                                 \n",
            " dense_1 (Dense)             (None, 1)                 101       \n",
            "                                                                 \n",
            "=================================================================\n",
            "Total params: 40,901\n",
            "Trainable params: 40,901\n",
            "Non-trainable params: 0\n",
            "_________________________________________________________________\n"
          ]
        }
      ]
    },
    {
      "cell_type": "code",
      "source": [
        "#fit model\n",
        "model.fit(generator,epochs=50)"
      ],
      "metadata": {
        "id": "saYeOIETuTPf",
        "colab": {
          "base_uri": "https://localhost:8080/"
        },
        "outputId": "115df2e8-e65f-4f1c-85f1-6f35f7235163"
      },
      "execution_count": null,
      "outputs": [
        {
          "output_type": "stream",
          "name": "stdout",
          "text": [
            "Epoch 1/50\n",
            "658/658 [==============================] - 5s 6ms/step - loss: 0.0120\n",
            "Epoch 2/50\n",
            "658/658 [==============================] - 5s 8ms/step - loss: 0.0041\n",
            "Epoch 3/50\n",
            "658/658 [==============================] - 4s 5ms/step - loss: 0.0024\n",
            "Epoch 4/50\n",
            "658/658 [==============================] - 4s 6ms/step - loss: 0.0019\n",
            "Epoch 5/50\n",
            "658/658 [==============================] - 4s 5ms/step - loss: 0.0015\n",
            "Epoch 6/50\n",
            "658/658 [==============================] - 4s 6ms/step - loss: 0.0013\n",
            "Epoch 7/50\n",
            "658/658 [==============================] - 4s 5ms/step - loss: 0.0013\n",
            "Epoch 8/50\n",
            "658/658 [==============================] - 4s 5ms/step - loss: 0.0011\n",
            "Epoch 9/50\n",
            "658/658 [==============================] - 4s 5ms/step - loss: 0.0011\n",
            "Epoch 10/50\n",
            "658/658 [==============================] - 4s 5ms/step - loss: 0.0011\n",
            "Epoch 11/50\n",
            "658/658 [==============================] - 3s 5ms/step - loss: 9.6730e-04\n",
            "Epoch 12/50\n",
            "658/658 [==============================] - 4s 6ms/step - loss: 9.4853e-04\n",
            "Epoch 13/50\n",
            "658/658 [==============================] - 3s 5ms/step - loss: 9.5938e-04\n",
            "Epoch 14/50\n",
            "658/658 [==============================] - 4s 5ms/step - loss: 0.0010\n",
            "Epoch 15/50\n",
            "658/658 [==============================] - 3s 5ms/step - loss: 9.8022e-04\n",
            "Epoch 16/50\n",
            "658/658 [==============================] - 4s 6ms/step - loss: 9.9399e-04\n",
            "Epoch 17/50\n",
            "658/658 [==============================] - 4s 6ms/step - loss: 8.9594e-04\n",
            "Epoch 18/50\n",
            "658/658 [==============================] - 4s 5ms/step - loss: 8.7874e-04\n",
            "Epoch 19/50\n",
            "658/658 [==============================] - 4s 6ms/step - loss: 9.3833e-04\n",
            "Epoch 20/50\n",
            "658/658 [==============================] - 4s 6ms/step - loss: 9.0330e-04\n",
            "Epoch 21/50\n",
            "658/658 [==============================] - 4s 5ms/step - loss: 8.4585e-04\n",
            "Epoch 22/50\n",
            "658/658 [==============================] - 4s 6ms/step - loss: 8.6868e-04\n",
            "Epoch 23/50\n",
            "658/658 [==============================] - 4s 5ms/step - loss: 8.7201e-04\n",
            "Epoch 24/50\n",
            "658/658 [==============================] - 4s 5ms/step - loss: 8.5818e-04\n",
            "Epoch 25/50\n",
            "658/658 [==============================] - 3s 5ms/step - loss: 8.4088e-04\n",
            "Epoch 26/50\n",
            "658/658 [==============================] - 3s 5ms/step - loss: 8.8778e-04\n",
            "Epoch 27/50\n",
            "658/658 [==============================] - 4s 5ms/step - loss: 8.1688e-04\n",
            "Epoch 28/50\n",
            "658/658 [==============================] - 4s 5ms/step - loss: 8.4642e-04\n",
            "Epoch 29/50\n",
            "658/658 [==============================] - 4s 5ms/step - loss: 8.8140e-04\n",
            "Epoch 30/50\n",
            "658/658 [==============================] - 4s 5ms/step - loss: 7.9376e-04\n",
            "Epoch 31/50\n",
            "658/658 [==============================] - 4s 6ms/step - loss: 7.8730e-04\n",
            "Epoch 32/50\n",
            "658/658 [==============================] - 5s 8ms/step - loss: 8.6524e-04\n",
            "Epoch 33/50\n",
            "658/658 [==============================] - 4s 5ms/step - loss: 7.8433e-04\n",
            "Epoch 34/50\n",
            "658/658 [==============================] - 4s 5ms/step - loss: 8.4533e-04\n",
            "Epoch 35/50\n",
            "658/658 [==============================] - 3s 5ms/step - loss: 7.9138e-04\n",
            "Epoch 36/50\n",
            "658/658 [==============================] - 3s 5ms/step - loss: 7.9452e-04\n",
            "Epoch 37/50\n",
            "658/658 [==============================] - 4s 5ms/step - loss: 7.9396e-04\n",
            "Epoch 38/50\n",
            "658/658 [==============================] - 4s 5ms/step - loss: 8.0408e-04\n",
            "Epoch 39/50\n",
            "658/658 [==============================] - 4s 6ms/step - loss: 8.0631e-04\n",
            "Epoch 40/50\n",
            "658/658 [==============================] - 4s 6ms/step - loss: 8.2751e-04\n",
            "Epoch 41/50\n",
            "658/658 [==============================] - 4s 5ms/step - loss: 8.2005e-04\n",
            "Epoch 42/50\n",
            "658/658 [==============================] - 4s 5ms/step - loss: 8.0335e-04\n",
            "Epoch 43/50\n",
            "658/658 [==============================] - 4s 6ms/step - loss: 8.0544e-04\n",
            "Epoch 44/50\n",
            "658/658 [==============================] - 4s 6ms/step - loss: 8.3699e-04\n",
            "Epoch 45/50\n",
            "658/658 [==============================] - 3s 5ms/step - loss: 7.5960e-04\n",
            "Epoch 46/50\n",
            "658/658 [==============================] - 4s 5ms/step - loss: 7.9664e-04\n",
            "Epoch 47/50\n",
            "658/658 [==============================] - 4s 5ms/step - loss: 8.4443e-04\n",
            "Epoch 48/50\n",
            "658/658 [==============================] - 3s 5ms/step - loss: 7.6703e-04\n",
            "Epoch 49/50\n",
            "658/658 [==============================] - 3s 5ms/step - loss: 8.0431e-04\n",
            "Epoch 50/50\n",
            "658/658 [==============================] - 4s 5ms/step - loss: 8.0797e-04\n"
          ]
        },
        {
          "output_type": "execute_result",
          "data": {
            "text/plain": [
              "<keras.callbacks.History at 0x7fe49bf21b90>"
            ]
          },
          "metadata": {},
          "execution_count": 48
        }
      ]
    },
    {
      "cell_type": "code",
      "source": [
        "loss_per_epoch=model.history.history['loss']\n",
        "plt.plot(range(len(loss_per_epoch)),loss_per_epoch)"
      ],
      "metadata": {
        "colab": {
          "base_uri": "https://localhost:8080/",
          "height": 282
        },
        "id": "kkXpN5EgucBO",
        "outputId": "b8cb764d-0b49-4bba-94a6-b90a4af517d8"
      },
      "execution_count": null,
      "outputs": [
        {
          "output_type": "execute_result",
          "data": {
            "text/plain": [
              "[<matplotlib.lines.Line2D at 0x7fe4993fed90>]"
            ]
          },
          "metadata": {},
          "execution_count": 49
        },
        {
          "output_type": "display_data",
          "data": {
            "image/png": "[encoded data removed]",
            "text/plain": [
              "<Figure size 432x288 with 1 Axes>"
            ]
          },
          "metadata": {
            "needs_background": "light"
          }
        }
      ]
    },
    {
      "cell_type": "markdown",
      "source": [
        "AS EPOCHS BECAME CONSTANT AROUND 15,I COULD HAVE STOPPED MY EPOCHS AT 15."
      ],
      "metadata": {
        "id": "MF9HfCl_B0Mb"
      }
    },
    {
      "cell_type": "markdown",
      "source": [
        "FUTURE PREDICTION- FORECASTING VALUES"
      ],
      "metadata": {
        "id": "lSvXFOcjCFkq"
      }
    },
    {
      "cell_type": "markdown",
      "source": [
        "A PREVIEW OF HOW VALUES WILL BE PREDICTED"
      ],
      "metadata": {
        "id": "0l1JjyDXCMF0"
      }
    },
    {
      "cell_type": "code",
      "source": [
        "last_train_batch= scaled_train[-12:]# last 3 months data of training test to predict the first value of test set"
      ],
      "metadata": {
        "id": "1P9q_lrxw9rX"
      },
      "execution_count": null,
      "outputs": []
    },
    {
      "cell_type": "code",
      "source": [
        "last_train_batch"
      ],
      "metadata": {
        "colab": {
          "base_uri": "https://localhost:8080/"
        },
        "id": "KjYf_KAs67ay",
        "outputId": "5412ec15-1dd4-45cf-c3f3-d141d6427795"
      },
      "execution_count": null,
      "outputs": [
        {
          "output_type": "execute_result",
          "data": {
            "text/plain": [
              "array([[0.47150259],\n",
              "       [0.46735751],\n",
              "       [0.4611399 ],\n",
              "       [0.4611399 ],\n",
              "       [0.45906736],\n",
              "       [0.45906736],\n",
              "       [0.4507772 ],\n",
              "       [0.4611399 ],\n",
              "       [0.47150259],\n",
              "       [0.61761658],\n",
              "       [0.63834197],\n",
              "       [0.62487047]])"
            ]
          },
          "metadata": {},
          "execution_count": 55
        }
      ]
    },
    {
      "cell_type": "code",
      "source": [
        "last_train_batch=last_train_batch.reshape((1,n_input,n_features))"
      ],
      "metadata": {
        "id": "H1ZvBYEgU8bg"
      },
      "execution_count": null,
      "outputs": []
    },
    {
      "cell_type": "code",
      "source": [
        "model.predict(last_train_batch)"
      ],
      "metadata": {
        "colab": {
          "base_uri": "https://localhost:8080/"
        },
        "id": "-6P3CumRh51q",
        "outputId": "a6706287-55ee-475f-c74b-ae5d243aedeb"
      },
      "execution_count": null,
      "outputs": [
        {
          "output_type": "execute_result",
          "data": {
            "text/plain": [
              "array([[0.6261526]], dtype=float32)"
            ]
          },
          "metadata": {},
          "execution_count": 57
        }
      ]
    },
    {
      "cell_type": "code",
      "source": [
        "scaled_test[0]"
      ],
      "metadata": {
        "colab": {
          "base_uri": "https://localhost:8080/"
        },
        "id": "ivFkA10_iETK",
        "outputId": "53308346-a532-4097-d454-6a4e073415ca"
      },
      "execution_count": null,
      "outputs": [
        {
          "output_type": "execute_result",
          "data": {
            "text/plain": [
              "array([0.58549223])"
            ]
          },
          "metadata": {},
          "execution_count": 58
        }
      ]
    },
    {
      "cell_type": "markdown",
      "source": [
        "As we can see the predicted value (0.62) and actual scaled test value(0.58) are close , so the model is predicting good."
      ],
      "metadata": {
        "id": "LYw0-mkpCX1O"
      }
    },
    {
      "cell_type": "markdown",
      "source": [
        "MAKING THE ACTUAL FUTURE PREDICTIONS"
      ],
      "metadata": {
        "id": "7k49aqPfCnr7"
      }
    },
    {
      "cell_type": "code",
      "source": [
        "test_predictions=[]\n",
        "\n",
        "first_batch=scaled_train[-n_input:]\n",
        "curr_batch=first_batch.reshape((1,n_input,n_features))\n",
        "\n",
        "for i in range(len(test)):\n",
        "  #prediction value for first batch\n",
        "  curr_pred=model.predict(curr_batch)[0]\n",
        "  #append prediction into array\n",
        "  test_predictions.append(curr_pred)\n",
        "  curr_batch=np.append(curr_batch[:,1:,:],[[curr_pred]],axis=1)"
      ],
      "metadata": {
        "id": "AFhnaQMDiF6L"
      },
      "execution_count": null,
      "outputs": []
    },
    {
      "cell_type": "code",
      "source": [
        "curr_pred"
      ],
      "metadata": {
        "id": "m0CBtsijHi3K",
        "outputId": "a3c3a48a-f223-41cf-c639-f9edb1bcab12",
        "colab": {
          "base_uri": "https://localhost:8080/"
        }
      },
      "execution_count": null,
      "outputs": [
        {
          "output_type": "execute_result",
          "data": {
            "text/plain": [
              "array([0.51144975], dtype=float32)"
            ]
          },
          "metadata": {},
          "execution_count": 61
        }
      ]
    },
    {
      "cell_type": "code",
      "source": [
        "curr_batch"
      ],
      "metadata": {
        "colab": {
          "base_uri": "https://localhost:8080/"
        },
        "id": "UcVJcAg95LZR",
        "outputId": "1cc8123b-6e10-4665-ff3c-0a3087f47bcc"
      },
      "execution_count": null,
      "outputs": [
        {
          "output_type": "execute_result",
          "data": {
            "text/plain": [
              "array([[[0.51173598],\n",
              "        [0.51169634],\n",
              "        [0.51165682],\n",
              "        [0.51161867],\n",
              "        [0.51158291],\n",
              "        [0.51155049],\n",
              "        [0.51152194],\n",
              "        [0.51149797],\n",
              "        [0.51147872],\n",
              "        [0.51146436],\n",
              "        [0.51145476],\n",
              "        [0.51144975]]])"
            ]
          },
          "metadata": {},
          "execution_count": 62
        }
      ]
    },
    {
      "cell_type": "code",
      "source": [
        "curr_batch"
      ],
      "metadata": {
        "colab": {
          "base_uri": "https://localhost:8080/"
        },
        "id": "zIZeQwM1n8b1",
        "outputId": "1c823a46-4f57-41cf-f10c-44f083cd7c23"
      },
      "execution_count": null,
      "outputs": [
        {
          "output_type": "execute_result",
          "data": {
            "text/plain": [
              "array([[[0.51173598],\n",
              "        [0.51169634],\n",
              "        [0.51165682],\n",
              "        [0.51161867],\n",
              "        [0.51158291],\n",
              "        [0.51155049],\n",
              "        [0.51152194],\n",
              "        [0.51149797],\n",
              "        [0.51147872],\n",
              "        [0.51146436],\n",
              "        [0.51145476],\n",
              "        [0.51144975]]])"
            ]
          },
          "metadata": {},
          "execution_count": 63
        }
      ]
    },
    {
      "cell_type": "code",
      "source": [
        "curr_batch.shape"
      ],
      "metadata": {
        "colab": {
          "base_uri": "https://localhost:8080/"
        },
        "id": "e_8yS-v6iyQj",
        "outputId": "b4133886-4b5e-46de-9a44-594f8dd44942"
      },
      "execution_count": null,
      "outputs": [
        {
          "output_type": "execute_result",
          "data": {
            "text/plain": [
              "(1, 12, 1)"
            ]
          },
          "metadata": {},
          "execution_count": 64
        }
      ]
    },
    {
      "cell_type": "code",
      "source": [
        "curr_pred"
      ],
      "metadata": {
        "colab": {
          "base_uri": "https://localhost:8080/"
        },
        "id": "bXdTjxblj2RB",
        "outputId": "ee833571-ee79-4859-8159-15a160f23260"
      },
      "execution_count": null,
      "outputs": [
        {
          "output_type": "execute_result",
          "data": {
            "text/plain": [
              "array([0.51144975], dtype=float32)"
            ]
          },
          "metadata": {},
          "execution_count": 65
        }
      ]
    },
    {
      "cell_type": "code",
      "source": [
        "test_predictions"
      ],
      "metadata": {
        "colab": {
          "base_uri": "https://localhost:8080/"
        },
        "id": "mbB2nwCtjhQb",
        "outputId": "20b86744-3c6b-4536-8983-ae6c338181e4"
      },
      "execution_count": null,
      "outputs": [
        {
          "output_type": "execute_result",
          "data": {
            "text/plain": [
              "[array([0.6261526], dtype=float32),\n",
              " array([0.614121], dtype=float32),\n",
              " array([0.6066302], dtype=float32),\n",
              " array([0.5971043], dtype=float32),\n",
              " array([0.58640873], dtype=float32),\n",
              " array([0.5745357], dtype=float32),\n",
              " array([0.5619681], dtype=float32),\n",
              " array([0.54907614], dtype=float32),\n",
              " array([0.5363306], dtype=float32),\n",
              " array([0.523056], dtype=float32),\n",
              " array([0.51039], dtype=float32),\n",
              " array([0.49878523], dtype=float32),\n",
              " array([0.48863283], dtype=float32),\n",
              " array([0.48029652], dtype=float32),\n",
              " array([0.47387484], dtype=float32),\n",
              " array([0.4693512], dtype=float32),\n",
              " array([0.46666515], dtype=float32),\n",
              " array([0.46567285], dtype=float32),\n",
              " array([0.466219], dtype=float32),\n",
              " array([0.46811295], dtype=float32),\n",
              " array([0.47114828], dtype=float32),\n",
              " array([0.4751017], dtype=float32),\n",
              " array([0.47975367], dtype=float32),\n",
              " array([0.48488685], dtype=float32),\n",
              " array([0.49029368], dtype=float32),\n",
              " array([0.49578375], dtype=float32),\n",
              " array([0.5011866], dtype=float32),\n",
              " array([0.50635064], dtype=float32),\n",
              " array([0.5111461], dtype=float32),\n",
              " array([0.515467], dtype=float32),\n",
              " array([0.5192304], dtype=float32),\n",
              " array([0.52237767], dtype=float32),\n",
              " array([0.5248733], dtype=float32),\n",
              " array([0.52670455], dtype=float32),\n",
              " array([0.5278796], dtype=float32),\n",
              " array([0.5284264], dtype=float32),\n",
              " array([0.52838975], dtype=float32),\n",
              " array([0.5278284], dtype=float32),\n",
              " array([0.5268119], dtype=float32),\n",
              " array([0.5254175], dtype=float32),\n",
              " array([0.5237273], dtype=float32),\n",
              " array([0.52182513], dtype=float32),\n",
              " array([0.519794], dtype=float32),\n",
              " array([0.5177123], dtype=float32),\n",
              " array([0.51565224], dtype=float32),\n",
              " array([0.5136775], dtype=float32),\n",
              " array([0.5118424], dtype=float32),\n",
              " array([0.5101911], dtype=float32),\n",
              " array([0.5087566], dtype=float32),\n",
              " array([0.5075617], dtype=float32),\n",
              " array([0.5066191], dtype=float32),\n",
              " array([0.50593215], dtype=float32),\n",
              " array([0.5054956], dtype=float32),\n",
              " array([0.50529647], dtype=float32),\n",
              " array([0.50531584], dtype=float32),\n",
              " array([0.5055299], dtype=float32),\n",
              " array([0.50591123], dtype=float32),\n",
              " array([0.50643015], dtype=float32),\n",
              " array([0.5070561], dtype=float32),\n",
              " array([0.50775826], dtype=float32),\n",
              " array([0.50850683], dtype=float32),\n",
              " array([0.5092737], dtype=float32),\n",
              " array([0.51003295], dtype=float32),\n",
              " array([0.5107618], dtype=float32),\n",
              " array([0.5114405], dtype=float32),\n",
              " array([0.51205313], dtype=float32),\n",
              " array([0.51258737], dtype=float32),\n",
              " array([0.51303446], dtype=float32),\n",
              " array([0.5133895], dtype=float32),\n",
              " array([0.5136508], dtype=float32),\n",
              " array([0.5138198], dtype=float32),\n",
              " array([0.5139008], dtype=float32),\n",
              " array([0.5139002], dtype=float32),\n",
              " array([0.51382655], dtype=float32),\n",
              " array([0.5136896], dtype=float32),\n",
              " array([0.51350015], dtype=float32),\n",
              " array([0.51326966], dtype=float32),\n",
              " array([0.5130095], dtype=float32),\n",
              " array([0.51273096], dtype=float32),\n",
              " array([0.5124448], dtype=float32),\n",
              " array([0.5121608], dtype=float32),\n",
              " array([0.51188767], dtype=float32),\n",
              " array([0.511633], dtype=float32),\n",
              " array([0.5114029], dtype=float32),\n",
              " array([0.511202], dtype=float32),\n",
              " array([0.51103354], dtype=float32),\n",
              " array([0.51089954], dtype=float32),\n",
              " array([0.51080054], dtype=float32),\n",
              " array([0.51073605], dtype=float32),\n",
              " array([0.5107044], dtype=float32),\n",
              " array([0.5107032], dtype=float32),\n",
              " array([0.5107293], dtype=float32),\n",
              " array([0.51077914], dtype=float32),\n",
              " array([0.5108486], dtype=float32),\n",
              " array([0.5109335], dtype=float32),\n",
              " array([0.5110297], dtype=float32),\n",
              " array([0.5111328], dtype=float32),\n",
              " array([0.511239], dtype=float32),\n",
              " array([0.5113446], dtype=float32),\n",
              " array([0.5114465], dtype=float32),\n",
              " array([0.51154166], dtype=float32),\n",
              " array([0.5116279], dtype=float32),\n",
              " array([0.5117035], dtype=float32),\n",
              " array([0.5117671], dtype=float32),\n",
              " array([0.5118179], dtype=float32),\n",
              " array([0.51185566], dtype=float32),\n",
              " array([0.5118806], dtype=float32),\n",
              " array([0.51189315], dtype=float32),\n",
              " array([0.5118943], dtype=float32),\n",
              " array([0.51188517], dtype=float32),\n",
              " array([0.51186705], dtype=float32),\n",
              " array([0.5118415], dtype=float32),\n",
              " array([0.5118101], dtype=float32),\n",
              " array([0.5117744], dtype=float32),\n",
              " array([0.511736], dtype=float32),\n",
              " array([0.51169634], dtype=float32),\n",
              " array([0.5116568], dtype=float32),\n",
              " array([0.5116187], dtype=float32),\n",
              " array([0.5115829], dtype=float32),\n",
              " array([0.5115505], dtype=float32),\n",
              " array([0.51152194], dtype=float32),\n",
              " array([0.511498], dtype=float32),\n",
              " array([0.5114787], dtype=float32),\n",
              " array([0.51146436], dtype=float32),\n",
              " array([0.51145476], dtype=float32),\n",
              " array([0.51144975], dtype=float32)]"
            ]
          },
          "metadata": {},
          "execution_count": 66
        }
      ]
    },
    {
      "cell_type": "code",
      "source": [
        "test.head()"
      ],
      "metadata": {
        "colab": {
          "base_uri": "https://localhost:8080/",
          "height": 238
        },
        "id": "eP5IQEqQuhDe",
        "outputId": "05a7d269-83c3-4cae-a179-f8ec9bf9654d"
      },
      "execution_count": null,
      "outputs": [
        {
          "output_type": "execute_result",
          "data": {
            "text/html": [
              "\n",
              "  <div id=\"df-1cbf5094-7c1f-4988-872f-ef0a1d26343b\">\n",
              "    <div class=\"colab-df-container\">\n",
              "      <div>\n",
              "<style scoped>\n",
              "    .dataframe tbody tr th:only-of-type {\n",
              "        vertical-align: middle;\n",
              "    }\n",
              "\n",
              "    .dataframe tbody tr th {\n",
              "        vertical-align: top;\n",
              "    }\n",
              "\n",
              "    .dataframe thead th {\n",
              "        text-align: right;\n",
              "    }\n",
              "</style>\n",
              "<table border=\"1\" class=\"dataframe\">\n",
              "  <thead>\n",
              "    <tr style=\"text-align: right;\">\n",
              "      <th></th>\n",
              "      <th>India Price</th>\n",
              "    </tr>\n",
              "    <tr>\n",
              "      <th>Date</th>\n",
              "      <th></th>\n",
              "    </tr>\n",
              "  </thead>\n",
              "  <tbody>\n",
              "    <tr>\n",
              "      <th>2018-11-02</th>\n",
              "      <td>430.0</td>\n",
              "    </tr>\n",
              "    <tr>\n",
              "      <th>2018-11-09</th>\n",
              "      <td>390.0</td>\n",
              "    </tr>\n",
              "    <tr>\n",
              "      <th>2018-11-16</th>\n",
              "      <td>340.0</td>\n",
              "    </tr>\n",
              "    <tr>\n",
              "      <th>2018-11-23</th>\n",
              "      <td>284.0</td>\n",
              "    </tr>\n",
              "    <tr>\n",
              "      <th>2018-11-30</th>\n",
              "      <td>267.0</td>\n",
              "    </tr>\n",
              "  </tbody>\n",
              "</table>\n",
              "</div>\n",
              "      <button class=\"colab-df-convert\" onclick=\"convertToInteractive('df-1cbf5094-7c1f-4988-872f-ef0a1d26343b')\"\n",
              "              title=\"Convert this dataframe to an interactive table.\"\n",
              "              style=\"display:none;\">\n",
              "        \n",
              "  <svg xmlns=\"http://www.w3.org/2000/svg\" height=\"24px\"viewBox=\"0 0 24 24\"\n",
              "       width=\"24px\">\n",
              "    <path d=\"M0 0h24v24H0V0z\" fill=\"none\"/>\n",
              "    <path d=\"M18.56 5.44l.94 2.06.94-2.06 2.06-.94-2.06-.94-.94-2.06-.94 2.06-2.06.94zm-11 1L8.5 8.5l.94-2.06 2.06-.94-2.06-.94L8.5 2.5l-.94 2.06-2.06.94zm10 10l.94 2.06.94-2.06 2.06-.94-2.06-.94-.94-2.06-.94 2.06-2.06.94z\"/><path d=\"M17.41 7.96l-1.37-1.37c-.4-.4-.92-.59-1.43-.59-.52 0-1.04.2-1.43.59L10.3 9.45l-7.72 7.72c-.78.78-.78 2.05 0 2.83L4 21.41c.39.39.9.59 1.41.59.51 0 1.02-.2 1.41-.59l7.78-7.78 2.81-2.81c.8-.78.8-2.07 0-2.86zM5.41 20L4 18.59l7.72-7.72 1.47 1.35L5.41 20z\"/>\n",
              "  </svg>\n",
              "      </button>\n",
              "      \n",
              "  <style>\n",
              "    .colab-df-container {\n",
              "      display:flex;\n",
              "      flex-wrap:wrap;\n",
              "      gap: 12px;\n",
              "    }\n",
              "\n",
              "    .colab-df-convert {\n",
              "      background-color: #E8F0FE;\n",
              "      border: none;\n",
              "      border-radius: 50%;\n",
              "      cursor: pointer;\n",
              "      display: none;\n",
              "      fill: #1967D2;\n",
              "      height: 32px;\n",
              "      padding: 0 0 0 0;\n",
              "      width: 32px;\n",
              "    }\n",
              "\n",
              "    .colab-df-convert:hover {\n",
              "      background-color: #E2EBFA;\n",
              "      box-shadow: 0px 1px 2px rgba(60, 64, 67, 0.3), 0px 1px 3px 1px rgba(60, 64, 67, 0.15);\n",
              "      fill: #174EA6;\n",
              "    }\n",
              "\n",
              "    [theme=dark] .colab-df-convert {\n",
              "      background-color: #3B4455;\n",
              "      fill: #D2E3FC;\n",
              "    }\n",
              "\n",
              "    [theme=dark] .colab-df-convert:hover {\n",
              "      background-color: #434B5C;\n",
              "      box-shadow: 0px 1px 3px 1px rgba(0, 0, 0, 0.15);\n",
              "      filter: drop-shadow(0px 1px 2px rgba(0, 0, 0, 0.3));\n",
              "      fill: #FFFFFF;\n",
              "    }\n",
              "  </style>\n",
              "\n",
              "      <script>\n",
              "        const buttonEl =\n",
              "          document.querySelector('#df-1cbf5094-7c1f-4988-872f-ef0a1d26343b button.colab-df-convert');\n",
              "        buttonEl.style.display =\n",
              "          google.colab.kernel.accessAllowed ? 'block' : 'none';\n",
              "\n",
              "        async function convertToInteractive(key) {\n",
              "          const element = document.querySelector('#df-1cbf5094-7c1f-4988-872f-ef0a1d26343b');\n",
              "          const dataTable =\n",
              "            await google.colab.kernel.invokeFunction('convertToInteractive',\n",
              "                                                     [key], {});\n",
              "          if (!dataTable) return;\n",
              "\n",
              "          const docLinkHtml = 'Like what you see? Visit the ' +\n",
              "            '<a target=\"_blank\" href=https://colab.research.google.com/notebooks/data_table.ipynb>data table notebook</a>'\n",
              "            + ' to learn more about interactive tables.';\n",
              "          element.innerHTML = '';\n",
              "          dataTable['output_type'] = 'display_data';\n",
              "          await google.colab.output.renderOutput(dataTable, element);\n",
              "          const docLink = document.createElement('div');\n",
              "          docLink.innerHTML = docLinkHtml;\n",
              "          element.appendChild(docLink);\n",
              "        }\n",
              "      </script>\n",
              "    </div>\n",
              "  </div>\n",
              "  "
            ],
            "text/plain": [
              "            India Price\n",
              "Date                   \n",
              "2018-11-02        430.0\n",
              "2018-11-09        390.0\n",
              "2018-11-16        340.0\n",
              "2018-11-23        284.0\n",
              "2018-11-30        267.0"
            ]
          },
          "metadata": {},
          "execution_count": 52
        }
      ]
    },
    {
      "cell_type": "markdown",
      "source": [
        "SCALING VALUES BACK TO ORIGINAL UNITS"
      ],
      "metadata": {
        "id": "atWDPoDeC0vk"
      }
    },
    {
      "cell_type": "code",
      "source": [
        "true_predictions=scaler.inverse_transform(test_predictions)"
      ],
      "metadata": {
        "id": "AwsK_PsRvNa7"
      },
      "execution_count": null,
      "outputs": []
    },
    {
      "cell_type": "code",
      "source": [
        "test['Predictions']=true_predictions"
      ],
      "metadata": {
        "colab": {
          "base_uri": "https://localhost:8080/"
        },
        "id": "VgG_jQgCxEYx",
        "outputId": "ce97af72-d10f-4677-f47f-f8f79f89dc3c"
      },
      "execution_count": null,
      "outputs": [
        {
          "output_type": "stream",
          "name": "stderr",
          "text": [
            "/usr/local/lib/python3.7/dist-packages/ipykernel_launcher.py:1: SettingWithCopyWarning: \n",
            "A value is trying to be set on a copy of a slice from a DataFrame.\n",
            "Try using .loc[row_indexer,col_indexer] = value instead\n",
            "\n",
            "See the caveats in the documentation: https://pandas.pydata.org/pandas-docs/stable/user_guide/indexing.html#returning-a-view-versus-a-copy\n",
            "  \"\"\"Entry point for launching an IPython kernel.\n"
          ]
        }
      ]
    },
    {
      "cell_type": "markdown",
      "source": [
        "ACTUAL VALUES VS PREDICTED VALUES OF INDIA PRICE"
      ],
      "metadata": {
        "id": "uYE7JDQhDFRB"
      }
    },
    {
      "cell_type": "code",
      "source": [
        "test.head()"
      ],
      "metadata": {
        "colab": {
          "base_uri": "https://localhost:8080/",
          "height": 238
        },
        "id": "tSCz99RvxVgt",
        "outputId": "d7c509a5-5dc3-4752-c510-d03009e2c0f6"
      },
      "execution_count": null,
      "outputs": [
        {
          "output_type": "execute_result",
          "data": {
            "text/html": [
              "\n",
              "  <div id=\"df-db8ec296-8c7f-4bc5-9ff3-b6ef36783a04\">\n",
              "    <div class=\"colab-df-container\">\n",
              "      <div>\n",
              "<style scoped>\n",
              "    .dataframe tbody tr th:only-of-type {\n",
              "        vertical-align: middle;\n",
              "    }\n",
              "\n",
              "    .dataframe tbody tr th {\n",
              "        vertical-align: top;\n",
              "    }\n",
              "\n",
              "    .dataframe thead th {\n",
              "        text-align: right;\n",
              "    }\n",
              "</style>\n",
              "<table border=\"1\" class=\"dataframe\">\n",
              "  <thead>\n",
              "    <tr style=\"text-align: right;\">\n",
              "      <th></th>\n",
              "      <th>India Price</th>\n",
              "      <th>Predictions</th>\n",
              "    </tr>\n",
              "    <tr>\n",
              "      <th>Date</th>\n",
              "      <th></th>\n",
              "      <th></th>\n",
              "    </tr>\n",
              "  </thead>\n",
              "  <tbody>\n",
              "    <tr>\n",
              "      <th>2018-11-02</th>\n",
              "      <td>430.0</td>\n",
              "      <td>449.618617</td>\n",
              "    </tr>\n",
              "    <tr>\n",
              "      <th>2018-11-09</th>\n",
              "      <td>390.0</td>\n",
              "      <td>443.813392</td>\n",
              "    </tr>\n",
              "    <tr>\n",
              "      <th>2018-11-16</th>\n",
              "      <td>340.0</td>\n",
              "      <td>440.199074</td>\n",
              "    </tr>\n",
              "    <tr>\n",
              "      <th>2018-11-23</th>\n",
              "      <td>284.0</td>\n",
              "      <td>435.602830</td>\n",
              "    </tr>\n",
              "    <tr>\n",
              "      <th>2018-11-30</th>\n",
              "      <td>267.0</td>\n",
              "      <td>430.442214</td>\n",
              "    </tr>\n",
              "  </tbody>\n",
              "</table>\n",
              "</div>\n",
              "      <button class=\"colab-df-convert\" onclick=\"convertToInteractive('df-db8ec296-8c7f-4bc5-9ff3-b6ef36783a04')\"\n",
              "              title=\"Convert this dataframe to an interactive table.\"\n",
              "              style=\"display:none;\">\n",
              "        \n",
              "  <svg xmlns=\"http://www.w3.org/2000/svg\" height=\"24px\"viewBox=\"0 0 24 24\"\n",
              "       width=\"24px\">\n",
              "    <path d=\"M0 0h24v24H0V0z\" fill=\"none\"/>\n",
              "    <path d=\"M18.56 5.44l.94 2.06.94-2.06 2.06-.94-2.06-.94-.94-2.06-.94 2.06-2.06.94zm-11 1L8.5 8.5l.94-2.06 2.06-.94-2.06-.94L8.5 2.5l-.94 2.06-2.06.94zm10 10l.94 2.06.94-2.06 2.06-.94-2.06-.94-.94-2.06-.94 2.06-2.06.94z\"/><path d=\"M17.41 7.96l-1.37-1.37c-.4-.4-.92-.59-1.43-.59-.52 0-1.04.2-1.43.59L10.3 9.45l-7.72 7.72c-.78.78-.78 2.05 0 2.83L4 21.41c.39.39.9.59 1.41.59.51 0 1.02-.2 1.41-.59l7.78-7.78 2.81-2.81c.8-.78.8-2.07 0-2.86zM5.41 20L4 18.59l7.72-7.72 1.47 1.35L5.41 20z\"/>\n",
              "  </svg>\n",
              "      </button>\n",
              "      \n",
              "  <style>\n",
              "    .colab-df-container {\n",
              "      display:flex;\n",
              "      flex-wrap:wrap;\n",
              "      gap: 12px;\n",
              "    }\n",
              "\n",
              "    .colab-df-convert {\n",
              "      background-color: #E8F0FE;\n",
              "      border: none;\n",
              "      border-radius: 50%;\n",
              "      cursor: pointer;\n",
              "      display: none;\n",
              "      fill: #1967D2;\n",
              "      height: 32px;\n",
              "      padding: 0 0 0 0;\n",
              "      width: 32px;\n",
              "    }\n",
              "\n",
              "    .colab-df-convert:hover {\n",
              "      background-color: #E2EBFA;\n",
              "      box-shadow: 0px 1px 2px rgba(60, 64, 67, 0.3), 0px 1px 3px 1px rgba(60, 64, 67, 0.15);\n",
              "      fill: #174EA6;\n",
              "    }\n",
              "\n",
              "    [theme=dark] .colab-df-convert {\n",
              "      background-color: #3B4455;\n",
              "      fill: #D2E3FC;\n",
              "    }\n",
              "\n",
              "    [theme=dark] .colab-df-convert:hover {\n",
              "      background-color: #434B5C;\n",
              "      box-shadow: 0px 1px 3px 1px rgba(0, 0, 0, 0.15);\n",
              "      filter: drop-shadow(0px 1px 2px rgba(0, 0, 0, 0.3));\n",
              "      fill: #FFFFFF;\n",
              "    }\n",
              "  </style>\n",
              "\n",
              "      <script>\n",
              "        const buttonEl =\n",
              "          document.querySelector('#df-db8ec296-8c7f-4bc5-9ff3-b6ef36783a04 button.colab-df-convert');\n",
              "        buttonEl.style.display =\n",
              "          google.colab.kernel.accessAllowed ? 'block' : 'none';\n",
              "\n",
              "        async function convertToInteractive(key) {\n",
              "          const element = document.querySelector('#df-db8ec296-8c7f-4bc5-9ff3-b6ef36783a04');\n",
              "          const dataTable =\n",
              "            await google.colab.kernel.invokeFunction('convertToInteractive',\n",
              "                                                     [key], {});\n",
              "          if (!dataTable) return;\n",
              "\n",
              "          const docLinkHtml = 'Like what you see? Visit the ' +\n",
              "            '<a target=\"_blank\" href=https://colab.research.google.com/notebooks/data_table.ipynb>data table notebook</a>'\n",
              "            + ' to learn more about interactive tables.';\n",
              "          element.innerHTML = '';\n",
              "          dataTable['output_type'] = 'display_data';\n",
              "          await google.colab.output.renderOutput(dataTable, element);\n",
              "          const docLink = document.createElement('div');\n",
              "          docLink.innerHTML = docLinkHtml;\n",
              "          element.appendChild(docLink);\n",
              "        }\n",
              "      </script>\n",
              "    </div>\n",
              "  </div>\n",
              "  "
            ],
            "text/plain": [
              "            India Price  Predictions\n",
              "Date                                \n",
              "2018-11-02        430.0   449.618617\n",
              "2018-11-09        390.0   443.813392\n",
              "2018-11-16        340.0   440.199074\n",
              "2018-11-23        284.0   435.602830\n",
              "2018-11-30        267.0   430.442214"
            ]
          },
          "metadata": {},
          "execution_count": 75
        }
      ]
    },
    {
      "cell_type": "code",
      "source": [
        "test.plot()"
      ],
      "metadata": {
        "colab": {
          "base_uri": "https://localhost:8080/",
          "height": 294
        },
        "id": "MsXEy7hHxhhf",
        "outputId": "bd3b6b18-4896-4fda-9ef1-ac3ae03fb913"
      },
      "execution_count": null,
      "outputs": [
        {
          "output_type": "execute_result",
          "data": {
            "text/plain": [
              "<matplotlib.axes._subplots.AxesSubplot at 0x7fe49bdc9410>"
            ]
          },
          "metadata": {},
          "execution_count": 76
        },
        {
          "output_type": "display_data",
          "data": {
            "image/png": "[encoded data removed]",
            "text/plain": [
              "<Figure size 432x288 with 1 Axes>"
            ]
          },
          "metadata": {
            "needs_background": "light"
          }
        }
      ]
    },
    {
      "cell_type": "markdown",
      "source": [
        "CALCULATING ROOT MEAN SQUARE ERROR"
      ],
      "metadata": {
        "id": "NVYdGfyaC8xu"
      }
    },
    {
      "cell_type": "code",
      "source": [
        "from sklearn.metrics import mean_squared_error\n",
        "from math import sqrt"
      ],
      "metadata": {
        "id": "inYH0dbrxq7w"
      },
      "execution_count": null,
      "outputs": []
    },
    {
      "cell_type": "code",
      "source": [
        "error=sqrt(mean_squared_error(test['India Price'],test['Predictions']))"
      ],
      "metadata": {
        "id": "oXOf2lqlyND5"
      },
      "execution_count": null,
      "outputs": []
    },
    {
      "cell_type": "code",
      "source": [
        "print(error)"
      ],
      "metadata": {
        "colab": {
          "base_uri": "https://localhost:8080/"
        },
        "id": "K0fh_ovpylyC",
        "outputId": "9348c766-aa5e-4dff-9c0e-9242b5a5eb56"
      },
      "execution_count": null,
      "outputs": [
        {
          "output_type": "stream",
          "name": "stdout",
          "text": [
            "175.50902517918877\n"
          ]
        }
      ]
    },
    {
      "cell_type": "code",
      "source": [
        ""
      ],
      "metadata": {
        "id": "Zw6_z8HnDOJi"
      },
      "execution_count": null,
      "outputs": []
    }
  ]
}